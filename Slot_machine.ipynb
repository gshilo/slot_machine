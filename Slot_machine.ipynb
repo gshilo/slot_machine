{
  "nbformat": 4,
  "nbformat_minor": 0,
  "metadata": {
    "colab": {
      "name": "Slot_machine",
      "cell_execution_strategy": "setup",
      "provenance": []
    },
    "kernelspec": {
      "name": "python3",
      "display_name": "Python 3"
    },
    "language_info": {
      "name": "python"
    }
  },
  "cells": [
    {
      "cell_type": "markdown",
      "source": [
        "\n",
        "# **Slot Machine**<br>\n",
        "If you are using BigQuery with the on demand billing model where you are billed by bytes scanned, it may be a good idea to switch to the Editions model where you are billed for slots you used.\n",
        "\n",
        "There are Two quite complicated querstions though:\n",
        "\n",
        "\n",
        "1.   Will moving to Editions save me money ?\n",
        "2.   How many slots should I reserve, what is the optimal max_xlots value ?\n",
        "\n",
        "There is no way to be 100% accurate, but this set of queries aims to reduce the guesswork and guide you in finding better answers to the Two questions above.\n",
        "\n",
        "\n",
        "\n"
      ],
      "metadata": {
        "id": "UM7NCS6mPpU6"
      }
    },
    {
      "cell_type": "markdown",
      "source": [
        "**Usage**<br>\n",
        "You should run this in the project you want to test.\n",
        "The process creates several tables and views, if any of them already exists then it will stop with error, since we don't want to accidently delete user's important tables."
      ],
      "metadata": {
        "id": "5wOvhZiARoLC"
      }
    },
    {
      "cell_type": "markdown",
      "source": [
        "**Step 1**<br>\n",
        "First we set some parameters such as region, timeframe and BigQuery edition. We also detect the current project id.\n",
        "\n",
        "Here is a short description of the parameters:\n",
        "\n",
        "- **region**: The region where your dataset is located. INFORMATION_SCHEMA is a regional data source.\n",
        "- **dataset**: the dataset where you want the tables and views related to slot machine to be created. It's a good idea to create a dedicated dataset so we won't accidently overwrite a production table or view.\n",
        "- **start and end timestamp**: We analyze the behavior in a limited timeframe. It should be long enough to contain all regular activity so it should contain at lease few days.\n",
        "- **edition**: BigQuery compute has Three editions when using reservations which are priced differently. Choosing the edition affects total price and available features. You can read more [here](https://cloud.google.com/bigquery/docs/editions-intro).\n",
        "- **verbose**: If true, Slot machine will print out the queries it runs plus additional interim data. If false it will operate quietly without printing out every query and interim result."
      ],
      "metadata": {
        "id": "k_LhcAbq4NCG"
      }
    },
    {
      "cell_type": "code",
      "source": [
        "import google.auth\n",
        "project_id = google.auth.default()[1]\n",
        "region = \"US\" # @param {\"type\":\"string\", \"placeholder\": \"Enter dataset region\"}\n",
        "dataset = \"test2\" # @param {\"type\":\"string\", \"placeholder\": \"Enter the target dataset where objects will be created\"}\n",
        "start_timestamp = \"2024-09-23\" # @param {\"type\":\"date\"}\n",
        "end_timestamp = \"2024-09-30\" # @param {\"type\":\"date\"}\n",
        "edition = \"Enterprise\" # @param [\"Standard\", \"Enterprise\", \"Enterprise plus\"]\n",
        "verbose = True # @param {\"type\":\"boolean\"}"
      ],
      "metadata": {
        "id": "oQumnhKuKTDy",
        "executionInfo": {
          "status": "ok",
          "timestamp": 1728418019197,
          "user_tz": -180,
          "elapsed": 470,
          "user": {
            "displayName": "",
            "userId": ""
          }
        }
      },
      "execution_count": 2,
      "outputs": []
    },
    {
      "cell_type": "markdown",
      "source": [
        "**Step 2**<br>\n",
        "Here we import some python packages and create the dataset if it does not already exist."
      ],
      "metadata": {
        "id": "9McWPU9c4gC2"
      }
    },
    {
      "cell_type": "code",
      "source": [
        "import pandas as pd\n",
        "from google.cloud import bigquery\n",
        "from google.cloud.exceptions import NotFound\n",
        "\n",
        "client = bigquery.Client()\n",
        "my_dataset = bigquery.Dataset(project_id+\".\"+dataset)\n",
        "my_dataset.location = region\n",
        "\n",
        "\n",
        "try:\n",
        "    client.get_dataset(project_id+\".\"+dataset)\n",
        "    print(\"Dataset {} already exists\".format(dataset))\n",
        "except NotFound:\n",
        "    print(\"Dataset {} is not found\".format(dataset), \"creating it.\")\n",
        "    dataset_object = client.create_dataset(my_dataset, timeout=30)"
      ],
      "metadata": {
        "id": "5HEnFFD1o7CJ",
        "executionInfo": {
          "status": "ok",
          "timestamp": 1728418022600,
          "user_tz": -180,
          "elapsed": 1432,
          "user": {
            "displayName": "",
            "userId": ""
          }
        },
        "colab": {
          "base_uri": "https://localhost:8080/"
        },
        "outputId": "cbe636a7-53f8-43a2-9280-2aa277ab3f6e"
      },
      "execution_count": 3,
      "outputs": [
        {
          "output_type": "stream",
          "name": "stdout",
          "text": [
            "Dataset test2 already exists\n"
          ]
        }
      ]
    },
    {
      "cell_type": "markdown",
      "source": [
        "**Step 3**<br>\n",
        "Ceate a table with the on demand consumption for reference. The table name is bytes.<br>\n",
        "We select from INFORMATION_SCHEMA.JOBS to find the total bytes billed during the timeframe and what was the cost in USD.<br>Write down the result."
      ],
      "metadata": {
        "id": "gGfdPMkHGSA2"
      }
    },
    {
      "cell_type": "code",
      "source": [
        "print(dataset)\n",
        "query = \"create table \"+dataset+\".bytes as \"+\"\"\"SELECT\n",
        "  SUM(total_bytes_billed/1024/1024/1024/1024) AS total_tb_billed,\n",
        "  SUM(total_bytes_billed/1024/1024/1024/1024)*6.25 as cost_usd\n",
        "FROM \"\"\"+project_id+\".region-\"+region+\"\"\".INFORMATION_SCHEMA.JOBS\n",
        "WHERE\n",
        "  creation_time BETWEEN CAST(\\\"\"\"\"+start_timestamp+\"\"\"\\\" AS TIMESTAMP)\n",
        "  AND \"\"\"+\"CAST(\\\"\"+end_timestamp+\"\\\" AS TIMESTAMP)\"\n",
        "\n",
        "if verbose:\n",
        "  print(query)\n",
        "\n",
        "df = pd.io.gbq.read_gbq(query=query, project_id=project_id, dialect='standard')"
      ],
      "metadata": {
        "id": "JtC29YYAvYJK",
        "executionInfo": {
          "status": "ok",
          "timestamp": 1728418043850,
          "user_tz": -180,
          "elapsed": 507,
          "user": {
            "displayName": "",
            "userId": ""
          }
        }
      },
      "execution_count": 3,
      "outputs": []
    },
    {
      "cell_type": "markdown",
      "source": [
        "**Step 4**<br>\n",
        "Then we query INFORMATION_SCHEMA.JOBS_TIMELINE on the same time range to see how many slots were used in every second of the time range. We send the result to a table called slots."
      ],
      "metadata": {
        "id": "eg60a_RPoR6b"
      }
    },
    {
      "cell_type": "code",
      "source": [
        "query = \"create table \"+dataset+\".slots as \"+\"\"\"SELECT\n",
        "  period_start,\n",
        "  SUM(period_slot_ms/1000) AS total_slot_ms,\n",
        "FROM\n",
        "  \"\"\"+project_id+\".region-\"+region+\"\"\".INFORMATION_SCHEMA.JOBS_TIMELINE\n",
        "WHERE\n",
        "  period_start BETWEEN CAST(\\\"\"\"\"+start_timestamp+\"\"\"\\\" AS TIMESTAMP)\n",
        "  AND \"\"\"+\"CAST(\\\"\"+end_timestamp+\"\\\" AS TIMESTAMP)\"\"\"\n",
        "\n",
        "query = query + \"\"\"\n",
        "GROUP BY\n",
        "  period_start\n",
        "ORDER BY\n",
        "  period_start DESC\"\"\"\n",
        "\n",
        "if verbose:\n",
        "  print(query)\n",
        "df = pd.io.gbq.read_gbq(query=query, project_id=project_id, dialect='standard')"
      ],
      "metadata": {
        "id": "BKCiC-HYdD0d",
        "executionInfo": {
          "status": "ok",
          "timestamp": 1728418044488,
          "user_tz": -180,
          "elapsed": 17,
          "user": {
            "displayName": "",
            "userId": ""
          }
        }
      },
      "execution_count": 3,
      "outputs": []
    },
    {
      "cell_type": "markdown",
      "source": [
        "**Step 5**<br>\n",
        "We create a dynamic query that creates buckets incremented by 50 from 0 to the highest number of slots used during the selected time period.<br>\n",
        "The original time periods are seconds, so we aggregate the data in Minute granularity and for each minute we take the high<br> watermark of slot usage (since BigQuery autoscaler's minimum is 1 minute).<br><br>\n",
        "Then we assign each minute to a specific bucket according to the maximum slots that ut used.<br>\n",
        "We create a view called bucketed to hold the result and enable further calculations."
      ],
      "metadata": {
        "id": "uyK-sFMX5sPj"
      }
    },
    {
      "cell_type": "code",
      "source": [
        "query1 = \"select max(total_slot_ms) as max_slots from \"+dataset+\".slots\"\n",
        "df = pd.io.gbq.read_gbq(query=query1, project_id=project_id, dialect='standard')\n",
        "max_slots = int(df._get_value(0, 'max_slots'))\n",
        "query2 = \"create view \"+dataset+\".bucketed\"+\"\"\" as SELECT\n",
        "  timestamp_trunc(period_start, MINUTE) as period_start,\n",
        "  max(case\n",
        "when total_slot_ms = 0 then 0\\n\"\"\"\n",
        "for i in range(0, max_slots, 50):\n",
        "  line = \"when total_slot_ms between \"+str(i)+\" and \"+str(i+50)+\" then \"+str(i+50)+'\\n'\n",
        "  query2 = query2 + line\n",
        "query2 = query2 + \"\"\"  end) as bucket\n",
        "FROM \"\"\"+dataset+\"\"\".slots\n",
        "  group by timestamp_trunc(period_start, MINUTE)\"\"\"\n",
        "\n",
        "if verbose:\n",
        "  print(query2)\n",
        "\n",
        "df = pd.io.gbq.read_gbq(query=query2, project_id=project_id, dialect='standard')"
      ],
      "metadata": {
        "id": "hR7o0v4Hd0f3",
        "executionInfo": {
          "status": "ok",
          "timestamp": 1728418044489,
          "user_tz": -180,
          "elapsed": 17,
          "user": {
            "displayName": "",
            "userId": ""
          }
        }
      },
      "execution_count": 3,
      "outputs": []
    },
    {
      "cell_type": "markdown",
      "source": [
        "**Step 6**<br>\n",
        "Here we create a view called buckets_count that shows hoe many time periods (minutes) fall into each bucket.<br>\n",
        "Then we print the contents of the view."
      ],
      "metadata": {
        "id": "hB8ZVTWwAV7g"
      }
    },
    {
      "cell_type": "code",
      "source": [
        "query = \"create view \"+dataset+\"\"\".buckets_count as SELECT\n",
        "  bucket,\n",
        "  COUNT(*) as periods,\n",
        "FROM `\"\"\"+project_id+\".\"+dataset+\"\"\".bucketed`\n",
        "where bucket is not null\n",
        "GROUP BY\n",
        "  bucket\"\"\"\n",
        "\n",
        "if verbose:\n",
        "  print(query)\n",
        "\n",
        "df = pd.io.gbq.read_gbq(query=query, project_id=project_id, dialect='standard')\n",
        "query = 'select * from '+dataset+\".buckets_count order by bucket\"\n",
        "\n",
        "if verbose:\n",
        "  print(query)\n",
        "df = pd.io.gbq.read_gbq(query=query, project_id=project_id, dialect='standard')\n",
        "print(df)"
      ],
      "metadata": {
        "id": "PvRkZok7eHMx",
        "executionInfo": {
          "status": "ok",
          "timestamp": 1728418044489,
          "user_tz": -180,
          "elapsed": 16,
          "user": {
            "displayName": "",
            "userId": ""
          }
        }
      },
      "execution_count": 3,
      "outputs": []
    },
    {
      "cell_type": "markdown",
      "source": [
        "For our next calculations we need to know Two numbers:\n",
        "\n",
        "\n",
        "1.   How many hours there are in our timeframe\n",
        "2.   How many time periods we have\n",
        "\n",
        "So steps 7 and 8 find those values.\n",
        "\n",
        "\n",
        "\n"
      ],
      "metadata": {
        "id": "PdAz0WMoChFM"
      }
    },
    {
      "cell_type": "markdown",
      "source": [
        "**Step 7**<br>\n",
        "Calculate how many hours we have in the chosen time frame."
      ],
      "metadata": {
        "id": "0uTDf2dtBhq0"
      }
    },
    {
      "cell_type": "code",
      "source": [
        "from datetime import datetime\n",
        "date_format = '%Y-%m-%d'\n",
        "diff = datetime.strptime(end_timestamp,date_format) - datetime.strptime(start_timestamp, date_format)\n",
        "hours = diff.days * 24 + diff.seconds / 3600\n",
        "if verbose:\n",
        "  print(\"hours: \"+str(hours))"
      ],
      "metadata": {
        "id": "znsJmnaRi_OS",
        "executionInfo": {
          "status": "ok",
          "timestamp": 1728418044489,
          "user_tz": -180,
          "elapsed": 15,
          "user": {
            "displayName": "",
            "userId": ""
          }
        }
      },
      "execution_count": 3,
      "outputs": []
    },
    {
      "cell_type": "markdown",
      "source": [
        "**Step 8**<br>\n",
        "Calculate how many time slots we have."
      ],
      "metadata": {
        "id": "68WBq6DnDAGK"
      }
    },
    {
      "cell_type": "code",
      "source": [
        "query = \"select count(*) as periods from \"+dataset+\".bucketed\"\n",
        "df = pd.io.gbq.read_gbq(query=query, project_id=project_id, dialect='standard')\n",
        "periods = df._get_value(0, 'periods')\n",
        "if verbose:\n",
        "  print(\"periods: \"+str(periods))"
      ],
      "metadata": {
        "id": "n4UOfEKHC1Ha",
        "executionInfo": {
          "status": "ok",
          "timestamp": 1728418044489,
          "user_tz": -180,
          "elapsed": 15,
          "user": {
            "displayName": "",
            "userId": ""
          }
        }
      },
      "execution_count": 3,
      "outputs": []
    },
    {
      "cell_type": "markdown",
      "source": [
        "**Step 9**<br>\n",
        "This is the heart of our calculation.<br><br>\n",
        "We know how many hours were in the selected timeframe and how many time periods we had during this timeframe.\n",
        "So we can calculate what is the percentage of all the time that we used each bucket.<br>\n",
        "If we know the percentage of time and we know how many wours we had in the timeframe then we can calculate how many hours each bucket was active.<br>\n",
        "And we know how much each slot/hour costs for each BigQuery edition so we can calculate the cost each bucket incured.\n",
        "\n",
        "So here we create a view called calculated that holds the bucket, the percentage of all time that this bucket was used, how many hours it was used, and how much we would be charged for it if we use the selected edition."
      ],
      "metadata": {
        "id": "IerxqG84D_ji"
      }
    },
    {
      "cell_type": "code",
      "source": [
        "if edition == 'Enterprise':\n",
        "  price = 0.06\n",
        "elif edition == 'Enterprise plus':\n",
        "  price = 0.1\n",
        "else:\n",
        "  peice = 0.04\n",
        "\n",
        "query = \"create view \"+dataset+\"\"\".calculated as SELECT\n",
        "  bucket,\n",
        "  round(periods/\"\"\"+str(periods)+\"\"\"*100, 3) as percentage,\n",
        "  round(periods/\"\"\"+str(periods)+\"*100/100*\"+str(hours)+\"\"\", 3) as hours,\n",
        "  round(periods/\"\"\"+str(periods)+\"*100/100*\"+str(hours)+\"*bucket*\"+str(price)+\"\"\", 3) as cost_usd\n",
        "FROM\n",
        "  `\"\"\"+project_id+\".\"+dataset+\"\"\".buckets_count`\n",
        "  order by bucket\"\"\"\n",
        "\n",
        "if verbose:\n",
        "  print(query)\n",
        "\n",
        "df = pd.io.gbq.read_gbq(query=query, project_id=project_id, dialect='standard')"
      ],
      "metadata": {
        "id": "lpMDkjb3bqIo",
        "executionInfo": {
          "status": "ok",
          "timestamp": 1728418044489,
          "user_tz": -180,
          "elapsed": 14,
          "user": {
            "displayName": "",
            "userId": ""
          }
        }
      },
      "execution_count": 3,
      "outputs": []
    },
    {
      "cell_type": "markdown",
      "source": [
        "**Let's see how it looks like.**"
      ],
      "metadata": {
        "id": "lptkZlWMFH1o"
      }
    },
    {
      "cell_type": "code",
      "source": [
        "query = \"select * from \"+dataset+\".calculated\"\n",
        "calculated = pd.io.gbq.read_gbq(query=query, project_id=project_id, dialect='standard')\n"
      ],
      "metadata": {
        "id": "fM6iGYiV6qdf",
        "executionInfo": {
          "status": "ok",
          "timestamp": 1728418044489,
          "user_tz": -180,
          "elapsed": 14,
          "user": {
            "displayName": "",
            "userId": ""
          }
        }
      },
      "execution_count": 3,
      "outputs": []
    },
    {
      "cell_type": "code",
      "source": [
        "print(calculated)"
      ],
      "metadata": {
        "id": "pX8mhC-riKaD",
        "executionInfo": {
          "status": "ok",
          "timestamp": 1728418044489,
          "user_tz": -180,
          "elapsed": 13,
          "user": {
            "displayName": "",
            "userId": ""
          }
        }
      },
      "execution_count": 3,
      "outputs": []
    },
    {
      "cell_type": "markdown",
      "source": [
        "**Stage 10**<br>\n",
        "Here is a visualization of the histogram that shows the distribution of the slot buckets and the time spent in each of them.<br>\n",
        "There should be a \"sweet spot\" where most of the buckets under it are heavily used and above it there is only slight usage.<br>\n",
        "This shhould give you the sense of where that sweet spot should be."
      ],
      "metadata": {
        "id": "Zy8nUuJ9FOSq"
      }
    },
    {
      "source": [
        "import pandas as pd\n",
        "import matplotlib.pyplot as plt\n",
        "\n",
        "calculated.plot(x=\"bucket\", y=\"percentage\", kind=\"line\",figsize=(15,9))"
      ],
      "cell_type": "code",
      "metadata": {
        "id": "wNn5E1mT0JWp",
        "executionInfo": {
          "status": "ok",
          "timestamp": 1728418044490,
          "user_tz": -180,
          "elapsed": 13,
          "user": {
            "displayName": "",
            "userId": ""
          }
        }
      },
      "execution_count": 3,
      "outputs": []
    },
    {
      "cell_type": "markdown",
      "source": [
        "**Step 11**<br>\n",
        "Use the following query to identify where slot usage drops below 1% of the time."
      ],
      "metadata": {
        "id": "LJgFM9h75vZw"
      }
    },
    {
      "cell_type": "code",
      "source": [
        "query = \"select max(bucket) as recommended from \"+dataset+\".calculated where percentage > 1\"\n",
        "\n",
        "if verbose:\n",
        "  print(query)\n",
        "\n",
        "df = pd.io.gbq.read_gbq(query=query, project_id=project_id, dialect='standard')\n",
        "print(df)"
      ],
      "metadata": {
        "id": "3RCxMi4tZyfF",
        "executionInfo": {
          "status": "ok",
          "timestamp": 1728418044490,
          "user_tz": -180,
          "elapsed": 13,
          "user": {
            "displayName": "",
            "userId": ""
          }
        }
      },
      "execution_count": 3,
      "outputs": []
    },
    {
      "cell_type": "markdown",
      "source": [
        "**Step 12**<br>\n",
        "The following steps try to find the optimal max_slots that best balances cost and performance.<br>\n",
        "As a first step choose the max_slots value you want to check."
      ],
      "metadata": {
        "id": "aBwS6v6YG2AJ"
      }
    },
    {
      "cell_type": "code",
      "source": [
        "max_slots = 300 # @param {\"type\":\"number\"}"
      ],
      "metadata": {
        "id": "h-ZFZDCoZhEV",
        "executionInfo": {
          "status": "ok",
          "timestamp": 1728418044490,
          "user_tz": -180,
          "elapsed": 13,
          "user": {
            "displayName": "",
            "userId": ""
          }
        }
      },
      "execution_count": 3,
      "outputs": []
    },
    {
      "cell_type": "markdown",
      "source": [
        "**Explanation**<br>\n",
        "The trade off is cost vs. performance. If we choose the right max_slots than we can reduce the cost while only a small number of queries will decrease in performance. If these are not time critical queries (such as ETLs, background jobs etc.) than we may want to \"sacrifice\" them in return for  lower cost."
      ],
      "metadata": {
        "id": "l-fmTKGtghxe"
      }
    },
    {
      "cell_type": "markdown",
      "source": [
        "**Step 13**<br>\n",
        "We try to calculate how much will we pay if we choose the above max_slots.<br>\n",
        "This is a naive approach as it does not take into consideration all the buckers above the max_slots, as they all had 0 percent."
      ],
      "metadata": {
        "id": "Ht67chWWgYJU"
      }
    },
    {
      "cell_type": "code",
      "source": [
        "answer = calculated[calculated['bucket'] <= max_slots]\n",
        "summed = answer['cost_usd'].sum()\n",
        "print('Total cost estimation for the time frame using maximum slots '+str(max_slots)+' is '+str(summed)+' USD.' )"
      ],
      "metadata": {
        "id": "cd9arA-rYYfL",
        "executionInfo": {
          "status": "ok",
          "timestamp": 1728418044490,
          "user_tz": -180,
          "elapsed": 13,
          "user": {
            "displayName": "",
            "userId": ""
          }
        }
      },
      "execution_count": 3,
      "outputs": []
    },
    {
      "cell_type": "markdown",
      "source": [
        "**Step 14**<br>\n",
        "Finally, we want to see which queries will be the most affected by the slot decrease (the ones that has slot consumption above max_slots).\n",
        "Many times you find out that those queries are not time sensitive (such as background processes) and you can sacrifice their performance to lower cost."
      ],
      "metadata": {
        "id": "_VlJVjPdiKLO"
      }
    },
    {
      "cell_type": "code",
      "source": [
        "query = \"\"\"SELECT\n",
        "  *\n",
        "FROM (\n",
        "  SELECT\n",
        "    timeline.job_id AS job_id,\n",
        "    jobs.query AS query,\n",
        "    jobs.job_type AS job_type,\n",
        "    ROUND(MAX(timeline.period_slot_ms/1000)) AS total_slot_ms,\n",
        "    COUNT(timeline.job_id) AS slices\n",
        "  FROM\n",
        "    `\"\"\"+project_id+\"`.`region-\"+region+\"\"\"`.INFORMATION_SCHEMA.JOBS_TIMELINE AS timeline\n",
        "  JOIN\n",
        "    `\"\"\"+project_id+\"`.`region-\"+region+\"\"\"`.INFORMATION_SCHEMA.JOBS AS jobs\n",
        "  ON\n",
        "    timeline.job_id = jobs.job_id\n",
        "  WHERE\n",
        "    period_start BETWEEN CAST(\\\"\"\"\"+start_timestamp+\"\"\"\\\" AS TIMESTAMP)\n",
        "  AND \"\"\"+\"CAST(\\\"\"+end_timestamp+\"\\\" AS TIMESTAMP)\"\"\"+\"\"\"\n",
        "  GROUP BY\n",
        "    job_id,\n",
        "    query,\n",
        "    job_type\n",
        "  ORDER BY\n",
        "    slices DESC)\n",
        "WHERE\n",
        "  total_slot_ms>\"\"\"+str(max_slots)\n",
        "\n",
        "if verbose:\n",
        "  print(query)\n",
        "\n",
        "df = pd.io.gbq.read_gbq(query=query, project_id=project_id, dialect='standard')\n",
        "print(df)\n"
      ],
      "metadata": {
        "id": "lqDLbWQ4x_dV",
        "executionInfo": {
          "status": "ok",
          "timestamp": 1728418044490,
          "user_tz": -180,
          "elapsed": 12,
          "user": {
            "displayName": "",
            "userId": ""
          }
        }
      },
      "execution_count": 3,
      "outputs": []
    },
    {
      "cell_type": "markdown",
      "source": [
        "**Step 15**\n",
        "\n",
        "Calculate if setting a baseline is recommended.\n",
        "First we create a view with the cost of each bucket with 1Y and 3Y commitment."
      ],
      "metadata": {
        "id": "MF7l6n3UZPbQ"
      }
    },
    {
      "cell_type": "code",
      "source": [
        "query = \"create or replace view \"+dataset+\"\"\".baseline as SELECT\n",
        "  bucket,\n",
        "  cost_usd,\n",
        "  ROUND(\"\"\"+str(price)+\"*bucket*\"+str(hours)+\"\"\"*0.8,3) AS y1,\n",
        "  cost_usd-ROUND(\"\"\"+str(price)+\"*bucket*\"+str(hours)+\"\"\"*0.8,3) as y1_gap,\n",
        "  ROUND(\"\"\"+str(price)+\"*bucket*\"+str(hours)+\"\"\"*0.6, 3) AS y3,\n",
        "  cost_usd-ROUND(\"\"\"+str(price)+\"*bucket*\"+str(hours)+\"\"\"*0.6, 3) as y3_gap\n",
        "FROM\n",
        "  \"\"\"+dataset+\"\"\".calculated\n",
        "ORDER BY\n",
        "  bucket\"\"\"\n",
        "\n",
        "if verbose:\n",
        "  print(query)\n",
        "\n",
        "df = pd.io.gbq.read_gbq(query=query, project_id=project_id, dialect='standard')"
      ],
      "metadata": {
        "id": "I2syvuKphYtw",
        "executionInfo": {
          "status": "ok",
          "timestamp": 1728418044490,
          "user_tz": -180,
          "elapsed": 12,
          "user": {
            "displayName": "",
            "userId": ""
          }
        }
      },
      "execution_count": 3,
      "outputs": []
    },
    {
      "cell_type": "code",
      "source": [
        "query = \"\"\"SELECT\n",
        "  MAX(y1_gap) AS max_y1,\n",
        "  MAX(y3_gap) AS max_y3\n",
        "FROM\n",
        "  \"\"\"+dataset+\"\"\".baseline\n",
        "WHERE\n",
        "  y1_gap>0\n",
        "  OR y3_gap>0\"\"\"\n",
        "\n",
        "df = pd.io.gbq.read_gbq(query=query, project_id=project_id, dialect='standard')\n",
        "\n",
        "# We get the difference between regular price and price with 1y commitment (20% off) and 3y commitment (40% off).\n",
        "max1y = df['max_y1'][0]\n",
        "max3y = df['max_y3'][0]\n",
        "\n",
        "# In case both are null, recommendation is not to set a baseline\n",
        "if pd.isna(max1y) and pd.isna(max3y):\n",
        "  print(\"It is recommended not to set a baseline.\")\n",
        "# If only 3y returns a result then 3y commitment is recommended\n",
        "elif pd.isna(max1y):\n",
        "  print(\"Recommended baseline is \"+str(max3y)+\" slots with 3 years commitment. You will save \")\n",
        "# If only 1y returns a result then 1y commitment is recommended\n",
        "elif pd.isna(max3y):\n",
        "  print(\"Recommended baseline is \"+str(max1y)+\" slots with 1 year commitment. You will save \")\n",
        "# If both return values then the higher of them represents bigger saving and we choose it\n",
        "else:\n",
        "  if max1y > max3y:\n",
        "    print(\"Recommended baseline is \"+str(max1y)+\" slots with 1 year commitment. You will save \")\n",
        "  else:\n",
        "    print(\"Recommended baseline is \"+str(max3y)+\" slots with 3 year commitment. You will save \")"
      ],
      "metadata": {
        "id": "Cv9-5ZIe5OL3",
        "executionInfo": {
          "status": "ok",
          "timestamp": 1728419269564,
          "user_tz": -180,
          "elapsed": 988,
          "user": {
            "displayName": "",
            "userId": ""
          }
        },
        "colab": {
          "base_uri": "https://localhost:8080/"
        },
        "outputId": "a7e36e6e-2fe7-49a2-f601-0666eec9a37d"
      },
      "execution_count": 22,
      "outputs": [
        {
          "output_type": "stream",
          "name": "stdout",
          "text": [
            "It is recommended not to set a baseline.\n"
          ]
        }
      ]
    },
    {
      "cell_type": "markdown",
      "source": [
        "**Step 16**<br>\n",
        "Cleanup"
      ],
      "metadata": {
        "id": "jVeUQWLFi9oh"
      }
    },
    {
      "cell_type": "code",
      "source": [
        "queries = []\n",
        "queries.append(\"drop view \"+dataset+\".calculated\")\n",
        "queries.append(\"drop view \"+dataset+\".buckets_count\")\n",
        "queries.append(\"drop view \"+dataset+\".bucketed\")\n",
        "queries.append(\"drop table \"+dataset+\".bytes\")\n",
        "queries.append(\"drop table \"+dataset+\".slots\")\n",
        "queries.append(\"drop view \"+dataset+\".baseline\")\n",
        "\n",
        "for query in queries:\n",
        "  df = pd.io.gbq.read_gbq(query=query, project_id=project_id, dialect='standard')\n",
        "\n",
        "print (\"Delete complete.\")"
      ],
      "metadata": {
        "id": "C83CPECgi8QH",
        "colab": {
          "base_uri": "https://localhost:8080/"
        },
        "executionInfo": {
          "status": "ok",
          "timestamp": 1728396759514,
          "user_tz": -180,
          "elapsed": 2599,
          "user": {
            "displayName": "",
            "userId": ""
          }
        },
        "outputId": "07abee26-5b32-49d6-f7ef-79cc8316487b"
      },
      "execution_count": null,
      "outputs": [
        {
          "output_type": "stream",
          "name": "stdout",
          "text": [
            "Delete complete.\n"
          ]
        }
      ]
    }
  ]
}