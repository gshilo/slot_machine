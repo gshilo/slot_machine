{
  "nbformat": 4,
  "nbformat_minor": 0,
  "metadata": {
    "colab": {
      "name": "Slot_machine",
      "cell_execution_strategy": "setup",
      "provenance": []
    },
    "kernelspec": {
      "name": "python3",
      "display_name": "Python 3"
    },
    "language_info": {
      "name": "python"
    },
    "widgets": {
      "application/vnd.jupyter.widget-state+json": {
        "1cbd5044ad3249469c19c41b09319d39": {
          "model_module": "@jupyter-widgets/controls",
          "model_name": "HBoxModel",
          "model_module_version": "1.5.0",
          "state": {
            "_dom_classes": [],
            "_model_module": "@jupyter-widgets/controls",
            "_model_module_version": "1.5.0",
            "_model_name": "HBoxModel",
            "_view_count": null,
            "_view_module": "@jupyter-widgets/controls",
            "_view_module_version": "1.5.0",
            "_view_name": "HBoxView",
            "box_style": "",
            "children": [
              "IPY_MODEL_38983e2e7f80424f8d3ee1b519e96403",
              "IPY_MODEL_d10dadd1d8c541a393fad08a492cf868",
              "IPY_MODEL_7de2ed4603fb4ee2823f8aaaf2284c84"
            ],
            "layout": "IPY_MODEL_298017809d8d4aec83294e6207db79a8"
          }
        },
        "38983e2e7f80424f8d3ee1b519e96403": {
          "model_module": "@jupyter-widgets/controls",
          "model_name": "HTMLModel",
          "model_module_version": "1.5.0",
          "state": {
            "_dom_classes": [],
            "_model_module": "@jupyter-widgets/controls",
            "_model_module_version": "1.5.0",
            "_model_name": "HTMLModel",
            "_view_count": null,
            "_view_module": "@jupyter-widgets/controls",
            "_view_module_version": "1.5.0",
            "_view_name": "HTMLView",
            "description": "",
            "description_tooltip": null,
            "layout": "IPY_MODEL_aa610ea692334addb2741e28774ba780",
            "placeholder": "​",
            "style": "IPY_MODEL_a26771506df5497ea8d80da99674015f",
            "value": "Job ID bdf27420-3144-4a25-9df8-2db321b5a3a6 successfully executed: 100%"
          }
        },
        "d10dadd1d8c541a393fad08a492cf868": {
          "model_module": "@jupyter-widgets/controls",
          "model_name": "FloatProgressModel",
          "model_module_version": "1.5.0",
          "state": {
            "_dom_classes": [],
            "_model_module": "@jupyter-widgets/controls",
            "_model_module_version": "1.5.0",
            "_model_name": "FloatProgressModel",
            "_view_count": null,
            "_view_module": "@jupyter-widgets/controls",
            "_view_module_version": "1.5.0",
            "_view_name": "ProgressView",
            "bar_style": "success",
            "description": "",
            "description_tooltip": null,
            "layout": "IPY_MODEL_a377aa737ef34e63a83cd46fc01a80e9",
            "max": 1,
            "min": 0,
            "orientation": "horizontal",
            "style": "IPY_MODEL_edd256700cd2430c9357bfb79e529656",
            "value": 1
          }
        },
        "7de2ed4603fb4ee2823f8aaaf2284c84": {
          "model_module": "@jupyter-widgets/controls",
          "model_name": "HTMLModel",
          "model_module_version": "1.5.0",
          "state": {
            "_dom_classes": [],
            "_model_module": "@jupyter-widgets/controls",
            "_model_module_version": "1.5.0",
            "_model_name": "HTMLModel",
            "_view_count": null,
            "_view_module": "@jupyter-widgets/controls",
            "_view_module_version": "1.5.0",
            "_view_name": "HTMLView",
            "description": "",
            "description_tooltip": null,
            "layout": "IPY_MODEL_75284bfe017346d8965fd14593d5413b",
            "placeholder": "​",
            "style": "IPY_MODEL_0ea01a9f3c3949ec8c0dfbd457fe9fce",
            "value": ""
          }
        },
        "298017809d8d4aec83294e6207db79a8": {
          "model_module": "@jupyter-widgets/base",
          "model_name": "LayoutModel",
          "model_module_version": "1.2.0",
          "state": {
            "_model_module": "@jupyter-widgets/base",
            "_model_module_version": "1.2.0",
            "_model_name": "LayoutModel",
            "_view_count": null,
            "_view_module": "@jupyter-widgets/base",
            "_view_module_version": "1.2.0",
            "_view_name": "LayoutView",
            "align_content": null,
            "align_items": null,
            "align_self": null,
            "border": null,
            "bottom": null,
            "display": null,
            "flex": null,
            "flex_flow": null,
            "grid_area": null,
            "grid_auto_columns": null,
            "grid_auto_flow": null,
            "grid_auto_rows": null,
            "grid_column": null,
            "grid_gap": null,
            "grid_row": null,
            "grid_template_areas": null,
            "grid_template_columns": null,
            "grid_template_rows": null,
            "height": null,
            "justify_content": null,
            "justify_items": null,
            "left": null,
            "margin": null,
            "max_height": null,
            "max_width": null,
            "min_height": null,
            "min_width": null,
            "object_fit": null,
            "object_position": null,
            "order": null,
            "overflow": null,
            "overflow_x": null,
            "overflow_y": null,
            "padding": null,
            "right": null,
            "top": null,
            "visibility": null,
            "width": null
          }
        },
        "aa610ea692334addb2741e28774ba780": {
          "model_module": "@jupyter-widgets/base",
          "model_name": "LayoutModel",
          "model_module_version": "1.2.0",
          "state": {
            "_model_module": "@jupyter-widgets/base",
            "_model_module_version": "1.2.0",
            "_model_name": "LayoutModel",
            "_view_count": null,
            "_view_module": "@jupyter-widgets/base",
            "_view_module_version": "1.2.0",
            "_view_name": "LayoutView",
            "align_content": null,
            "align_items": null,
            "align_self": null,
            "border": null,
            "bottom": null,
            "display": null,
            "flex": null,
            "flex_flow": null,
            "grid_area": null,
            "grid_auto_columns": null,
            "grid_auto_flow": null,
            "grid_auto_rows": null,
            "grid_column": null,
            "grid_gap": null,
            "grid_row": null,
            "grid_template_areas": null,
            "grid_template_columns": null,
            "grid_template_rows": null,
            "height": null,
            "justify_content": null,
            "justify_items": null,
            "left": null,
            "margin": null,
            "max_height": null,
            "max_width": null,
            "min_height": null,
            "min_width": null,
            "object_fit": null,
            "object_position": null,
            "order": null,
            "overflow": null,
            "overflow_x": null,
            "overflow_y": null,
            "padding": null,
            "right": null,
            "top": null,
            "visibility": null,
            "width": null
          }
        },
        "a26771506df5497ea8d80da99674015f": {
          "model_module": "@jupyter-widgets/controls",
          "model_name": "DescriptionStyleModel",
          "model_module_version": "1.5.0",
          "state": {
            "_model_module": "@jupyter-widgets/controls",
            "_model_module_version": "1.5.0",
            "_model_name": "DescriptionStyleModel",
            "_view_count": null,
            "_view_module": "@jupyter-widgets/base",
            "_view_module_version": "1.2.0",
            "_view_name": "StyleView",
            "description_width": ""
          }
        },
        "a377aa737ef34e63a83cd46fc01a80e9": {
          "model_module": "@jupyter-widgets/base",
          "model_name": "LayoutModel",
          "model_module_version": "1.2.0",
          "state": {
            "_model_module": "@jupyter-widgets/base",
            "_model_module_version": "1.2.0",
            "_model_name": "LayoutModel",
            "_view_count": null,
            "_view_module": "@jupyter-widgets/base",
            "_view_module_version": "1.2.0",
            "_view_name": "LayoutView",
            "align_content": null,
            "align_items": null,
            "align_self": null,
            "border": null,
            "bottom": null,
            "display": null,
            "flex": null,
            "flex_flow": null,
            "grid_area": null,
            "grid_auto_columns": null,
            "grid_auto_flow": null,
            "grid_auto_rows": null,
            "grid_column": null,
            "grid_gap": null,
            "grid_row": null,
            "grid_template_areas": null,
            "grid_template_columns": null,
            "grid_template_rows": null,
            "height": null,
            "justify_content": null,
            "justify_items": null,
            "left": null,
            "margin": null,
            "max_height": null,
            "max_width": null,
            "min_height": null,
            "min_width": null,
            "object_fit": null,
            "object_position": null,
            "order": null,
            "overflow": null,
            "overflow_x": null,
            "overflow_y": null,
            "padding": null,
            "right": null,
            "top": null,
            "visibility": null,
            "width": null
          }
        },
        "edd256700cd2430c9357bfb79e529656": {
          "model_module": "@jupyter-widgets/controls",
          "model_name": "ProgressStyleModel",
          "model_module_version": "1.5.0",
          "state": {
            "_model_module": "@jupyter-widgets/controls",
            "_model_module_version": "1.5.0",
            "_model_name": "ProgressStyleModel",
            "_view_count": null,
            "_view_module": "@jupyter-widgets/base",
            "_view_module_version": "1.2.0",
            "_view_name": "StyleView",
            "bar_color": null,
            "description_width": ""
          }
        },
        "75284bfe017346d8965fd14593d5413b": {
          "model_module": "@jupyter-widgets/base",
          "model_name": "LayoutModel",
          "model_module_version": "1.2.0",
          "state": {
            "_model_module": "@jupyter-widgets/base",
            "_model_module_version": "1.2.0",
            "_model_name": "LayoutModel",
            "_view_count": null,
            "_view_module": "@jupyter-widgets/base",
            "_view_module_version": "1.2.0",
            "_view_name": "LayoutView",
            "align_content": null,
            "align_items": null,
            "align_self": null,
            "border": null,
            "bottom": null,
            "display": null,
            "flex": null,
            "flex_flow": null,
            "grid_area": null,
            "grid_auto_columns": null,
            "grid_auto_flow": null,
            "grid_auto_rows": null,
            "grid_column": null,
            "grid_gap": null,
            "grid_row": null,
            "grid_template_areas": null,
            "grid_template_columns": null,
            "grid_template_rows": null,
            "height": null,
            "justify_content": null,
            "justify_items": null,
            "left": null,
            "margin": null,
            "max_height": null,
            "max_width": null,
            "min_height": null,
            "min_width": null,
            "object_fit": null,
            "object_position": null,
            "order": null,
            "overflow": null,
            "overflow_x": null,
            "overflow_y": null,
            "padding": null,
            "right": null,
            "top": null,
            "visibility": null,
            "width": null
          }
        },
        "0ea01a9f3c3949ec8c0dfbd457fe9fce": {
          "model_module": "@jupyter-widgets/controls",
          "model_name": "DescriptionStyleModel",
          "model_module_version": "1.5.0",
          "state": {
            "_model_module": "@jupyter-widgets/controls",
            "_model_module_version": "1.5.0",
            "_model_name": "DescriptionStyleModel",
            "_view_count": null,
            "_view_module": "@jupyter-widgets/base",
            "_view_module_version": "1.2.0",
            "_view_name": "StyleView",
            "description_width": ""
          }
        },
        "9a3318586a7845349150eccf105e874f": {
          "model_module": "@jupyter-widgets/controls",
          "model_name": "HBoxModel",
          "model_module_version": "1.5.0",
          "state": {
            "_dom_classes": [],
            "_model_module": "@jupyter-widgets/controls",
            "_model_module_version": "1.5.0",
            "_model_name": "HBoxModel",
            "_view_count": null,
            "_view_module": "@jupyter-widgets/controls",
            "_view_module_version": "1.5.0",
            "_view_name": "HBoxView",
            "box_style": "",
            "children": [
              "IPY_MODEL_39f3925d1b0d47b089a87f814bfbd757",
              "IPY_MODEL_f9dd2cfd39794e76864ebb1d17f3e549",
              "IPY_MODEL_97a5a20b8a6743d5845465ec4b1902cf"
            ],
            "layout": "IPY_MODEL_ba936ab2b7a043a290d060f28c389f9f"
          }
        },
        "39f3925d1b0d47b089a87f814bfbd757": {
          "model_module": "@jupyter-widgets/controls",
          "model_name": "HTMLModel",
          "model_module_version": "1.5.0",
          "state": {
            "_dom_classes": [],
            "_model_module": "@jupyter-widgets/controls",
            "_model_module_version": "1.5.0",
            "_model_name": "HTMLModel",
            "_view_count": null,
            "_view_module": "@jupyter-widgets/controls",
            "_view_module_version": "1.5.0",
            "_view_name": "HTMLView",
            "description": "",
            "description_tooltip": null,
            "layout": "IPY_MODEL_2ac9285d136443078845cce069de740e",
            "placeholder": "​",
            "style": "IPY_MODEL_57c3b5b1c8dc4829be29c33e886b2a31",
            "value": "Downloading: 100%"
          }
        },
        "f9dd2cfd39794e76864ebb1d17f3e549": {
          "model_module": "@jupyter-widgets/controls",
          "model_name": "FloatProgressModel",
          "model_module_version": "1.5.0",
          "state": {
            "_dom_classes": [],
            "_model_module": "@jupyter-widgets/controls",
            "_model_module_version": "1.5.0",
            "_model_name": "FloatProgressModel",
            "_view_count": null,
            "_view_module": "@jupyter-widgets/controls",
            "_view_module_version": "1.5.0",
            "_view_name": "ProgressView",
            "bar_style": "success",
            "description": "",
            "description_tooltip": null,
            "layout": "IPY_MODEL_e4a6f9fc85c64ce398b5ba153c1225e6",
            "max": 383,
            "min": 0,
            "orientation": "horizontal",
            "style": "IPY_MODEL_fe34ead0549e41938cb4a44c5c54a314",
            "value": 383
          }
        },
        "97a5a20b8a6743d5845465ec4b1902cf": {
          "model_module": "@jupyter-widgets/controls",
          "model_name": "HTMLModel",
          "model_module_version": "1.5.0",
          "state": {
            "_dom_classes": [],
            "_model_module": "@jupyter-widgets/controls",
            "_model_module_version": "1.5.0",
            "_model_name": "HTMLModel",
            "_view_count": null,
            "_view_module": "@jupyter-widgets/controls",
            "_view_module_version": "1.5.0",
            "_view_name": "HTMLView",
            "description": "",
            "description_tooltip": null,
            "layout": "IPY_MODEL_0e136882fb544cdfa0236422e22e84aa",
            "placeholder": "​",
            "style": "IPY_MODEL_a547bd307881426982255696d6a58fea",
            "value": ""
          }
        },
        "ba936ab2b7a043a290d060f28c389f9f": {
          "model_module": "@jupyter-widgets/base",
          "model_name": "LayoutModel",
          "model_module_version": "1.2.0",
          "state": {
            "_model_module": "@jupyter-widgets/base",
            "_model_module_version": "1.2.0",
            "_model_name": "LayoutModel",
            "_view_count": null,
            "_view_module": "@jupyter-widgets/base",
            "_view_module_version": "1.2.0",
            "_view_name": "LayoutView",
            "align_content": null,
            "align_items": null,
            "align_self": null,
            "border": null,
            "bottom": null,
            "display": null,
            "flex": null,
            "flex_flow": null,
            "grid_area": null,
            "grid_auto_columns": null,
            "grid_auto_flow": null,
            "grid_auto_rows": null,
            "grid_column": null,
            "grid_gap": null,
            "grid_row": null,
            "grid_template_areas": null,
            "grid_template_columns": null,
            "grid_template_rows": null,
            "height": null,
            "justify_content": null,
            "justify_items": null,
            "left": null,
            "margin": null,
            "max_height": null,
            "max_width": null,
            "min_height": null,
            "min_width": null,
            "object_fit": null,
            "object_position": null,
            "order": null,
            "overflow": null,
            "overflow_x": null,
            "overflow_y": null,
            "padding": null,
            "right": null,
            "top": null,
            "visibility": null,
            "width": null
          }
        },
        "2ac9285d136443078845cce069de740e": {
          "model_module": "@jupyter-widgets/base",
          "model_name": "LayoutModel",
          "model_module_version": "1.2.0",
          "state": {
            "_model_module": "@jupyter-widgets/base",
            "_model_module_version": "1.2.0",
            "_model_name": "LayoutModel",
            "_view_count": null,
            "_view_module": "@jupyter-widgets/base",
            "_view_module_version": "1.2.0",
            "_view_name": "LayoutView",
            "align_content": null,
            "align_items": null,
            "align_self": null,
            "border": null,
            "bottom": null,
            "display": null,
            "flex": null,
            "flex_flow": null,
            "grid_area": null,
            "grid_auto_columns": null,
            "grid_auto_flow": null,
            "grid_auto_rows": null,
            "grid_column": null,
            "grid_gap": null,
            "grid_row": null,
            "grid_template_areas": null,
            "grid_template_columns": null,
            "grid_template_rows": null,
            "height": null,
            "justify_content": null,
            "justify_items": null,
            "left": null,
            "margin": null,
            "max_height": null,
            "max_width": null,
            "min_height": null,
            "min_width": null,
            "object_fit": null,
            "object_position": null,
            "order": null,
            "overflow": null,
            "overflow_x": null,
            "overflow_y": null,
            "padding": null,
            "right": null,
            "top": null,
            "visibility": null,
            "width": null
          }
        },
        "57c3b5b1c8dc4829be29c33e886b2a31": {
          "model_module": "@jupyter-widgets/controls",
          "model_name": "DescriptionStyleModel",
          "model_module_version": "1.5.0",
          "state": {
            "_model_module": "@jupyter-widgets/controls",
            "_model_module_version": "1.5.0",
            "_model_name": "DescriptionStyleModel",
            "_view_count": null,
            "_view_module": "@jupyter-widgets/base",
            "_view_module_version": "1.2.0",
            "_view_name": "StyleView",
            "description_width": ""
          }
        },
        "e4a6f9fc85c64ce398b5ba153c1225e6": {
          "model_module": "@jupyter-widgets/base",
          "model_name": "LayoutModel",
          "model_module_version": "1.2.0",
          "state": {
            "_model_module": "@jupyter-widgets/base",
            "_model_module_version": "1.2.0",
            "_model_name": "LayoutModel",
            "_view_count": null,
            "_view_module": "@jupyter-widgets/base",
            "_view_module_version": "1.2.0",
            "_view_name": "LayoutView",
            "align_content": null,
            "align_items": null,
            "align_self": null,
            "border": null,
            "bottom": null,
            "display": null,
            "flex": null,
            "flex_flow": null,
            "grid_area": null,
            "grid_auto_columns": null,
            "grid_auto_flow": null,
            "grid_auto_rows": null,
            "grid_column": null,
            "grid_gap": null,
            "grid_row": null,
            "grid_template_areas": null,
            "grid_template_columns": null,
            "grid_template_rows": null,
            "height": null,
            "justify_content": null,
            "justify_items": null,
            "left": null,
            "margin": null,
            "max_height": null,
            "max_width": null,
            "min_height": null,
            "min_width": null,
            "object_fit": null,
            "object_position": null,
            "order": null,
            "overflow": null,
            "overflow_x": null,
            "overflow_y": null,
            "padding": null,
            "right": null,
            "top": null,
            "visibility": null,
            "width": null
          }
        },
        "fe34ead0549e41938cb4a44c5c54a314": {
          "model_module": "@jupyter-widgets/controls",
          "model_name": "ProgressStyleModel",
          "model_module_version": "1.5.0",
          "state": {
            "_model_module": "@jupyter-widgets/controls",
            "_model_module_version": "1.5.0",
            "_model_name": "ProgressStyleModel",
            "_view_count": null,
            "_view_module": "@jupyter-widgets/base",
            "_view_module_version": "1.2.0",
            "_view_name": "StyleView",
            "bar_color": null,
            "description_width": ""
          }
        },
        "0e136882fb544cdfa0236422e22e84aa": {
          "model_module": "@jupyter-widgets/base",
          "model_name": "LayoutModel",
          "model_module_version": "1.2.0",
          "state": {
            "_model_module": "@jupyter-widgets/base",
            "_model_module_version": "1.2.0",
            "_model_name": "LayoutModel",
            "_view_count": null,
            "_view_module": "@jupyter-widgets/base",
            "_view_module_version": "1.2.0",
            "_view_name": "LayoutView",
            "align_content": null,
            "align_items": null,
            "align_self": null,
            "border": null,
            "bottom": null,
            "display": null,
            "flex": null,
            "flex_flow": null,
            "grid_area": null,
            "grid_auto_columns": null,
            "grid_auto_flow": null,
            "grid_auto_rows": null,
            "grid_column": null,
            "grid_gap": null,
            "grid_row": null,
            "grid_template_areas": null,
            "grid_template_columns": null,
            "grid_template_rows": null,
            "height": null,
            "justify_content": null,
            "justify_items": null,
            "left": null,
            "margin": null,
            "max_height": null,
            "max_width": null,
            "min_height": null,
            "min_width": null,
            "object_fit": null,
            "object_position": null,
            "order": null,
            "overflow": null,
            "overflow_x": null,
            "overflow_y": null,
            "padding": null,
            "right": null,
            "top": null,
            "visibility": null,
            "width": null
          }
        },
        "a547bd307881426982255696d6a58fea": {
          "model_module": "@jupyter-widgets/controls",
          "model_name": "DescriptionStyleModel",
          "model_module_version": "1.5.0",
          "state": {
            "_model_module": "@jupyter-widgets/controls",
            "_model_module_version": "1.5.0",
            "_model_name": "DescriptionStyleModel",
            "_view_count": null,
            "_view_module": "@jupyter-widgets/base",
            "_view_module_version": "1.2.0",
            "_view_name": "StyleView",
            "description_width": ""
          }
        }
      }
    }
  },
  "cells": [
    {
      "cell_type": "markdown",
      "source": [
        "\n",
        "# **Slot Machine**<br>\n",
        "If you are using BigQuery with the on demand billing model where you are billed by bytes scanned, it may be a good idea to switch to the Editions model where you are billed for slots you used.\n",
        "\n",
        "There are Two quite complicated querstions though:\n",
        "\n",
        "\n",
        "1.   Will moving to Editions save me money ?\n",
        "2.   How many slots should I reserve, what is the optimal max_xlots value ?\n",
        "\n",
        "There is no way to be 100% accurate, but this set of queries aims to reduce the guesswork and guide you in finding better answers to the Two questions above.\n",
        "\n",
        "\n",
        "\n"
      ],
      "metadata": {
        "id": "UM7NCS6mPpU6"
      }
    },
    {
      "cell_type": "markdown",
      "source": [
        "**Usage**<br>\n",
        "You should run this in the project you want to test.\n",
        "The process creates several tables and views, if any of them already exists then it will stop with error, since we don't want to accidently delete user's important tables."
      ],
      "metadata": {
        "id": "5wOvhZiARoLC"
      }
    },
    {
      "cell_type": "markdown",
      "source": [
        "**Step 1**<br>\n",
        "First we set some parameters such as region, timeframe and BigQuery edition. We also detect the current project id.\n",
        "\n",
        "Here is a short description of the parameters:\n",
        "\n",
        "- **region**: The region where your dataset is located. INFORMATION_SCHEMA is a regional data source.\n",
        "- **dataset**: the dataset where you want the tables and views related to slot machine to be created. It's a good idea to create a dedicated dataset so we won't accidently overwrite a production table or view.\n",
        "- **start and end timestamp**: We analyze the behavior in a limited timeframe. It should be long enough to contain all regular activity so it should contain at lease few days.\n",
        "- **edition**: BigQuery compute has Three editions when using reservations which are priced differently. Choosing the edition affects total price and available features. You can read more [here](https://cloud.google.com/bigquery/docs/editions-intro).\n",
        "- **verbose**: If true, Slot machine will print out the queries it runs plus additional interim data. If false it will operate quietly without printing out every query and interim result."
      ],
      "metadata": {
        "id": "k_LhcAbq4NCG"
      }
    },
    {
      "cell_type": "code",
      "source": [
        "import google.auth\n",
        "project_id = google.auth.default()[1]\n",
        "region = \"US\" # @param {\"type\":\"string\", \"placeholder\": \"Enter dataset region\"}\n",
        "dataset = \"test\" # @param {\"type\":\"string\", \"placeholder\": \"Enter the target dataset where objects will be created\"}\n",
        "start_timestamp = \"2024-09-23\" # @param {\"type\":\"date\"}\n",
        "end_timestamp = \"2024-09-30\" # @param {\"type\":\"date\"}\n",
        "edition = \"Enterprise\" # @param [\"Standard\", \"Enterprise\", \"Enterprise plus\"]\n",
        "verbose = True # @param {\"type\":\"boolean\"}"
      ],
      "metadata": {
        "id": "oQumnhKuKTDy",
        "executionInfo": {
          "status": "ok",
          "timestamp": 1728245184444,
          "user_tz": -180,
          "elapsed": 492,
          "user": {
            "displayName": "",
            "userId": ""
          }
        }
      },
      "execution_count": 2,
      "outputs": []
    },
    {
      "cell_type": "markdown",
      "source": [
        "**Step 2**<br>\n",
        "Here we import some python packages and create the dataset if it does not already exist."
      ],
      "metadata": {
        "id": "9McWPU9c4gC2"
      }
    },
    {
      "cell_type": "code",
      "source": [
        "import pandas as pd\n",
        "from google.cloud import bigquery\n",
        "from google.cloud.exceptions import NotFound\n",
        "\n",
        "client = bigquery.Client()\n",
        "my_dataset = bigquery.Dataset(project_id+\".\"+dataset)\n",
        "my_dataset.location = region\n",
        "\n",
        "\n",
        "try:\n",
        "    client.get_dataset(project_id+\".\"+dataset)\n",
        "    print(\"Dataset {} already exists\".format(dataset))\n",
        "except NotFound:\n",
        "    print(\"Dataset {} is not found\".format(dataset), \"creating it.\")\n",
        "    dataset_object = client.create_dataset(my_dataset, timeout=30)"
      ],
      "metadata": {
        "id": "5HEnFFD1o7CJ",
        "executionInfo": {
          "status": "ok",
          "timestamp": 1728245191837,
          "user_tz": -180,
          "elapsed": 1966,
          "user": {
            "displayName": "",
            "userId": ""
          }
        },
        "colab": {
          "base_uri": "https://localhost:8080/"
        },
        "outputId": "33d72351-2f87-432d-c0f0-7f3b9cc5e3cc"
      },
      "execution_count": 3,
      "outputs": [
        {
          "output_type": "stream",
          "name": "stdout",
          "text": [
            "Dataset test is not found creating it.\n"
          ]
        }
      ]
    },
    {
      "cell_type": "markdown",
      "source": [
        "**Step 3**<br>\n",
        "Ceate a table with the on demand consumption for reference. The table name is bytes.<br>\n",
        "We select from INFORMATION_SCHEMA.JOBS to find the total bytes billed during the timeframe and what was the cost in USD.<br>Write down the result."
      ],
      "metadata": {
        "id": "gGfdPMkHGSA2"
      }
    },
    {
      "cell_type": "code",
      "source": [
        "print(dataset)\n",
        "query = \"create table \"+dataset+\".bytes as \"+\"\"\"SELECT\n",
        "  SUM(total_bytes_billed/1024/1024/1024/1024) AS total_tb_billed,\n",
        "  SUM(total_bytes_billed/1024/1024/1024/1024)*6.25 as cost_usd\n",
        "FROM \"\"\"+project_id+\".region-\"+region+\"\"\".INFORMATION_SCHEMA.JOBS\n",
        "WHERE\n",
        "  creation_time BETWEEN CAST(\\\"\"\"\"+start_timestamp+\"\"\"\\\" AS TIMESTAMP)\n",
        "  AND \"\"\"+\"CAST(\\\"\"+end_timestamp+\"\\\" AS TIMESTAMP)\"\n",
        "\n",
        "if verbose:\n",
        "  print(query)\n",
        "\n",
        "df = pd.io.gbq.read_gbq(query=query, project_id=project_id, dialect='standard')"
      ],
      "metadata": {
        "id": "JtC29YYAvYJK",
        "executionInfo": {
          "status": "ok",
          "timestamp": 1728245198046,
          "user_tz": -180,
          "elapsed": 3007,
          "user": {
            "displayName": "",
            "userId": ""
          }
        },
        "colab": {
          "base_uri": "https://localhost:8080/"
        },
        "outputId": "55d61bd3-dae9-4268-b3b3-289ca76343e6"
      },
      "execution_count": 4,
      "outputs": [
        {
          "output_type": "stream",
          "name": "stdout",
          "text": [
            "test\n",
            "create table test.bytes as SELECT\n",
            "  SUM(total_bytes_billed/1024/1024/1024/1024) AS total_tb_billed,\n",
            "  SUM(total_bytes_billed/1024/1024/1024/1024)*6.25 as cost_usd\n",
            "FROM slot-machine-437819.region-US.INFORMATION_SCHEMA.JOBS\n",
            "WHERE\n",
            "  creation_time BETWEEN CAST(\"2024-09-23\" AS TIMESTAMP)\n",
            "  AND CAST(\"2024-09-30\" AS TIMESTAMP)\n",
            "WARNING: google.colab.auth.authenticate_user() is not supported in Colab Enterprise.\n"
          ]
        }
      ]
    },
    {
      "cell_type": "markdown",
      "source": [
        "**Step 4**<br>\n",
        "Then we query INFORMATION_SCHEMA.JOBS_TIMELINE on the same time range to see how many slots were used in every second of the time range. We send the result to a table called slots."
      ],
      "metadata": {
        "id": "eg60a_RPoR6b"
      }
    },
    {
      "cell_type": "code",
      "source": [
        "query = \"create table \"+dataset+\".slots as \"+\"\"\"SELECT\n",
        "  period_start,\n",
        "  SUM(period_slot_ms/1000) AS total_slot_ms,\n",
        "FROM\n",
        "  \"\"\"+project_id+\".region-\"+region+\"\"\".INFORMATION_SCHEMA.JOBS_TIMELINE\n",
        "WHERE\n",
        "  period_start BETWEEN CAST(\\\"\"\"\"+start_timestamp+\"\"\"\\\" AS TIMESTAMP)\n",
        "  AND \"\"\"+\"CAST(\\\"\"+end_timestamp+\"\\\" AS TIMESTAMP)\"\"\"\n",
        "\n",
        "query = query + \"\"\"\n",
        "GROUP BY\n",
        "  period_start\n",
        "ORDER BY\n",
        "  period_start DESC\"\"\"\n",
        "\n",
        "if verbose:\n",
        "  print(query)\n",
        "df = pd.io.gbq.read_gbq(query=query, project_id=project_id, dialect='standard')"
      ],
      "metadata": {
        "id": "BKCiC-HYdD0d",
        "executionInfo": {
          "status": "ok",
          "timestamp": 1728245203253,
          "user_tz": -180,
          "elapsed": 5208,
          "user": {
            "displayName": "",
            "userId": ""
          }
        },
        "colab": {
          "base_uri": "https://localhost:8080/"
        },
        "outputId": "abfab563-7fce-4c12-ee28-d7ffe42ea6df"
      },
      "execution_count": 5,
      "outputs": [
        {
          "output_type": "stream",
          "name": "stdout",
          "text": [
            "create table test.slots as SELECT\n",
            "  period_start,\n",
            "  SUM(period_slot_ms/1000) AS total_slot_ms,\n",
            "FROM\n",
            "  slot-machine-437819.region-US.INFORMATION_SCHEMA.JOBS_TIMELINE\n",
            "WHERE\n",
            "  period_start BETWEEN CAST(\"2024-09-23\" AS TIMESTAMP)\n",
            "  AND CAST(\"2024-09-30\" AS TIMESTAMP)\n",
            "GROUP BY\n",
            "  period_start\n",
            "ORDER BY\n",
            "  period_start DESC\n"
          ]
        }
      ]
    },
    {
      "cell_type": "markdown",
      "source": [
        "**Step 5**<br>\n",
        "We create a dynamic query that creates buckets incremented by 50 from 0 to the highest number of slots used during the selected time period.<br>\n",
        "The original time periods are seconds, so we aggregate the data in Minute granularity and for each minute we take the high<br> watermark of slot usage (since BigQuery autoscaler's minimum is 1 minute).<br><br>\n",
        "Then we assign each minute to a specific bucket according to the maximum slots that ut used.<br>\n",
        "We create a view called bucketed to hold the result and enable further calculations."
      ],
      "metadata": {
        "id": "uyK-sFMX5sPj"
      }
    },
    {
      "cell_type": "code",
      "source": [
        "query1 = \"select max(total_slot_ms) as max_slots from \"+dataset+\".slots\"\n",
        "df = pd.io.gbq.read_gbq(query=query1, project_id=project_id, dialect='standard')\n",
        "max_slots = int(df._get_value(0, 'max_slots'))\n",
        "query2 = \"create view \"+dataset+\".bucketed\"+\"\"\" as SELECT\n",
        "  timestamp_trunc(period_start, MINUTE) as period_start,\n",
        "  max(case\n",
        "when total_slot_ms = 0 then 0\\n\"\"\"\n",
        "for i in range(0, max_slots, 50):\n",
        "  line = \"when total_slot_ms between \"+str(i)+\" and \"+str(i+50)+\" then \"+str(i+50)+'\\n'\n",
        "  query2 = query2 + line\n",
        "query2 = query2 + \"\"\"  end) as bucket\n",
        "FROM \"\"\"+dataset+\"\"\".slots\n",
        "  group by timestamp_trunc(period_start, MINUTE)\"\"\"\n",
        "\n",
        "if verbose:\n",
        "  print(query2)\n",
        "\n",
        "df = pd.io.gbq.read_gbq(query=query2, project_id=project_id, dialect='standard')"
      ],
      "metadata": {
        "id": "hR7o0v4Hd0f3",
        "executionInfo": {
          "status": "error",
          "timestamp": 1728245213399,
          "user_tz": -180,
          "elapsed": 1327,
          "user": {
            "displayName": "",
            "userId": ""
          }
        },
        "colab": {
          "base_uri": "https://localhost:8080/",
          "height": 245
        },
        "outputId": "76f3bcb0-3ab3-46d4-ea34-c0d938bc3a2c"
      },
      "execution_count": 6,
      "outputs": [
        {
          "output_type": "error",
          "ename": "ValueError",
          "evalue": "cannot convert float NaN to integer",
          "traceback": [
            "\u001b[0;31m---------------------------------------------------------------------------\u001b[0m",
            "\u001b[0;31mValueError\u001b[0m                                Traceback (most recent call last)",
            "\u001b[0;32m<ipython-input-6-fb408e5b05ea>\u001b[0m in \u001b[0;36m<cell line: 3>\u001b[0;34m()\u001b[0m\n\u001b[1;32m      1\u001b[0m \u001b[0mquery1\u001b[0m \u001b[0;34m=\u001b[0m \u001b[0;34m\"select max(total_slot_ms) as max_slots from \"\u001b[0m\u001b[0;34m+\u001b[0m\u001b[0mdataset\u001b[0m\u001b[0;34m+\u001b[0m\u001b[0;34m\".slots\"\u001b[0m\u001b[0;34m\u001b[0m\u001b[0;34m\u001b[0m\u001b[0m\n\u001b[1;32m      2\u001b[0m \u001b[0mdf\u001b[0m \u001b[0;34m=\u001b[0m \u001b[0mpd\u001b[0m\u001b[0;34m.\u001b[0m\u001b[0mio\u001b[0m\u001b[0;34m.\u001b[0m\u001b[0mgbq\u001b[0m\u001b[0;34m.\u001b[0m\u001b[0mread_gbq\u001b[0m\u001b[0;34m(\u001b[0m\u001b[0mquery\u001b[0m\u001b[0;34m=\u001b[0m\u001b[0mquery1\u001b[0m\u001b[0;34m,\u001b[0m \u001b[0mproject_id\u001b[0m\u001b[0;34m=\u001b[0m\u001b[0mproject_id\u001b[0m\u001b[0;34m,\u001b[0m \u001b[0mdialect\u001b[0m\u001b[0;34m=\u001b[0m\u001b[0;34m'standard'\u001b[0m\u001b[0;34m)\u001b[0m\u001b[0;34m\u001b[0m\u001b[0;34m\u001b[0m\u001b[0m\n\u001b[0;32m----> 3\u001b[0;31m \u001b[0mmax_slots\u001b[0m \u001b[0;34m=\u001b[0m \u001b[0mint\u001b[0m\u001b[0;34m(\u001b[0m\u001b[0mdf\u001b[0m\u001b[0;34m.\u001b[0m\u001b[0m_get_value\u001b[0m\u001b[0;34m(\u001b[0m\u001b[0;36m0\u001b[0m\u001b[0;34m,\u001b[0m \u001b[0;34m'max_slots'\u001b[0m\u001b[0;34m)\u001b[0m\u001b[0;34m)\u001b[0m\u001b[0;34m\u001b[0m\u001b[0;34m\u001b[0m\u001b[0m\n\u001b[0m\u001b[1;32m      4\u001b[0m query2 = \"create view \"+dataset+\".bucketed\"+\"\"\" as SELECT\n\u001b[1;32m      5\u001b[0m   \u001b[0mtimestamp_trunc\u001b[0m\u001b[0;34m(\u001b[0m\u001b[0mperiod_start\u001b[0m\u001b[0;34m,\u001b[0m \u001b[0mMINUTE\u001b[0m\u001b[0;34m)\u001b[0m \u001b[0;32mas\u001b[0m \u001b[0mperiod_start\u001b[0m\u001b[0;34m,\u001b[0m\u001b[0;34m\u001b[0m\u001b[0;34m\u001b[0m\u001b[0m\n",
            "\u001b[0;31mValueError\u001b[0m: cannot convert float NaN to integer"
          ]
        }
      ]
    },
    {
      "cell_type": "markdown",
      "source": [
        "**Step 6**<br>\n",
        "Here we create a view called buckets_count that shows hoe many time periods (minutes) fall into each bucket.<br>\n",
        "Then we print the contents of the view."
      ],
      "metadata": {
        "id": "hB8ZVTWwAV7g"
      }
    },
    {
      "cell_type": "code",
      "source": [
        "query = \"create view \"+dataset+\"\"\".buckets_count as SELECT\n",
        "  bucket,\n",
        "  COUNT(*) as periods,\n",
        "FROM `\"\"\"+project_id+\".\"+dataset+\"\"\".bucketed`\n",
        "where bucket is not null\n",
        "GROUP BY\n",
        "  bucket\"\"\"\n",
        "\n",
        "if verbose:\n",
        "  print(query)\n",
        "\n",
        "df = pd.io.gbq.read_gbq(query=query, project_id=project_id, dialect='standard')\n",
        "query = 'select * from '+dataset+\".buckets_count order by bucket\"\n",
        "\n",
        "if verbose:\n",
        "  print(query)\n",
        "df = pd.io.gbq.read_gbq(query=query, project_id=project_id, dialect='standard')\n",
        "print(df)"
      ],
      "metadata": {
        "id": "PvRkZok7eHMx",
        "executionInfo": {
          "status": "ok",
          "timestamp": 1728206017074,
          "user_tz": -180,
          "elapsed": 2754,
          "user": {
            "displayName": "",
            "userId": ""
          }
        },
        "colab": {
          "base_uri": "https://localhost:8080/"
        },
        "outputId": "39db89e5-f420-4769-98ea-9a52bfe82899"
      },
      "execution_count": null,
      "outputs": [
        {
          "output_type": "stream",
          "name": "stdout",
          "text": [
            "create view test2.buckets_count as SELECT\n",
            "  bucket,\n",
            "  COUNT(*) as periods,\n",
            "FROM `superplay-437309.test2.bucketed`\n",
            "where bucket is not null\n",
            "GROUP BY\n",
            "  bucket\n",
            "select * from test2.buckets_count order by bucket\n",
            "     bucket  periods\n",
            "0         0      127\n",
            "1        50     1740\n",
            "2       100      834\n",
            "3       150      523\n",
            "4       200      171\n",
            "..      ...      ...\n",
            "378   36000        1\n",
            "379   37750        1\n",
            "380   42000        1\n",
            "381   45550        1\n",
            "382   51400        1\n",
            "\n",
            "[383 rows x 2 columns]\n"
          ]
        }
      ]
    },
    {
      "cell_type": "markdown",
      "source": [
        "For our next calculations we need to know Two numbers:\n",
        "\n",
        "\n",
        "1.   How many hours there are in our timeframe\n",
        "2.   How many time periods we have\n",
        "\n",
        "So steps 7 and 8 find those values.\n",
        "\n",
        "\n",
        "\n"
      ],
      "metadata": {
        "id": "PdAz0WMoChFM"
      }
    },
    {
      "cell_type": "markdown",
      "source": [
        "**Step 7**<br>\n",
        "Calculate how many hours we have in the chosen time frame."
      ],
      "metadata": {
        "id": "0uTDf2dtBhq0"
      }
    },
    {
      "cell_type": "code",
      "source": [
        "from datetime import datetime\n",
        "date_format = '%Y-%m-%d'\n",
        "diff = datetime.strptime(end_timestamp,date_format) - datetime.strptime(start_timestamp, date_format)\n",
        "hours = diff.days * 24 + diff.seconds / 3600\n",
        "if verbose:\n",
        "  print(\"hours: \"+str(hours))"
      ],
      "metadata": {
        "id": "znsJmnaRi_OS",
        "colab": {
          "base_uri": "https://localhost:8080/"
        },
        "executionInfo": {
          "status": "ok",
          "timestamp": 1728206020850,
          "user_tz": -180,
          "elapsed": 455,
          "user": {
            "displayName": "",
            "userId": ""
          }
        },
        "outputId": "6297d48c-f5b2-4f03-a644-ca526f705501"
      },
      "execution_count": null,
      "outputs": [
        {
          "output_type": "stream",
          "name": "stdout",
          "text": [
            "hours: 168.0\n"
          ]
        }
      ]
    },
    {
      "cell_type": "markdown",
      "source": [
        "**Step 8**<br>\n",
        "Calculate how many time slots we have."
      ],
      "metadata": {
        "id": "68WBq6DnDAGK"
      }
    },
    {
      "cell_type": "code",
      "source": [
        "query = \"select count(*) as periods from \"+dataset+\".bucketed\"\n",
        "df = pd.io.gbq.read_gbq(query=query, project_id=project_id, dialect='standard')\n",
        "periods = df._get_value(0, 'periods')\n",
        "if verbose:\n",
        "  print(\"periods: \"+str(periods))"
      ],
      "metadata": {
        "id": "n4UOfEKHC1Ha",
        "colab": {
          "base_uri": "https://localhost:8080/"
        },
        "executionInfo": {
          "status": "ok",
          "timestamp": 1728206024157,
          "user_tz": -180,
          "elapsed": 1038,
          "user": {
            "displayName": "",
            "userId": ""
          }
        },
        "outputId": "804b7a26-1028-4b8e-e82c-077beb9919d8"
      },
      "execution_count": null,
      "outputs": [
        {
          "output_type": "stream",
          "name": "stdout",
          "text": [
            "periods: 8241\n"
          ]
        }
      ]
    },
    {
      "cell_type": "markdown",
      "source": [
        "**Step 9**<br>\n",
        "This is the heart of our calculation.<br><br>\n",
        "We know how many hours were in the selected timeframe and how many time periods we had during this timeframe.\n",
        "So we can calculate what is the percentage of all the time that we used each bucket.<br>\n",
        "If we know the percentage of time and we know how many wours we had in the timeframe then we can calculate how many hours each bucket was active.<br>\n",
        "And we know how much each slot/hour costs for each BigQuery edition so we can calculate the cost each bucket incured.\n",
        "\n",
        "So here we create a view called calculated that holds the bucket, the percentage of all time that this bucket was used, how many hours it was used, and how much we would be charged for it if we use the selected edition."
      ],
      "metadata": {
        "id": "IerxqG84D_ji"
      }
    },
    {
      "cell_type": "code",
      "source": [
        "if edition == 'Enterprise':\n",
        "  price = 0.6\n",
        "elif edition == 'Enterprise plus':\n",
        "  price = 0.1\n",
        "else:\n",
        "  peice = 0.4\n",
        "\n",
        "query = \"create view \"+dataset+\"\"\".calculated as SELECT\n",
        "  bucket,\n",
        "  round(periods/\"\"\"+str(periods)+\"\"\"*100, 3) as percentage,\n",
        "  round(periods/\"\"\"+str(periods)+\"*100/100*\"+str(hours)+\"\"\", 3) as hours,\n",
        "  round(periods/\"\"\"+str(periods)+\"*100/100*\"+str(hours)+\"*bucket*\"+str(price)+\"\"\", 3) as cost_usd\n",
        "FROM\n",
        "  `\"\"\"+project_id+\".\"+dataset+\"\"\".buckets_count`\n",
        "  order by bucket\"\"\"\n",
        "\n",
        "if verbose:\n",
        "  print(query)\n",
        "\n",
        "df = pd.io.gbq.read_gbq(query=query, project_id=project_id, dialect='standard')"
      ],
      "metadata": {
        "id": "lpMDkjb3bqIo",
        "executionInfo": {
          "status": "ok",
          "timestamp": 1728206028377,
          "user_tz": -180,
          "elapsed": 917,
          "user": {
            "displayName": "",
            "userId": ""
          }
        },
        "colab": {
          "base_uri": "https://localhost:8080/"
        },
        "outputId": "2f0d5897-f74d-4d73-8f6f-995faafbed79"
      },
      "execution_count": null,
      "outputs": [
        {
          "output_type": "stream",
          "name": "stdout",
          "text": [
            "create view test2.calculated as SELECT\n",
            "  bucket,\n",
            "  round(periods/8241*100, 3) as percentage,\n",
            "  round(periods/8241*100/100*168.0, 3) as hours,\n",
            "  round(periods/8241*100/100*168.0*bucket*0.6, 3) as cost_usd\n",
            "FROM\n",
            "  `superplay-437309.test2.buckets_count`\n",
            "  order by bucket\n"
          ]
        }
      ]
    },
    {
      "cell_type": "markdown",
      "source": [
        "**Let's see how it looks like.**"
      ],
      "metadata": {
        "id": "lptkZlWMFH1o"
      }
    },
    {
      "cell_type": "code",
      "source": [
        "query = \"select * from \"+dataset+\".calculated\"\n",
        "calculated = pd.io.gbq.read_gbq(query=query, project_id=project_id, dialect='standard')\n"
      ],
      "metadata": {
        "id": "fM6iGYiV6qdf",
        "executionInfo": {
          "status": "ok",
          "timestamp": 1728206035326,
          "user_tz": -180,
          "elapsed": 4083,
          "user": {
            "displayName": "",
            "userId": ""
          }
        },
        "colab": {
          "base_uri": "https://localhost:8080/",
          "height": 81,
          "referenced_widgets": [
            "1cbd5044ad3249469c19c41b09319d39",
            "38983e2e7f80424f8d3ee1b519e96403",
            "d10dadd1d8c541a393fad08a492cf868",
            "7de2ed4603fb4ee2823f8aaaf2284c84",
            "298017809d8d4aec83294e6207db79a8",
            "aa610ea692334addb2741e28774ba780",
            "a26771506df5497ea8d80da99674015f",
            "a377aa737ef34e63a83cd46fc01a80e9",
            "edd256700cd2430c9357bfb79e529656",
            "75284bfe017346d8965fd14593d5413b",
            "0ea01a9f3c3949ec8c0dfbd457fe9fce",
            "9a3318586a7845349150eccf105e874f",
            "39f3925d1b0d47b089a87f814bfbd757",
            "f9dd2cfd39794e76864ebb1d17f3e549",
            "97a5a20b8a6743d5845465ec4b1902cf",
            "ba936ab2b7a043a290d060f28c389f9f",
            "2ac9285d136443078845cce069de740e",
            "57c3b5b1c8dc4829be29c33e886b2a31",
            "e4a6f9fc85c64ce398b5ba153c1225e6",
            "fe34ead0549e41938cb4a44c5c54a314",
            "0e136882fb544cdfa0236422e22e84aa",
            "a547bd307881426982255696d6a58fea"
          ]
        },
        "outputId": "5f7ae0c4-9af9-494b-e2a9-9da50419b5aa"
      },
      "execution_count": null,
      "outputs": [
        {
          "output_type": "display_data",
          "data": {
            "text/plain": [
              "Query is running:   0%|          |"
            ],
            "application/vnd.jupyter.widget-view+json": {
              "version_major": 2,
              "version_minor": 0,
              "model_id": "1cbd5044ad3249469c19c41b09319d39"
            }
          },
          "metadata": {}
        },
        {
          "output_type": "display_data",
          "data": {
            "text/plain": [
              "Downloading:   0%|          |"
            ],
            "application/vnd.jupyter.widget-view+json": {
              "version_major": 2,
              "version_minor": 0,
              "model_id": "9a3318586a7845349150eccf105e874f"
            }
          },
          "metadata": {}
        }
      ]
    },
    {
      "cell_type": "code",
      "source": [
        "print(calculated)"
      ],
      "metadata": {
        "id": "pX8mhC-riKaD",
        "executionInfo": {
          "status": "ok",
          "timestamp": 1728206037748,
          "user_tz": -180,
          "elapsed": 424,
          "user": {
            "displayName": "",
            "userId": ""
          }
        },
        "colab": {
          "base_uri": "https://localhost:8080/"
        },
        "outputId": "65e94b48-cd3a-4d59-f901-6b0e54e54cf2"
      },
      "execution_count": null,
      "outputs": [
        {
          "output_type": "stream",
          "name": "stdout",
          "text": [
            "     bucket  percentage   hours  cost_usd\n",
            "0         0       1.541   2.589     0.000\n",
            "1        50      21.114  35.471  1064.143\n",
            "2       100      10.120  17.002  1020.109\n",
            "3       150       6.346  10.662   959.563\n",
            "4       200       2.075   3.486   418.318\n",
            "..      ...         ...     ...       ...\n",
            "378   36000       0.012   0.020   440.335\n",
            "379   37750       0.012   0.020   461.740\n",
            "380   42000       0.012   0.020   513.724\n",
            "381   45550       0.012   0.020   557.146\n",
            "382   51400       0.012   0.020   628.700\n",
            "\n",
            "[383 rows x 4 columns]\n"
          ]
        }
      ]
    },
    {
      "cell_type": "markdown",
      "source": [
        "**Stage 10**<br>\n",
        "Here is a visualization of the histogram that shows the distribution of the slot buckets and the time spent in each of them.<br>\n",
        "There should be a \"sweet spot\" where most of the buckets under it are heavily used and above it there is only slight usage.<br>\n",
        "This shhould give you the sense of where that sweet spot should be."
      ],
      "metadata": {
        "id": "Zy8nUuJ9FOSq"
      }
    },
    {
      "source": [
        "import pandas as pd\n",
        "import matplotlib.pyplot as plt\n",
        "\n",
        "calculated.plot(x=\"bucket\", y=\"percentage\", kind=\"line\",figsize=(15,9))"
      ],
      "cell_type": "code",
      "metadata": {
        "id": "wNn5E1mT0JWp",
        "executionInfo": {
          "status": "ok",
          "timestamp": 1728206041109,
          "user_tz": -180,
          "elapsed": 503,
          "user": {
            "displayName": "",
            "userId": ""
          }
        },
        "colab": {
          "base_uri": "https://localhost:8080/",
          "height": 790
        },
        "outputId": "9fdde24e-5702-4869-86d2-909368ad5e6c"
      },
      "execution_count": null,
      "outputs": [
        {
          "output_type": "execute_result",
          "data": {
            "text/plain": [
              "<Axes: xlabel='bucket'>"
            ]
          },
          "metadata": {},
          "execution_count": 28
        },
        {
          "output_type": "display_data",
          "data": {
            "text/plain": [
              "<Figure size 1500x900 with 1 Axes>"
            ],
            "image/png": "[encoded data removed]"
          },
          "metadata": {}
        }
      ]
    },
    {
      "cell_type": "markdown",
      "source": [
        "**Step 11**<br>\n",
        "Use the following query to identify where slot usage drops below 1% of the time."
      ],
      "metadata": {
        "id": "LJgFM9h75vZw"
      }
    },
    {
      "cell_type": "code",
      "source": [
        "query = \"select max(bucket) as recommended from \"+dataset+\".calculated where percentage > 1\"\n",
        "\n",
        "if verbose:\n",
        "  print(query)\n",
        "\n",
        "df = pd.io.gbq.read_gbq(query=query, project_id=project_id, dialect='standard')\n",
        "print(df)"
      ],
      "metadata": {
        "id": "3RCxMi4tZyfF",
        "executionInfo": {
          "status": "ok",
          "timestamp": 1728206081090,
          "user_tz": -180,
          "elapsed": 1956,
          "user": {
            "displayName": "",
            "userId": ""
          }
        },
        "colab": {
          "base_uri": "https://localhost:8080/"
        },
        "outputId": "2674d38e-65f0-4e13-bd06-c42dfa2768e1"
      },
      "execution_count": null,
      "outputs": [
        {
          "output_type": "stream",
          "name": "stdout",
          "text": [
            "select max(bucket) as recommended from test2.calculated where percentage > 1\n",
            "   recommended\n",
            "0          750\n"
          ]
        }
      ]
    },
    {
      "cell_type": "markdown",
      "source": [
        "**Step 12**<br>\n",
        "The following steps try to find the optimal max_slots that best balances cost and performance.<br>\n",
        "As a first step choose the max_slots value you want to check."
      ],
      "metadata": {
        "id": "aBwS6v6YG2AJ"
      }
    },
    {
      "cell_type": "code",
      "source": [
        "max_slots = 750 # @param {\"type\":\"number\"}"
      ],
      "metadata": {
        "id": "h-ZFZDCoZhEV"
      },
      "execution_count": null,
      "outputs": []
    },
    {
      "cell_type": "markdown",
      "source": [
        "**Explanation**<br>\n",
        "The trade off is cost vs. performance. If we choose the right max_slots than we can reduce the cost while only a small number of queries will decrease in performance. If these are not time critical queries (such as ETLs, background jobs etc.) than we may want to \"sacrifice\" them in return for  lower cost."
      ],
      "metadata": {
        "id": "l-fmTKGtghxe"
      }
    },
    {
      "cell_type": "markdown",
      "source": [
        "**Step 13**<br>\n",
        "We try to calculate how much will we pay if we choose the above max_slots.<br>\n",
        "This is a naive approach as it does not take into consideration all the buckers above the max_slots, as they all had 0 percent."
      ],
      "metadata": {
        "id": "Ht67chWWgYJU"
      }
    },
    {
      "cell_type": "code",
      "source": [
        "answer = calculated[calculated['bucket'] <= max_slots]\n",
        "summed = answer['cost_usd'].sum()\n",
        "print('Total cost estimation for the time frame using maximum slots '+str(max_slots)+' is '+str(summed)+' USD.' )"
      ],
      "metadata": {
        "id": "cd9arA-rYYfL",
        "colab": {
          "base_uri": "https://localhost:8080/"
        },
        "executionInfo": {
          "status": "ok",
          "timestamp": 1728206091705,
          "user_tz": -180,
          "elapsed": 420,
          "user": {
            "displayName": "",
            "userId": ""
          }
        },
        "outputId": "fe23d657-9a61-4d93-a2a3-cbd233f7f03b"
      },
      "execution_count": null,
      "outputs": [
        {
          "output_type": "stream",
          "name": "stdout",
          "text": [
            "Total cost estimation for the time frame using maximum slots 750 is 8320.493999999999 USD.\n"
          ]
        }
      ]
    },
    {
      "cell_type": "markdown",
      "source": [
        "**Step 14**<br>\n",
        "Finally, we want to see which queries will be the most affected by the slot decrease (the ones that has slot consumption above max_slots).\n",
        "Many times you find out that those queries are not time sensitive (such as background processes) and you can sacrifice their performance to lower cost."
      ],
      "metadata": {
        "id": "_VlJVjPdiKLO"
      }
    },
    {
      "cell_type": "code",
      "source": [
        "query = \"\"\"SELECT\n",
        "  *\n",
        "FROM (\n",
        "  SELECT\n",
        "    timeline.job_id AS job_id,\n",
        "    jobs.query AS query,\n",
        "    jobs.job_type AS job_type,\n",
        "    ROUND(MAX(timeline.period_slot_ms/1000)) AS total_slot_ms,\n",
        "    COUNT(timeline.job_id) AS slices\n",
        "  FROM\n",
        "    `\"\"\"+project_id+\"`.`region-\"+region+\"\"\"`.INFORMATION_SCHEMA.JOBS_TIMELINE AS timeline\n",
        "  JOIN\n",
        "    `\"\"\"+project_id+\"`.`region-\"+region+\"\"\"`.INFORMATION_SCHEMA.JOBS AS jobs\n",
        "  ON\n",
        "    timeline.job_id = jobs.job_id\n",
        "  WHERE\n",
        "    period_start BETWEEN CAST(\\\"\"\"\"+start_timestamp+\"\"\"\\\" AS TIMESTAMP)\n",
        "  AND \"\"\"+\"CAST(\\\"\"+end_timestamp+\"\\\" AS TIMESTAMP)\"\"\"+\"\"\"\n",
        "  GROUP BY\n",
        "    job_id,\n",
        "    query,\n",
        "    job_type\n",
        "  ORDER BY\n",
        "    slices DESC)\n",
        "WHERE\n",
        "  total_slot_ms>\"\"\"+str(max_slots)\n",
        "\n",
        "if verbose:\n",
        "  print(query)\n",
        "\n",
        "df = pd.io.gbq.read_gbq(query=query, project_id=project_id, dialect='standard')\n",
        "print(df)\n"
      ],
      "metadata": {
        "id": "lqDLbWQ4x_dV",
        "executionInfo": {
          "status": "ok",
          "timestamp": 1728206115450,
          "user_tz": -180,
          "elapsed": 2919,
          "user": {
            "displayName": "",
            "userId": ""
          }
        },
        "colab": {
          "base_uri": "https://localhost:8080/"
        },
        "outputId": "ba891815-b2a7-44ee-b812-695fa89424c6"
      },
      "execution_count": null,
      "outputs": [
        {
          "output_type": "stream",
          "name": "stdout",
          "text": [
            "SELECT\n",
            "  *\n",
            "FROM (\n",
            "  SELECT\n",
            "    timeline.job_id AS job_id,\n",
            "    jobs.query AS query,\n",
            "    jobs.job_type AS job_type,\n",
            "    ROUND(MAX(timeline.period_slot_ms/1000)) AS total_slot_ms,\n",
            "    COUNT(timeline.job_id) AS slices\n",
            "  FROM\n",
            "    `superplay-437309`.`region-US`.INFORMATION_SCHEMA.JOBS_TIMELINE AS timeline\n",
            "  JOIN\n",
            "    `superplay-437309`.`region-US`.INFORMATION_SCHEMA.JOBS AS jobs\n",
            "  ON\n",
            "    timeline.job_id = jobs.job_id\n",
            "  WHERE\n",
            "    period_start BETWEEN CAST(\"2024-09-23\" AS TIMESTAMP)\n",
            "  AND CAST(\"2024-09-30\" AS TIMESTAMP)\n",
            "  GROUP BY\n",
            "    job_id,\n",
            "    query,\n",
            "    job_type\n",
            "  ORDER BY\n",
            "    slices DESC)\n",
            "WHERE\n",
            "  total_slot_ms>750\n",
            "Empty DataFrame\n",
            "Columns: [job_id, query, job_type, total_slot_ms, slices]\n",
            "Index: []\n"
          ]
        }
      ]
    },
    {
      "cell_type": "markdown",
      "source": [
        "**Step 15**\n",
        "\n",
        "Calculate baseline.\n",
        "Here we check if it's a good idea to set a baseline wit an annual/3Y commitment."
      ],
      "metadata": {
        "id": "MF7l6n3UZPbQ"
      }
    },
    {
      "cell_type": "code",
      "source": [
        "query1 = \"select min(bucket) from test.calculated where percentage between 20 and 40\"\n",
        "query2 = \"select min(bucket) from test.calculated where percentage > 40\"\n",
        "\n",
        "df = pd.io.gbq.read_gbq(query=query1, project_id=project_id, dialect='standard')\n",
        "df2 = pd.io.gbq.read_gbq(query=query2, project_id=project_id, dialect='standard')\n",
        "\n",
        "if verbose:\n",
        "  print(query1)\n",
        "  print(query2)\n",
        "\n",
        "if not df.empty:\n",
        "  print (\"Yearly commitment of \"+df+\" slots will save you \")\n",
        "\n",
        "if not df2.empty:\n",
        "  print(\"Three year commitment of \"+df2+\" slots will save you \")"
      ],
      "metadata": {
        "id": "e8YgX9RaZhXG"
      },
      "execution_count": null,
      "outputs": []
    },
    {
      "cell_type": "markdown",
      "source": [
        "**Step 16**<br>\n",
        "Cleanup"
      ],
      "metadata": {
        "id": "jVeUQWLFi9oh"
      }
    },
    {
      "cell_type": "code",
      "source": [
        "queries = []\n",
        "queries.append(\"drop view \"+dataset+\".calculated\")\n",
        "queries.append(\"drop view \"+dataset+\".buckets_count\")\n",
        "queries.append(\"drop view \"+dataset+\".bucketed\")\n",
        "queries.append(\"drop table \"+dataset+\".bytes\")\n",
        "queries.append(\"drop table \"+dataset+\".slots\")\n",
        "\n",
        "for query in queries:\n",
        "  df = pd.io.gbq.read_gbq(query=query, project_id=project_id, dialect='standard')\n",
        "\n",
        "print (\"Delete complete.\")"
      ],
      "metadata": {
        "id": "C83CPECgi8QH",
        "colab": {
          "base_uri": "https://localhost:8080/"
        },
        "executionInfo": {
          "status": "ok",
          "timestamp": 1728206130915,
          "user_tz": -180,
          "elapsed": 2268,
          "user": {
            "displayName": "",
            "userId": ""
          }
        },
        "outputId": "866ede95-dfb8-4add-9d72-7582d85983f4"
      },
      "execution_count": null,
      "outputs": [
        {
          "output_type": "stream",
          "name": "stdout",
          "text": [
            "Delete complete.\n"
          ]
        }
      ]
    }
  ]
}