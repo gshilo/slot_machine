{
  "nbformat": 4,
  "nbformat_minor": 0,
  "metadata": {
    "colab": {
      "name": "Slot_machine",
      "cell_execution_strategy": "setup",
      "provenance": []
    },
    "kernelspec": {
      "name": "python3",
      "display_name": "Python 3"
    },
    "language_info": {
      "name": "python"
    },
    "widgets": {
      "application/vnd.jupyter.widget-state+json": {
        "1ec11896686e4170b0cdd8e93a7decc6": {
          "model_module": "@jupyter-widgets/controls",
          "model_name": "HBoxModel",
          "model_module_version": "1.5.0",
          "state": {
            "_dom_classes": [],
            "_model_module": "@jupyter-widgets/controls",
            "_model_module_version": "1.5.0",
            "_model_name": "HBoxModel",
            "_view_count": null,
            "_view_module": "@jupyter-widgets/controls",
            "_view_module_version": "1.5.0",
            "_view_name": "HBoxView",
            "box_style": "",
            "children": [
              "IPY_MODEL_e80dd316e33340dba3fdfdf85184dbb5",
              "IPY_MODEL_d80cf7ff2bb34d22806dbccb4107a39e",
              "IPY_MODEL_648b78adead843bab5bf4bbe3eb3e8a5"
            ],
            "layout": "IPY_MODEL_38db9dccf2454d3d964371f78c05fa47"
          }
        },
        "e80dd316e33340dba3fdfdf85184dbb5": {
          "model_module": "@jupyter-widgets/controls",
          "model_name": "HTMLModel",
          "model_module_version": "1.5.0",
          "state": {
            "_dom_classes": [],
            "_model_module": "@jupyter-widgets/controls",
            "_model_module_version": "1.5.0",
            "_model_name": "HTMLModel",
            "_view_count": null,
            "_view_module": "@jupyter-widgets/controls",
            "_view_module_version": "1.5.0",
            "_view_name": "HTMLView",
            "description": "",
            "description_tooltip": null,
            "layout": "IPY_MODEL_48a3f6e2516d47c4a5d824a5435930f2",
            "placeholder": "​",
            "style": "IPY_MODEL_03ee1954eacf456c987b6d41300e1d46",
            "value": "Job ID 1d18f089-f98b-472d-b11c-3545f99a06a3 successfully executed: 100%"
          }
        },
        "d80cf7ff2bb34d22806dbccb4107a39e": {
          "model_module": "@jupyter-widgets/controls",
          "model_name": "FloatProgressModel",
          "model_module_version": "1.5.0",
          "state": {
            "_dom_classes": [],
            "_model_module": "@jupyter-widgets/controls",
            "_model_module_version": "1.5.0",
            "_model_name": "FloatProgressModel",
            "_view_count": null,
            "_view_module": "@jupyter-widgets/controls",
            "_view_module_version": "1.5.0",
            "_view_name": "ProgressView",
            "bar_style": "success",
            "description": "",
            "description_tooltip": null,
            "layout": "IPY_MODEL_ede05890dafd42de890fa5c2f25a88b0",
            "max": 1,
            "min": 0,
            "orientation": "horizontal",
            "style": "IPY_MODEL_4faf35ab31ae49ae97511c2226160eb0",
            "value": 1
          }
        },
        "648b78adead843bab5bf4bbe3eb3e8a5": {
          "model_module": "@jupyter-widgets/controls",
          "model_name": "HTMLModel",
          "model_module_version": "1.5.0",
          "state": {
            "_dom_classes": [],
            "_model_module": "@jupyter-widgets/controls",
            "_model_module_version": "1.5.0",
            "_model_name": "HTMLModel",
            "_view_count": null,
            "_view_module": "@jupyter-widgets/controls",
            "_view_module_version": "1.5.0",
            "_view_name": "HTMLView",
            "description": "",
            "description_tooltip": null,
            "layout": "IPY_MODEL_1ecda70fdb4d4b198d0e591aaec6c679",
            "placeholder": "​",
            "style": "IPY_MODEL_ad6c262cfdd24cb08441b1a496399725",
            "value": ""
          }
        },
        "38db9dccf2454d3d964371f78c05fa47": {
          "model_module": "@jupyter-widgets/base",
          "model_name": "LayoutModel",
          "model_module_version": "1.2.0",
          "state": {
            "_model_module": "@jupyter-widgets/base",
            "_model_module_version": "1.2.0",
            "_model_name": "LayoutModel",
            "_view_count": null,
            "_view_module": "@jupyter-widgets/base",
            "_view_module_version": "1.2.0",
            "_view_name": "LayoutView",
            "align_content": null,
            "align_items": null,
            "align_self": null,
            "border": null,
            "bottom": null,
            "display": null,
            "flex": null,
            "flex_flow": null,
            "grid_area": null,
            "grid_auto_columns": null,
            "grid_auto_flow": null,
            "grid_auto_rows": null,
            "grid_column": null,
            "grid_gap": null,
            "grid_row": null,
            "grid_template_areas": null,
            "grid_template_columns": null,
            "grid_template_rows": null,
            "height": null,
            "justify_content": null,
            "justify_items": null,
            "left": null,
            "margin": null,
            "max_height": null,
            "max_width": null,
            "min_height": null,
            "min_width": null,
            "object_fit": null,
            "object_position": null,
            "order": null,
            "overflow": null,
            "overflow_x": null,
            "overflow_y": null,
            "padding": null,
            "right": null,
            "top": null,
            "visibility": null,
            "width": null
          }
        },
        "48a3f6e2516d47c4a5d824a5435930f2": {
          "model_module": "@jupyter-widgets/base",
          "model_name": "LayoutModel",
          "model_module_version": "1.2.0",
          "state": {
            "_model_module": "@jupyter-widgets/base",
            "_model_module_version": "1.2.0",
            "_model_name": "LayoutModel",
            "_view_count": null,
            "_view_module": "@jupyter-widgets/base",
            "_view_module_version": "1.2.0",
            "_view_name": "LayoutView",
            "align_content": null,
            "align_items": null,
            "align_self": null,
            "border": null,
            "bottom": null,
            "display": null,
            "flex": null,
            "flex_flow": null,
            "grid_area": null,
            "grid_auto_columns": null,
            "grid_auto_flow": null,
            "grid_auto_rows": null,
            "grid_column": null,
            "grid_gap": null,
            "grid_row": null,
            "grid_template_areas": null,
            "grid_template_columns": null,
            "grid_template_rows": null,
            "height": null,
            "justify_content": null,
            "justify_items": null,
            "left": null,
            "margin": null,
            "max_height": null,
            "max_width": null,
            "min_height": null,
            "min_width": null,
            "object_fit": null,
            "object_position": null,
            "order": null,
            "overflow": null,
            "overflow_x": null,
            "overflow_y": null,
            "padding": null,
            "right": null,
            "top": null,
            "visibility": null,
            "width": null
          }
        },
        "03ee1954eacf456c987b6d41300e1d46": {
          "model_module": "@jupyter-widgets/controls",
          "model_name": "DescriptionStyleModel",
          "model_module_version": "1.5.0",
          "state": {
            "_model_module": "@jupyter-widgets/controls",
            "_model_module_version": "1.5.0",
            "_model_name": "DescriptionStyleModel",
            "_view_count": null,
            "_view_module": "@jupyter-widgets/base",
            "_view_module_version": "1.2.0",
            "_view_name": "StyleView",
            "description_width": ""
          }
        },
        "ede05890dafd42de890fa5c2f25a88b0": {
          "model_module": "@jupyter-widgets/base",
          "model_name": "LayoutModel",
          "model_module_version": "1.2.0",
          "state": {
            "_model_module": "@jupyter-widgets/base",
            "_model_module_version": "1.2.0",
            "_model_name": "LayoutModel",
            "_view_count": null,
            "_view_module": "@jupyter-widgets/base",
            "_view_module_version": "1.2.0",
            "_view_name": "LayoutView",
            "align_content": null,
            "align_items": null,
            "align_self": null,
            "border": null,
            "bottom": null,
            "display": null,
            "flex": null,
            "flex_flow": null,
            "grid_area": null,
            "grid_auto_columns": null,
            "grid_auto_flow": null,
            "grid_auto_rows": null,
            "grid_column": null,
            "grid_gap": null,
            "grid_row": null,
            "grid_template_areas": null,
            "grid_template_columns": null,
            "grid_template_rows": null,
            "height": null,
            "justify_content": null,
            "justify_items": null,
            "left": null,
            "margin": null,
            "max_height": null,
            "max_width": null,
            "min_height": null,
            "min_width": null,
            "object_fit": null,
            "object_position": null,
            "order": null,
            "overflow": null,
            "overflow_x": null,
            "overflow_y": null,
            "padding": null,
            "right": null,
            "top": null,
            "visibility": null,
            "width": null
          }
        },
        "4faf35ab31ae49ae97511c2226160eb0": {
          "model_module": "@jupyter-widgets/controls",
          "model_name": "ProgressStyleModel",
          "model_module_version": "1.5.0",
          "state": {
            "_model_module": "@jupyter-widgets/controls",
            "_model_module_version": "1.5.0",
            "_model_name": "ProgressStyleModel",
            "_view_count": null,
            "_view_module": "@jupyter-widgets/base",
            "_view_module_version": "1.2.0",
            "_view_name": "StyleView",
            "bar_color": null,
            "description_width": ""
          }
        },
        "1ecda70fdb4d4b198d0e591aaec6c679": {
          "model_module": "@jupyter-widgets/base",
          "model_name": "LayoutModel",
          "model_module_version": "1.2.0",
          "state": {
            "_model_module": "@jupyter-widgets/base",
            "_model_module_version": "1.2.0",
            "_model_name": "LayoutModel",
            "_view_count": null,
            "_view_module": "@jupyter-widgets/base",
            "_view_module_version": "1.2.0",
            "_view_name": "LayoutView",
            "align_content": null,
            "align_items": null,
            "align_self": null,
            "border": null,
            "bottom": null,
            "display": null,
            "flex": null,
            "flex_flow": null,
            "grid_area": null,
            "grid_auto_columns": null,
            "grid_auto_flow": null,
            "grid_auto_rows": null,
            "grid_column": null,
            "grid_gap": null,
            "grid_row": null,
            "grid_template_areas": null,
            "grid_template_columns": null,
            "grid_template_rows": null,
            "height": null,
            "justify_content": null,
            "justify_items": null,
            "left": null,
            "margin": null,
            "max_height": null,
            "max_width": null,
            "min_height": null,
            "min_width": null,
            "object_fit": null,
            "object_position": null,
            "order": null,
            "overflow": null,
            "overflow_x": null,
            "overflow_y": null,
            "padding": null,
            "right": null,
            "top": null,
            "visibility": null,
            "width": null
          }
        },
        "ad6c262cfdd24cb08441b1a496399725": {
          "model_module": "@jupyter-widgets/controls",
          "model_name": "DescriptionStyleModel",
          "model_module_version": "1.5.0",
          "state": {
            "_model_module": "@jupyter-widgets/controls",
            "_model_module_version": "1.5.0",
            "_model_name": "DescriptionStyleModel",
            "_view_count": null,
            "_view_module": "@jupyter-widgets/base",
            "_view_module_version": "1.2.0",
            "_view_name": "StyleView",
            "description_width": ""
          }
        },
        "a13d447e1856416a954caa5ddca8122a": {
          "model_module": "@jupyter-widgets/controls",
          "model_name": "HBoxModel",
          "model_module_version": "1.5.0",
          "state": {
            "_dom_classes": [],
            "_model_module": "@jupyter-widgets/controls",
            "_model_module_version": "1.5.0",
            "_model_name": "HBoxModel",
            "_view_count": null,
            "_view_module": "@jupyter-widgets/controls",
            "_view_module_version": "1.5.0",
            "_view_name": "HBoxView",
            "box_style": "",
            "children": [
              "IPY_MODEL_c0a92343e8e44dba91b21ee5ab7a9832",
              "IPY_MODEL_fc0d0f8955fb49198d92db5974caff11",
              "IPY_MODEL_6a5f20fe1dd64b8ca4e203068391ec7c"
            ],
            "layout": "IPY_MODEL_8fcea1f9d09f426197bf03cb0caedfec"
          }
        },
        "c0a92343e8e44dba91b21ee5ab7a9832": {
          "model_module": "@jupyter-widgets/controls",
          "model_name": "HTMLModel",
          "model_module_version": "1.5.0",
          "state": {
            "_dom_classes": [],
            "_model_module": "@jupyter-widgets/controls",
            "_model_module_version": "1.5.0",
            "_model_name": "HTMLModel",
            "_view_count": null,
            "_view_module": "@jupyter-widgets/controls",
            "_view_module_version": "1.5.0",
            "_view_name": "HTMLView",
            "description": "",
            "description_tooltip": null,
            "layout": "IPY_MODEL_5699bdf1e81548e4aad74eae5ada7ca2",
            "placeholder": "​",
            "style": "IPY_MODEL_eb298ec9ff7344e7807ba50a98f72aac",
            "value": "Downloading: 100%"
          }
        },
        "fc0d0f8955fb49198d92db5974caff11": {
          "model_module": "@jupyter-widgets/controls",
          "model_name": "FloatProgressModel",
          "model_module_version": "1.5.0",
          "state": {
            "_dom_classes": [],
            "_model_module": "@jupyter-widgets/controls",
            "_model_module_version": "1.5.0",
            "_model_name": "FloatProgressModel",
            "_view_count": null,
            "_view_module": "@jupyter-widgets/controls",
            "_view_module_version": "1.5.0",
            "_view_name": "ProgressView",
            "bar_style": "success",
            "description": "",
            "description_tooltip": null,
            "layout": "IPY_MODEL_d1c193c3482c4acdabecbfc74c1ff119",
            "max": 95,
            "min": 0,
            "orientation": "horizontal",
            "style": "IPY_MODEL_8c70f668186149bca7c71ebbec169fe5",
            "value": 95
          }
        },
        "6a5f20fe1dd64b8ca4e203068391ec7c": {
          "model_module": "@jupyter-widgets/controls",
          "model_name": "HTMLModel",
          "model_module_version": "1.5.0",
          "state": {
            "_dom_classes": [],
            "_model_module": "@jupyter-widgets/controls",
            "_model_module_version": "1.5.0",
            "_model_name": "HTMLModel",
            "_view_count": null,
            "_view_module": "@jupyter-widgets/controls",
            "_view_module_version": "1.5.0",
            "_view_name": "HTMLView",
            "description": "",
            "description_tooltip": null,
            "layout": "IPY_MODEL_b2efc065a7d9429fa60e24eb589159f3",
            "placeholder": "​",
            "style": "IPY_MODEL_4619a22ccacf4020b2dc53da587058c3",
            "value": ""
          }
        },
        "8fcea1f9d09f426197bf03cb0caedfec": {
          "model_module": "@jupyter-widgets/base",
          "model_name": "LayoutModel",
          "model_module_version": "1.2.0",
          "state": {
            "_model_module": "@jupyter-widgets/base",
            "_model_module_version": "1.2.0",
            "_model_name": "LayoutModel",
            "_view_count": null,
            "_view_module": "@jupyter-widgets/base",
            "_view_module_version": "1.2.0",
            "_view_name": "LayoutView",
            "align_content": null,
            "align_items": null,
            "align_self": null,
            "border": null,
            "bottom": null,
            "display": null,
            "flex": null,
            "flex_flow": null,
            "grid_area": null,
            "grid_auto_columns": null,
            "grid_auto_flow": null,
            "grid_auto_rows": null,
            "grid_column": null,
            "grid_gap": null,
            "grid_row": null,
            "grid_template_areas": null,
            "grid_template_columns": null,
            "grid_template_rows": null,
            "height": null,
            "justify_content": null,
            "justify_items": null,
            "left": null,
            "margin": null,
            "max_height": null,
            "max_width": null,
            "min_height": null,
            "min_width": null,
            "object_fit": null,
            "object_position": null,
            "order": null,
            "overflow": null,
            "overflow_x": null,
            "overflow_y": null,
            "padding": null,
            "right": null,
            "top": null,
            "visibility": null,
            "width": null
          }
        },
        "5699bdf1e81548e4aad74eae5ada7ca2": {
          "model_module": "@jupyter-widgets/base",
          "model_name": "LayoutModel",
          "model_module_version": "1.2.0",
          "state": {
            "_model_module": "@jupyter-widgets/base",
            "_model_module_version": "1.2.0",
            "_model_name": "LayoutModel",
            "_view_count": null,
            "_view_module": "@jupyter-widgets/base",
            "_view_module_version": "1.2.0",
            "_view_name": "LayoutView",
            "align_content": null,
            "align_items": null,
            "align_self": null,
            "border": null,
            "bottom": null,
            "display": null,
            "flex": null,
            "flex_flow": null,
            "grid_area": null,
            "grid_auto_columns": null,
            "grid_auto_flow": null,
            "grid_auto_rows": null,
            "grid_column": null,
            "grid_gap": null,
            "grid_row": null,
            "grid_template_areas": null,
            "grid_template_columns": null,
            "grid_template_rows": null,
            "height": null,
            "justify_content": null,
            "justify_items": null,
            "left": null,
            "margin": null,
            "max_height": null,
            "max_width": null,
            "min_height": null,
            "min_width": null,
            "object_fit": null,
            "object_position": null,
            "order": null,
            "overflow": null,
            "overflow_x": null,
            "overflow_y": null,
            "padding": null,
            "right": null,
            "top": null,
            "visibility": null,
            "width": null
          }
        },
        "eb298ec9ff7344e7807ba50a98f72aac": {
          "model_module": "@jupyter-widgets/controls",
          "model_name": "DescriptionStyleModel",
          "model_module_version": "1.5.0",
          "state": {
            "_model_module": "@jupyter-widgets/controls",
            "_model_module_version": "1.5.0",
            "_model_name": "DescriptionStyleModel",
            "_view_count": null,
            "_view_module": "@jupyter-widgets/base",
            "_view_module_version": "1.2.0",
            "_view_name": "StyleView",
            "description_width": ""
          }
        },
        "d1c193c3482c4acdabecbfc74c1ff119": {
          "model_module": "@jupyter-widgets/base",
          "model_name": "LayoutModel",
          "model_module_version": "1.2.0",
          "state": {
            "_model_module": "@jupyter-widgets/base",
            "_model_module_version": "1.2.0",
            "_model_name": "LayoutModel",
            "_view_count": null,
            "_view_module": "@jupyter-widgets/base",
            "_view_module_version": "1.2.0",
            "_view_name": "LayoutView",
            "align_content": null,
            "align_items": null,
            "align_self": null,
            "border": null,
            "bottom": null,
            "display": null,
            "flex": null,
            "flex_flow": null,
            "grid_area": null,
            "grid_auto_columns": null,
            "grid_auto_flow": null,
            "grid_auto_rows": null,
            "grid_column": null,
            "grid_gap": null,
            "grid_row": null,
            "grid_template_areas": null,
            "grid_template_columns": null,
            "grid_template_rows": null,
            "height": null,
            "justify_content": null,
            "justify_items": null,
            "left": null,
            "margin": null,
            "max_height": null,
            "max_width": null,
            "min_height": null,
            "min_width": null,
            "object_fit": null,
            "object_position": null,
            "order": null,
            "overflow": null,
            "overflow_x": null,
            "overflow_y": null,
            "padding": null,
            "right": null,
            "top": null,
            "visibility": null,
            "width": null
          }
        },
        "8c70f668186149bca7c71ebbec169fe5": {
          "model_module": "@jupyter-widgets/controls",
          "model_name": "ProgressStyleModel",
          "model_module_version": "1.5.0",
          "state": {
            "_model_module": "@jupyter-widgets/controls",
            "_model_module_version": "1.5.0",
            "_model_name": "ProgressStyleModel",
            "_view_count": null,
            "_view_module": "@jupyter-widgets/base",
            "_view_module_version": "1.2.0",
            "_view_name": "StyleView",
            "bar_color": null,
            "description_width": ""
          }
        },
        "b2efc065a7d9429fa60e24eb589159f3": {
          "model_module": "@jupyter-widgets/base",
          "model_name": "LayoutModel",
          "model_module_version": "1.2.0",
          "state": {
            "_model_module": "@jupyter-widgets/base",
            "_model_module_version": "1.2.0",
            "_model_name": "LayoutModel",
            "_view_count": null,
            "_view_module": "@jupyter-widgets/base",
            "_view_module_version": "1.2.0",
            "_view_name": "LayoutView",
            "align_content": null,
            "align_items": null,
            "align_self": null,
            "border": null,
            "bottom": null,
            "display": null,
            "flex": null,
            "flex_flow": null,
            "grid_area": null,
            "grid_auto_columns": null,
            "grid_auto_flow": null,
            "grid_auto_rows": null,
            "grid_column": null,
            "grid_gap": null,
            "grid_row": null,
            "grid_template_areas": null,
            "grid_template_columns": null,
            "grid_template_rows": null,
            "height": null,
            "justify_content": null,
            "justify_items": null,
            "left": null,
            "margin": null,
            "max_height": null,
            "max_width": null,
            "min_height": null,
            "min_width": null,
            "object_fit": null,
            "object_position": null,
            "order": null,
            "overflow": null,
            "overflow_x": null,
            "overflow_y": null,
            "padding": null,
            "right": null,
            "top": null,
            "visibility": null,
            "width": null
          }
        },
        "4619a22ccacf4020b2dc53da587058c3": {
          "model_module": "@jupyter-widgets/controls",
          "model_name": "DescriptionStyleModel",
          "model_module_version": "1.5.0",
          "state": {
            "_model_module": "@jupyter-widgets/controls",
            "_model_module_version": "1.5.0",
            "_model_name": "DescriptionStyleModel",
            "_view_count": null,
            "_view_module": "@jupyter-widgets/base",
            "_view_module_version": "1.2.0",
            "_view_name": "StyleView",
            "description_width": ""
          }
        }
      }
    }
  },
  "cells": [
    {
      "cell_type": "markdown",
      "source": [
        "\n",
        "# **Slot Machine**<br>\n",
        "If you are using BigQuery with the on demand billing model where you are billed by bytes scanned, it may be a good idea to switch to the Editions model where you are billed for slots you used.\n",
        "\n",
        "There are Two quite complicated querstions though:\n",
        "\n",
        "\n",
        "1.   Will moving to Editions save me money ?\n",
        "2.   How many slots should I reserve, what is the optimal max_xlots value ?\n",
        "\n",
        "There is no way to be 100% accurate in advance, but this set of queries aims to reduce the guesswork and guide you in finding better answers to the Two questions above.\n",
        "\n",
        "\n",
        "\n"
      ],
      "metadata": {
        "id": "UM7NCS6mPpU6"
      }
    },
    {
      "cell_type": "markdown",
      "source": [
        "**Usage**<br>\n",
        "You should run this in the project you want to test."
      ],
      "metadata": {
        "id": "5wOvhZiARoLC"
      }
    },
    {
      "cell_type": "markdown",
      "source": [
        "**Step 1**<br>\n",
        "First we set some parameters such as region, timeframe and BigQuery edition. We also detect the current project id."
      ],
      "metadata": {
        "id": "k_LhcAbq4NCG"
      }
    },
    {
      "cell_type": "code",
      "source": [
        "import google.auth\n",
        "project_id = google.auth.default()[1]\n",
        "region = \"US\" # @param {\"type\":\"string\", \"placeholder\": \"Enter dataset region\"}\n",
        "dataset = \"test\" # @param {\"type\":\"string\", \"placeholder\": \"Enter the target dataset where objects will be created\"}\n",
        "start_timestamp = \"2024-09-08\" # @param {\"type\":\"date\"}\n",
        "end_timestamp = \"2024-09-10\" # @param {\"type\":\"date\"}\n",
        "edition = \"Enterprise\" # @param [\"Standard\", \"Enterprise\", \"Enterprise plus\"]\n",
        "debug = False # @param {\"type\":\"boolean\"}"
      ],
      "metadata": {
        "id": "oQumnhKuKTDy"
      },
      "execution_count": null,
      "outputs": []
    },
    {
      "cell_type": "markdown",
      "source": [
        "**Step 2**<br>\n",
        "Here we import some python packages and create the dataset if it does not already exist."
      ],
      "metadata": {
        "id": "9McWPU9c4gC2"
      }
    },
    {
      "cell_type": "code",
      "source": [
        "import pandas as pd\n",
        "from google.cloud import bigquery\n",
        "from google.cloud.exceptions import NotFound\n",
        "\n",
        "client = bigquery.Client()\n",
        "my_dataset = bigquery.Dataset(project_id+\".\"+dataset)\n",
        "my_dataset.location = region\n",
        "\n",
        "\n",
        "try:\n",
        "    client.get_dataset(project_id+\".\"+dataset)\n",
        "    print(\"Dataset {} already exists\".format(dataset))\n",
        "except NotFound:\n",
        "    print(\"Dataset {} is not found\".format(dataset), \"creating it.\")\n",
        "    dataset = client.create_dataset(my_dataset, timeout=30)"
      ],
      "metadata": {
        "id": "5HEnFFD1o7CJ",
        "executionInfo": {
          "status": "ok",
          "timestamp": 1727007589488,
          "user_tz": -180,
          "elapsed": 452,
          "user": {
            "displayName": "",
            "userId": ""
          }
        },
        "colab": {
          "base_uri": "https://localhost:8080/"
        },
        "outputId": "c87a1e2e-05b0-4ef0-c662-0f7ead29f0db"
      },
      "execution_count": null,
      "outputs": [
        {
          "output_type": "stream",
          "name": "stdout",
          "text": [
            "Dataset test already exists\n"
          ]
        }
      ]
    },
    {
      "cell_type": "markdown",
      "source": [
        "**Step 3**<br>\n",
        "Ceate a table with the on demand consumption for reference. The table name is bytes.<br>\n",
        "We select from INFORMATION_SCHEMA.JOBS to find the total bytes billed during the timeframe and what was the cost in USD.<br>Write down the result."
      ],
      "metadata": {
        "id": "gGfdPMkHGSA2"
      }
    },
    {
      "cell_type": "code",
      "source": [
        "query = \"create or replace table \"+dataset+\".bytes as \"+\"\"\"SELECT\n",
        "  SUM(total_bytes_billed/1024/1024/1024/1024) AS total_tb_billed,\n",
        "  SUM(total_bytes_billed/1024/1024/1024/1024)*6.25 as cost_usd\n",
        "FROM \"\"\"+project_id+\".region-\"+region+\"\"\".INFORMATION_SCHEMA.JOBS\n",
        "WHERE\n",
        "  creation_time BETWEEN CAST(\\\"\"\"\"+start_timestamp+\"\"\"\\\" AS TIMESTAMP)\n",
        "  AND \"\"\"+\"CAST(\\\"\"+end_timestamp+\"\\\" AS TIMESTAMP)\"\n",
        "\n",
        "if debug then:\n",
        "  print(query)\n",
        "\n",
        "df = pd.io.gbq.read_gbq(query=query, project_id=project_id, dialect='standard')"
      ],
      "metadata": {
        "id": "JtC29YYAvYJK"
      },
      "execution_count": null,
      "outputs": []
    },
    {
      "cell_type": "markdown",
      "source": [
        "**Step 4**<br>\n",
        "Then we query INFORMATION_SCHEMA.JOBS_TIMELINE on the same time range to see how many slots were used in every second of the time range. We send the result to a table called slots."
      ],
      "metadata": {
        "id": "eg60a_RPoR6b"
      }
    },
    {
      "cell_type": "code",
      "source": [
        "query = \"create or replace table \"+dataset+\".slots as \"+\"\"\"SELECT\n",
        "  period_start,\n",
        "  SUM(period_slot_ms/1000) AS total_slot_ms,\n",
        "FROM\n",
        "  \"\"\"+project_id+\".region-\"+region+\"\"\".INFORMATION_SCHEMA.JOBS_TIMELINE\n",
        "WHERE\n",
        "  period_start BETWEEN CAST(\\\"\"\"\"+start_timestamp+\"\"\"\\\" AS TIMESTAMP)\n",
        "  AND \"\"\"+\"CAST(\\\"\"+end_timestamp+\"\\\" AS TIMESTAMP)\"\"\"\n",
        "\n",
        "query = query + \"\"\"\n",
        "GROUP BY\n",
        "  period_start\n",
        "ORDER BY\n",
        "  period_start DESC\"\"\"\n",
        "\n",
        "if debug then:\n",
        "  print(query)\n",
        "df = pd.io.gbq.read_gbq(query=query, project_id=project_id, dialect='standard')"
      ],
      "metadata": {
        "id": "BKCiC-HYdD0d",
        "executionInfo": {
          "status": "ok",
          "timestamp": 1727007920270,
          "user_tz": -180,
          "elapsed": 417,
          "user": {
            "displayName": "",
            "userId": ""
          }
        },
        "colab": {
          "base_uri": "https://localhost:8080/"
        },
        "outputId": "112a0749-b6c6-4449-8bf1-a7be86f33cde"
      },
      "execution_count": null,
      "outputs": [
        {
          "output_type": "stream",
          "name": "stdout",
          "text": [
            "create or replace table test.slots as SELECT\n",
            "  period_start,\n",
            "  SUM(period_slot_ms/1000) AS total_slot_ms,\n",
            "FROM\n",
            "  nexite-434614.region-US.INFORMATION_SCHEMA.JOBS_TIMELINE\n",
            "WHERE\n",
            "  period_start BETWEEN CAST(\"2024-09-08\" AS TIMESTAMP)\n",
            "  AND CAST(\"2024-09-10\" AS TIMESTAMP)\n",
            "GROUP BY\n",
            "  period_start\n",
            "ORDER BY\n",
            "  period_start DESC\n"
          ]
        }
      ]
    },
    {
      "cell_type": "markdown",
      "source": [
        "**Step 5**<br>\n",
        "We create a dynamic query that creates buckets incremented by 50 from 0 to the highest number of slots used during the selected time period.<br>\n",
        "The original time periods are seconds, so we aggregate the data in Minute granularity and for each minute we take the high<br> watermark of slot usage (since BigQuery autoscaler's minimum is 1 minute).<br><br>\n",
        "Then we assign each minute to a specific bucket according to the maximum slots that ut used.<br>\n",
        "We create a view called bucketed to hold the result and enable further calculations."
      ],
      "metadata": {
        "id": "uyK-sFMX5sPj"
      }
    },
    {
      "cell_type": "code",
      "source": [
        "query1 = \"select max(total_slot_ms) as max_slots from \"+dataset+\".slots\"\n",
        "df = pd.io.gbq.read_gbq(query=query1, project_id=project_id, dialect='standard')\n",
        "max_slots = int(df._get_value(0, 'max_slots'))\n",
        "query2 = \"create or replace view \"+dataset+\".bucketed\"+\"\"\" as SELECT\n",
        "  timestamp_trunc(period_start, MINUTE) as period_start,\n",
        "  max(case\n",
        "when total_slot_ms = 0 then 0\\n\"\"\"\n",
        "for i in range(0, max_slots, 50):\n",
        "  line = \"when total_slot_ms between \"+str(i)+\" and \"+str(i+50)+\" then \"+str(i+50)+'\\n'\n",
        "  query2 = query2 + line\n",
        "query2 = query2 + \"\"\"  end) as bucket\n",
        "FROM \"\"\"+dataset+\"\"\".slots\n",
        "  group by timestamp_trunc(period_start, MINUTE)\"\"\"\n",
        "\n",
        "if debug then:\n",
        "  print(query2)\n",
        "\n",
        "df = pd.io.gbq.read_gbq(query=query2, project_id=project_id, dialect='standard')"
      ],
      "metadata": {
        "id": "hR7o0v4Hd0f3"
      },
      "execution_count": null,
      "outputs": []
    },
    {
      "cell_type": "markdown",
      "source": [
        "**Step 6**<br>\n",
        "Here we create a view called buckets_count that shows hoe many time periods (minutes) fall into each bucket.<br>\n",
        "Then we print the contents of the view."
      ],
      "metadata": {
        "id": "hB8ZVTWwAV7g"
      }
    },
    {
      "cell_type": "code",
      "source": [
        "query = \"create or replace view \"+dataset+\"\"\".buckets_count as SELECT\n",
        "  bucket,\n",
        "  COUNT(*) as periods,\n",
        "FROM `\"\"\"+project_id+\".\"+dataset+\"\"\".bucketed`\n",
        "where bucket is not null\n",
        "GROUP BY\n",
        "  bucket\"\"\"\n",
        "\n",
        "if debug then:\n",
        "  print(query)\n",
        "\n",
        "df = pd.io.gbq.read_gbq(query=query, project_id=project_id, dialect='standard')\n",
        "query = 'select * from '+dataset+\".buckets_count order by bucket\"\n",
        "\n",
        "if debug then:\n",
        "  print(query)\n",
        "df = pd.io.gbq.read_gbq(query=query, project_id=project_id, dialect='standard')\n",
        "print(df)"
      ],
      "metadata": {
        "id": "PvRkZok7eHMx",
        "executionInfo": {
          "status": "ok",
          "timestamp": 1727007626164,
          "user_tz": -180,
          "elapsed": 2185,
          "user": {
            "displayName": "",
            "userId": ""
          }
        },
        "colab": {
          "base_uri": "https://localhost:8080/"
        },
        "outputId": "c000d9a7-1765-4800-de65-07d589846b45"
      },
      "execution_count": null,
      "outputs": [
        {
          "output_type": "stream",
          "name": "stdout",
          "text": [
            "     bucket  periods\n",
            "0         0       62\n",
            "1        50     1626\n",
            "2       100      316\n",
            "3       150      168\n",
            "4       200       92\n",
            "..      ...      ...\n",
            "179   14550        1\n",
            "180   14700        1\n",
            "181   16800        1\n",
            "182   20400        1\n",
            "183   21250        1\n",
            "\n",
            "[184 rows x 2 columns]\n"
          ]
        }
      ]
    },
    {
      "cell_type": "markdown",
      "source": [
        "For our next calculations we need to know Two numbers:\n",
        "\n",
        "\n",
        "1.   How many hours there are in our timeframe\n",
        "2.   How many time periods we have\n",
        "\n",
        "So steps 7 and 8 find those values.\n",
        "\n",
        "\n",
        "\n"
      ],
      "metadata": {
        "id": "PdAz0WMoChFM"
      }
    },
    {
      "cell_type": "markdown",
      "source": [
        "**Step 7**<br>\n",
        "Calculate how many hours we have in the chosen time frame."
      ],
      "metadata": {
        "id": "0uTDf2dtBhq0"
      }
    },
    {
      "cell_type": "code",
      "source": [
        "from datetime import datetime\n",
        "date_format = '%Y-%m-%d'\n",
        "diff = datetime.strptime(end_timestamp,date_format) - datetime.strptime(start_timestamp, date_format)\n",
        "hours = diff.days * 24 + diff.seconds / 3600"
      ],
      "metadata": {
        "id": "znsJmnaRi_OS"
      },
      "execution_count": null,
      "outputs": []
    },
    {
      "cell_type": "markdown",
      "source": [
        "**Step 8**<br>\n",
        "Calculate how many time slots we have."
      ],
      "metadata": {
        "id": "68WBq6DnDAGK"
      }
    },
    {
      "cell_type": "code",
      "source": [
        "query = \"select count(*) as periods from \"+dataset+\".buckets\"\n",
        "df = pd.io.gbq.read_gbq(query=query, project_id=project_id, dialect='standard')\n",
        "periods = df._get_value(0, 'periods')"
      ],
      "metadata": {
        "id": "n4UOfEKHC1Ha"
      },
      "execution_count": null,
      "outputs": []
    },
    {
      "cell_type": "markdown",
      "source": [
        "**Step 9**<br>\n",
        "This is the heart of our calculation.<br><br>\n",
        "We know how many hours were in the selected timeframe and how many time periods we had during this timeframe.\n",
        "So we can calculate what is the percentage of all the time that we used each bucket.<br>\n",
        "If we know the percentage of time and we know how many wours we had in the timeframe then we can calculate how many hours each bucket was active.<br>\n",
        "And we know how much each slot/hour costs for each BigQuery edition so we can calculate the cost each bucket incured.\n",
        "\n",
        "So here we create a view called calculated that holds the bucket, the percentage of all time that this bucket was used, how many hours it was used, and how much we would be charged for it if we use the selected edition."
      ],
      "metadata": {
        "id": "IerxqG84D_ji"
      }
    },
    {
      "cell_type": "code",
      "source": [
        "if edition == 'Enterprise':\n",
        "  price = 0.6\n",
        "elif edition == 'Enterprise plus':\n",
        "  price = 0.1\n",
        "else:\n",
        "  peice = 0.4\n",
        "\n",
        "query = \"create or replace view \"+dataset+\"\"\".calculated as SELECT\n",
        "  bucket,\n",
        "  round(periods/\"\"\"+str(periods)+\"\"\"*100, 3) as percentage,\n",
        "  round(periods/\"\"\"+str(periods)+\"*100/100*\"+str(hours)+\"\"\", 3) as hours,\n",
        "  round(periods/\"\"\"+str(periods)+\"*100/100*\"+str(hours)+\"*bucket*\"+str(price)+\"\"\", 3) as cost_usd\n",
        "FROM\n",
        "  `\"\"\"+project_id+\".\"+dataset+\"\"\".buckets_percentage`\n",
        "  order by bucket\"\"\"\n",
        "\n",
        "if debug then:\n",
        "  print(query)\n",
        "\n",
        "df = pd.io.gbq.read_gbq(query=query, project_id=project_id, dialect='standard')"
      ],
      "metadata": {
        "id": "lpMDkjb3bqIo"
      },
      "execution_count": null,
      "outputs": []
    },
    {
      "cell_type": "markdown",
      "source": [
        "**Let's see how it looks like.**"
      ],
      "metadata": {
        "id": "lptkZlWMFH1o"
      }
    },
    {
      "cell_type": "code",
      "source": [
        "%%bigquery calculated\n",
        "select * from test.calculated;\n"
      ],
      "metadata": {
        "colab": {
          "base_uri": "https://localhost:8080/",
          "height": 81,
          "referenced_widgets": [
            "1ec11896686e4170b0cdd8e93a7decc6",
            "e80dd316e33340dba3fdfdf85184dbb5",
            "d80cf7ff2bb34d22806dbccb4107a39e",
            "648b78adead843bab5bf4bbe3eb3e8a5",
            "38db9dccf2454d3d964371f78c05fa47",
            "48a3f6e2516d47c4a5d824a5435930f2",
            "03ee1954eacf456c987b6d41300e1d46",
            "ede05890dafd42de890fa5c2f25a88b0",
            "4faf35ab31ae49ae97511c2226160eb0",
            "1ecda70fdb4d4b198d0e591aaec6c679",
            "ad6c262cfdd24cb08441b1a496399725",
            "a13d447e1856416a954caa5ddca8122a",
            "c0a92343e8e44dba91b21ee5ab7a9832",
            "fc0d0f8955fb49198d92db5974caff11",
            "6a5f20fe1dd64b8ca4e203068391ec7c",
            "8fcea1f9d09f426197bf03cb0caedfec",
            "5699bdf1e81548e4aad74eae5ada7ca2",
            "eb298ec9ff7344e7807ba50a98f72aac",
            "d1c193c3482c4acdabecbfc74c1ff119",
            "8c70f668186149bca7c71ebbec169fe5",
            "b2efc065a7d9429fa60e24eb589159f3",
            "4619a22ccacf4020b2dc53da587058c3"
          ]
        },
        "id": "fM6iGYiV6qdf",
        "executionInfo": {
          "status": "ok",
          "timestamp": 1727007642262,
          "user_tz": -180,
          "elapsed": 2089,
          "user": {
            "displayName": "",
            "userId": ""
          }
        },
        "outputId": "0d2fdb65-9011-4e43-d06f-95bcd0f987b3"
      },
      "execution_count": null,
      "outputs": [
        {
          "output_type": "display_data",
          "data": {
            "text/plain": [
              "Query is running:   0%|          |"
            ],
            "application/vnd.jupyter.widget-view+json": {
              "version_major": 2,
              "version_minor": 0,
              "model_id": "1ec11896686e4170b0cdd8e93a7decc6"
            }
          },
          "metadata": {}
        },
        {
          "output_type": "display_data",
          "data": {
            "text/plain": [
              "Downloading:   0%|          |"
            ],
            "application/vnd.jupyter.widget-view+json": {
              "version_major": 2,
              "version_minor": 0,
              "model_id": "a13d447e1856416a954caa5ddca8122a"
            }
          },
          "metadata": {}
        }
      ]
    },
    {
      "cell_type": "code",
      "source": [
        "print(calculated)"
      ],
      "metadata": {
        "colab": {
          "base_uri": "https://localhost:8080/"
        },
        "id": "pX8mhC-riKaD",
        "executionInfo": {
          "status": "ok",
          "timestamp": 1727007645591,
          "user_tz": -180,
          "elapsed": 406,
          "user": {
            "displayName": "",
            "userId": ""
          }
        },
        "outputId": "2d264a58-8510-41f0-f4aa-0185058b395f"
      },
      "execution_count": null,
      "outputs": [
        {
          "output_type": "stream",
          "name": "stdout",
          "text": [
            "    bucket  percentage   hours  cost_usd\n",
            "0        0       1.351   0.649     0.000\n",
            "1       50      35.440  17.011   510.340\n",
            "2      100       6.888   3.306   198.361\n",
            "3      150       3.662   1.758   158.187\n",
            "4      200       2.005   0.963   115.501\n",
            "..     ...         ...     ...       ...\n",
            "90    4500       0.741   0.356   960.418\n",
            "91    4550       0.806   0.387  1056.774\n",
            "92    4600       0.501   0.241   664.133\n",
            "93    4650       0.588   0.282   788.108\n",
            "94    4700       0.545   0.262   737.576\n",
            "\n",
            "[95 rows x 4 columns]\n"
          ]
        }
      ]
    },
    {
      "cell_type": "markdown",
      "source": [
        "**Stage 10**<br>\n",
        "Here is a visualization of the histogram that shows the distribution of the slot buckets and the time spent in each of them.<br>\n",
        "There should be a \"sweet spot\" where most of the buckets under it are heavily used and above it there is only slight usage.<br>\n",
        "This shhould give you the sense of where that sweet spot should be."
      ],
      "metadata": {
        "id": "Zy8nUuJ9FOSq"
      }
    },
    {
      "source": [
        "import pandas as pd\n",
        "import matplotlib.pyplot as plt\n",
        "\n",
        "calculated.plot(x=\"bucket\", y=\"percentage\", kind=\"line\")"
      ],
      "cell_type": "code",
      "metadata": {
        "colab": {
          "base_uri": "https://localhost:8080/",
          "height": 466
        },
        "id": "wNn5E1mT0JWp",
        "executionInfo": {
          "status": "ok",
          "timestamp": 1727007649232,
          "user_tz": -180,
          "elapsed": 446,
          "user": {
            "displayName": "",
            "userId": ""
          }
        },
        "outputId": "25b9ce6f-afbd-4b5c-d701-55adaca26e4c"
      },
      "execution_count": null,
      "outputs": [
        {
          "output_type": "execute_result",
          "data": {
            "text/plain": [
              "<Axes: xlabel='bucket'>"
            ]
          },
          "metadata": {},
          "execution_count": 50
        },
        {
          "output_type": "display_data",
          "data": {
            "text/plain": [
              "<Figure size 640x480 with 1 Axes>"
            ],
            "image/png": "[encoded data removed]"
          },
          "metadata": {}
        }
      ]
    },
    {
      "cell_type": "markdown",
      "source": [
        "**Step 11**<br>\n",
        "Use the following query to identify where slot usage drops below 1% of the time."
      ],
      "metadata": {
        "id": "LJgFM9h75vZw"
      }
    },
    {
      "cell_type": "code",
      "source": [
        "query = \"select min(bucket) as recommended from \"+dataset+\".calculated where percentage < 1\"\n",
        "\n",
        "if debug then:\n",
        "  print(query)\n",
        "\n",
        "df = pd.io.gbq.read_gbq(query=query, project_id=project_id, dialect='standard')\n",
        "print(df)"
      ],
      "metadata": {
        "colab": {
          "base_uri": "https://localhost:8080/"
        },
        "id": "3RCxMi4tZyfF",
        "executionInfo": {
          "status": "ok",
          "timestamp": 1727007653581,
          "user_tz": -180,
          "elapsed": 1259,
          "user": {
            "displayName": "",
            "userId": ""
          }
        },
        "outputId": "61ca314a-147b-46eb-e441-7c830e520505"
      },
      "execution_count": null,
      "outputs": [
        {
          "output_type": "stream",
          "name": "stdout",
          "text": [
            "   recommended\n",
            "0          300\n"
          ]
        }
      ]
    },
    {
      "cell_type": "markdown",
      "source": [
        "**Step 12**<br>\n",
        "The following steps try to find the optimal max_slots that best balances cost and performance.<br>\n",
        "As a first step choose the max_slots value you want to check."
      ],
      "metadata": {
        "id": "aBwS6v6YG2AJ"
      }
    },
    {
      "cell_type": "code",
      "source": [
        "max_slots = 600 # @param {\"type\":\"number\"}"
      ],
      "metadata": {
        "id": "h-ZFZDCoZhEV"
      },
      "execution_count": null,
      "outputs": []
    },
    {
      "cell_type": "markdown",
      "source": [
        "**Explanation**<br>\n",
        "The trade off is cost vs. performance. If we choose the right max_slots than we can reduce the cost while only a small number of queries will decrease in performance. If these are not time critical queries (such as ETLs, background jobs etc.) than we may want to \"sacrifice\" them in return for  lower cost."
      ],
      "metadata": {
        "id": "l-fmTKGtghxe"
      }
    },
    {
      "cell_type": "markdown",
      "source": [
        "**Step 13**<br>\n",
        "We try to calculate how much will we pay if we choose the above max_slots.<br>\n",
        "This is a naive approach as it does not take into consideration all the buckers above the max_slots, as they all had 0 percent."
      ],
      "metadata": {
        "id": "Ht67chWWgYJU"
      }
    },
    {
      "cell_type": "code",
      "source": [
        "answer = calculated[calculated['bucket'] <= max_slots]\n",
        "summed = answer['cost_usd'].sum()\n",
        "print('Naive total cost estimation for the time frame using maximum slots '+str(max_slots)+' is '+str(summed)+' USD.' )"
      ],
      "metadata": {
        "colab": {
          "base_uri": "https://localhost:8080/"
        },
        "id": "cd9arA-rYYfL",
        "executionInfo": {
          "status": "ok",
          "timestamp": 1727007657606,
          "user_tz": -180,
          "elapsed": 421,
          "user": {
            "displayName": "",
            "userId": ""
          }
        },
        "outputId": "55b45f96-d0ea-4148-b8d8-85db0d2ea35c"
      },
      "execution_count": null,
      "outputs": [
        {
          "output_type": "stream",
          "name": "stdout",
          "text": [
            "Naive total cost estimation for the time frame using maximum slots 600 is 1657.191 USD.\n"
          ]
        }
      ]
    },
    {
      "cell_type": "markdown",
      "source": [
        "**Step 14**<br>\n",
        "Hpwever, in the real world, all those buckets that are above max_slots will be accumulated and treated as max_slots.<br>\n",
        "For example, if we choose 700 as our max_slots and we have 2 percent in 700 and 1 percent in 900 slots and 1 percent at 1000 slots, then all percentage above 700 slots will consolidate at 700 slots and we will end up with 4 percent at 700 slots.<br><br>\n",
        "This strp calculate this scenario."
      ],
      "metadata": {
        "id": "y-KAA2RVhhVC"
      }
    },
    {
      "cell_type": "code",
      "source": [
        "till_max = calculated[calculated['bucket'] <= max_slots]\n",
        "above_max = calculated[calculated['bucket'] > max_slots]\n",
        "intermediate = above_max['hours'].sum()*price*max_slots\n",
        "summed = answer['cost_usd'].sum() + intermediate\n",
        "print('Real total cost estimation for the time frame using maximum slots '+str(max_slots)+' is '+str(summed)+' USD.' )"
      ],
      "metadata": {
        "colab": {
          "base_uri": "https://localhost:8080/"
        },
        "id": "BUhGnIc-t3at",
        "executionInfo": {
          "status": "ok",
          "timestamp": 1727007660775,
          "user_tz": -180,
          "elapsed": 409,
          "user": {
            "displayName": "",
            "userId": ""
          }
        },
        "outputId": "be13e789-e812-43a4-80bb-ceb8569b78d5"
      },
      "execution_count": null,
      "outputs": [
        {
          "output_type": "stream",
          "name": "stdout",
          "text": [
            "Real total cost estimation for the time frame using maximum slots 600 is 9377.751 USD.\n"
          ]
        }
      ]
    },
    {
      "cell_type": "markdown",
      "source": [
        "**Step 15**<br>\n",
        "Finally, we want to see which queries will take a performance hit (the ones that has slot consumption above max_slots)."
      ],
      "metadata": {
        "id": "_VlJVjPdiKLO"
      }
    },
    {
      "cell_type": "code",
      "source": [
        "query = \"\"\"SELECT\n",
        "  *\n",
        "FROM (\n",
        "  SELECT\n",
        "    timeline.job_id AS job_id,\n",
        "    jobs.query AS query,\n",
        "    jobs.job_type AS job_type,\n",
        "    ROUND(SUM(timeline.period_slot_ms/1000)) AS total_slot_ms,\n",
        "    COUNT(timeline.job_id) AS slices\n",
        "  FROM\n",
        "    `\"\"\"+project_id+\"`.`region-\"+region+\"\"\"`.INFORMATION_SCHEMA.JOBS_TIMELINE AS timeline\n",
        "  JOIN\n",
        "    `\"\"\"+project_id+\"`.`region-\"+region+\"\"\"`.INFORMATION_SCHEMA.JOBS AS jobs\n",
        "  ON\n",
        "    timeline.job_id = jobs.job_id\n",
        "  WHERE\n",
        "    period_start BETWEEN CAST(\\\"\"\"\"+start_timestamp+\"\"\"\\\" AS TIMESTAMP)\n",
        "  AND \"\"\"+\"CAST(\\\"\"+end_timestamp+\"\\\" AS TIMESTAMP)\"\"\"+\"\"\"\n",
        "  GROUP BY\n",
        "    job_id,\n",
        "    query,\n",
        "    job_type\n",
        "  ORDER BY\n",
        "    slices DESC)\n",
        "WHERE\n",
        "  total_slot_ms>\"\"\"+str(max_slots)\n",
        "\n",
        "if debug then:\n",
        "  print(query)\n",
        "\n",
        "df = pd.io.gbq.read_gbq(query=query, project_id=project_id, dialect='standard')\n",
        "print(df)\n"
      ],
      "metadata": {
        "colab": {
          "base_uri": "https://localhost:8080/"
        },
        "id": "lqDLbWQ4x_dV",
        "executionInfo": {
          "status": "ok",
          "timestamp": 1727007748117,
          "user_tz": -180,
          "elapsed": 2148,
          "user": {
            "displayName": "",
            "userId": ""
          }
        },
        "outputId": "d48bca6c-3ebe-400f-af2b-79ac5d1b0f0e"
      },
      "execution_count": null,
      "outputs": [
        {
          "output_type": "stream",
          "name": "stdout",
          "text": [
            "Empty DataFrame\n",
            "Columns: [job_id, query, job_type, total_slot_ms, slices]\n",
            "Index: []\n"
          ]
        }
      ]
    }
  ]
}