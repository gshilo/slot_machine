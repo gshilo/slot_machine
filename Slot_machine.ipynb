{
  "cells": [
    {
      "cell_type": "markdown",
      "metadata": {
        "id": "UM7NCS6mPpU6"
      },
      "source": [
        "\n",
        "# **Slot Machine**<br>\n",
        "If you are using BigQuery with the on demand billing model where you are billed by bytes scanned, it may be a good idea to switch to the Editions model where you are billed for slots you used.\n",
        "\n",
        "There are Two quite complicated querstions though:\n",
        "\n",
        "\n",
        "1.   Will moving to Editions save me money ?\n",
        "2.   How many slots should I reserve, what is the optimal max_xlots value ?\n",
        "\n",
        "There is no way to be 100% accurate, but this set of queries aims to reduce the guesswork and guide you in finding better answers to the Two questions above.\n",
        "\n",
        "\n",
        "\n"
      ]
    },
    {
      "cell_type": "markdown",
      "metadata": {
        "id": "5wOvhZiARoLC"
      },
      "source": [
        "**Usage**<br>\n",
        "You should run this in the project you want to test.\n",
        "The process creates several tables and views, if any of them already exists then it will stop with error, since we don't want to accidently delete user's important tables."
      ]
    },
    {
      "cell_type": "markdown",
      "metadata": {
        "id": "k_LhcAbq4NCG"
      },
      "source": [
        "**Step 1**<br>\n",
        "First we set some parameters such as region, timeframe and BigQuery edition. We also detect the current project id.\n",
        "\n",
        "Here is a short description of the parameters:\n",
        "\n",
        "- **region**: The region where your dataset is located. INFORMATION_SCHEMA is a regional data source.\n",
        "- **dataset**: the dataset where you want the tables and views related to slot machine to be created. It's a good idea to create a dedicated dataset so we won't accidently overwrite a production table or view.\n",
        "- **start and end timestamp**: We analyze the behavior in a limited timeframe. It should be long enough to contain all regular activity so it should contain at lease few days.\n",
        "- **edition**: BigQuery compute has Three editions when using reservations which are priced differently. Choosing the edition affects total price and available features. You can read more [here](https://cloud.google.com/bigquery/docs/editions-intro).\n",
        "- **verbose**: If true, Slot machine will print out the queries it runs plus additional interim data. If false it will operate quietly without printing out every query and interim result."
      ]
    },
    {
      "cell_type": "code",
      "execution_count": 28,
      "metadata": {
        "id": "oQumnhKuKTDy",
        "executionInfo": {
          "status": "ok",
          "timestamp": 1728996573106,
          "user_tz": -180,
          "elapsed": 475,
          "user": {
            "displayName": "",
            "userId": ""
          }
        }
      },
      "outputs": [],
      "source": [
        "import google.auth\n",
        "project_id = google.auth.default()[1]\n",
        "region = \"US\" # @param {\"type\":\"string\", \"placeholder\": \"Enter dataset region\"}\n",
        "dataset = \"test2\" # @param {\"type\":\"string\", \"placeholder\": \"Enter the target dataset where objects will be created\"}\n",
        "start_timestamp = \"2024-09-23\" # @param {\"type\":\"date\"}\n",
        "end_timestamp = \"2024-09-30\" # @param {\"type\":\"date\"}\n",
        "edition = \"Standard\" # @param [\"Standard\", \"Enterprise\", \"Enterprise plus\"]\n",
        "verbose = True # @param {\"type\":\"boolean\"}"
      ]
    },
    {
      "cell_type": "markdown",
      "metadata": {
        "id": "9McWPU9c4gC2"
      },
      "source": [
        "**Step 2**<br>\n",
        "Here we import some python packages and create the dataset if it does not already exist."
      ]
    },
    {
      "cell_type": "code",
      "execution_count": 2,
      "metadata": {
        "colab": {
          "base_uri": "https://localhost:8080/"
        },
        "executionInfo": {
          "elapsed": 2208,
          "status": "ok",
          "timestamp": 1728996026832,
          "user": {
            "displayName": "",
            "userId": ""
          },
          "user_tz": -180
        },
        "id": "5HEnFFD1o7CJ",
        "outputId": "8aa69db6-cd04-4bff-fe87-4947f52a2e2b"
      },
      "outputs": [
        {
          "output_type": "stream",
          "name": "stdout",
          "text": [
            "Dataset test2 already exists\n"
          ]
        }
      ],
      "source": [
        "import pandas as pd\n",
        "from google.cloud import bigquery\n",
        "from google.cloud.exceptions import NotFound\n",
        "\n",
        "client = bigquery.Client()\n",
        "my_dataset = bigquery.Dataset(project_id+\".\"+dataset)\n",
        "my_dataset.location = region\n",
        "\n",
        "\n",
        "try:\n",
        "    client.get_dataset(project_id+\".\"+dataset)\n",
        "    print(\"Dataset {} already exists\".format(dataset))\n",
        "except NotFound:\n",
        "    print(\"Dataset {} is not found\".format(dataset), \"creating it.\")\n",
        "    dataset_object = client.create_dataset(my_dataset, timeout=30)"
      ]
    },
    {
      "cell_type": "markdown",
      "metadata": {
        "id": "gGfdPMkHGSA2"
      },
      "source": [
        "**Step 3**<br>\n",
        "Ceate a table with the on demand consumption for reference. The table name is bytes.<br>\n",
        "We select from INFORMATION_SCHEMA.JOBS to find the total bytes billed during the timeframe and what was the cost in USD.<br>Write down the result."
      ]
    },
    {
      "cell_type": "code",
      "execution_count": 3,
      "metadata": {
        "colab": {
          "base_uri": "https://localhost:8080/"
        },
        "executionInfo": {
          "elapsed": 3967,
          "status": "ok",
          "timestamp": 1728996035459,
          "user": {
            "displayName": "",
            "userId": ""
          },
          "user_tz": -180
        },
        "id": "JtC29YYAvYJK",
        "outputId": "ccbaf2d0-1b5a-4e96-989a-c154bf7db9a1"
      },
      "outputs": [
        {
          "output_type": "stream",
          "name": "stdout",
          "text": [
            "test2\n",
            "WARNING: google.colab.auth.authenticate_user() is not supported in Colab Enterprise.\n"
          ]
        }
      ],
      "source": [
        "print(dataset)\n",
        "query = \"create table \"+dataset+\".bytes as \"+\"\"\"SELECT\n",
        "  SUM(total_bytes_billed/1024/1024/1024/1024) AS total_tb_billed,\n",
        "  SUM(total_bytes_billed/1024/1024/1024/1024)*6.25 as cost_usd\n",
        "FROM \"\"\"+project_id+\".region-\"+region+\"\"\".INFORMATION_SCHEMA.JOBS\n",
        "WHERE\n",
        "  creation_time BETWEEN CAST(\\\"\"\"\"+start_timestamp+\"\"\"\\\" AS TIMESTAMP)\n",
        "  AND \"\"\"+\"CAST(\\\"\"+end_timestamp+\"\\\" AS TIMESTAMP)\"\n",
        "\n",
        "if verbose:\n",
        "  print(query)\n",
        "\n",
        "df = pd.io.gbq.read_gbq(query=query, project_id=project_id, dialect='standard')"
      ]
    },
    {
      "cell_type": "markdown",
      "metadata": {
        "id": "eg60a_RPoR6b"
      },
      "source": [
        "**Step 4**<br>\n",
        "Then we query INFORMATION_SCHEMA.JOBS_TIMELINE on the same time range to see how many slots were used in every second of the time range. We send the result to a table called slots."
      ]
    },
    {
      "cell_type": "code",
      "execution_count": 4,
      "metadata": {
        "colab": {
          "base_uri": "https://localhost:8080/",
          "height": 442
        },
        "executionInfo": {
          "elapsed": 1049,
          "status": "error",
          "timestamp": 1728996036507,
          "user": {
            "displayName": "",
            "userId": ""
          },
          "user_tz": -180
        },
        "id": "BKCiC-HYdD0d",
        "outputId": "15e44a70-2c84-45f5-f71d-ab9ba599b212"
      },
      "outputs": [
        {
          "output_type": "error",
          "ename": "TableCreationError",
          "evalue": "Reason: Already Exists: Table nexite-434614:test2.slots",
          "traceback": [
            "\u001b[0;31m---------------------------------------------------------------------------\u001b[0m",
            "\u001b[0;31mConflict\u001b[0m                                  Traceback (most recent call last)",
            "\u001b[0;32m/usr/local/lib/python3.10/dist-packages/pandas_gbq/query.py\u001b[0m in \u001b[0;36mtry_query\u001b[0;34m(connector, query_fn)\u001b[0m\n\u001b[1;32m     84\u001b[0m         \u001b[0mlogger\u001b[0m\u001b[0;34m.\u001b[0m\u001b[0mdebug\u001b[0m\u001b[0;34m(\u001b[0m\u001b[0;34m\"Requesting query... \"\u001b[0m\u001b[0;34m)\u001b[0m\u001b[0;34m\u001b[0m\u001b[0;34m\u001b[0m\u001b[0m\n\u001b[0;32m---> 85\u001b[0;31m         \u001b[0;32mreturn\u001b[0m \u001b[0mquery_fn\u001b[0m\u001b[0;34m(\u001b[0m\u001b[0;34m)\u001b[0m\u001b[0;34m\u001b[0m\u001b[0;34m\u001b[0m\u001b[0m\n\u001b[0m\u001b[1;32m     86\u001b[0m     \u001b[0;32mexcept\u001b[0m \u001b[0mconcurrent\u001b[0m\u001b[0;34m.\u001b[0m\u001b[0mfutures\u001b[0m\u001b[0;34m.\u001b[0m\u001b[0mTimeoutError\u001b[0m \u001b[0;32mas\u001b[0m \u001b[0mex\u001b[0m\u001b[0;34m:\u001b[0m\u001b[0;34m\u001b[0m\u001b[0;34m\u001b[0m\u001b[0m\n",
            "\u001b[0;32m/usr/local/lib/python3.10/dist-packages/google/cloud/bigquery/client.py\u001b[0m in \u001b[0;36mquery_and_wait\u001b[0;34m(self, query, job_config, location, project, api_timeout, wait_timeout, retry, job_retry, page_size, max_results)\u001b[0m\n\u001b[1;32m   3600\u001b[0m \u001b[0;34m\u001b[0m\u001b[0m\n\u001b[0;32m-> 3601\u001b[0;31m         return _job_helpers.query_and_wait(\n\u001b[0m\u001b[1;32m   3602\u001b[0m             \u001b[0mself\u001b[0m\u001b[0;34m,\u001b[0m\u001b[0;34m\u001b[0m\u001b[0;34m\u001b[0m\u001b[0m\n",
            "\u001b[0;32m/usr/local/lib/python3.10/dist-packages/google/cloud/bigquery/_job_helpers.py\u001b[0m in \u001b[0;36mquery_and_wait\u001b[0;34m(client, query, job_config, location, project, api_timeout, wait_timeout, retry, job_retry, page_size, max_results)\u001b[0m\n\u001b[1;32m    508\u001b[0m     \u001b[0;32mif\u001b[0m \u001b[0mjob_retry\u001b[0m \u001b[0;32mis\u001b[0m \u001b[0;32mnot\u001b[0m \u001b[0;32mNone\u001b[0m\u001b[0;34m:\u001b[0m\u001b[0;34m\u001b[0m\u001b[0;34m\u001b[0m\u001b[0m\n\u001b[0;32m--> 509\u001b[0;31m         \u001b[0;32mreturn\u001b[0m \u001b[0mjob_retry\u001b[0m\u001b[0;34m(\u001b[0m\u001b[0mdo_query\u001b[0m\u001b[0;34m)\u001b[0m\u001b[0;34m(\u001b[0m\u001b[0;34m)\u001b[0m\u001b[0;34m\u001b[0m\u001b[0;34m\u001b[0m\u001b[0m\n\u001b[0m\u001b[1;32m    510\u001b[0m     \u001b[0;32melse\u001b[0m\u001b[0;34m:\u001b[0m\u001b[0;34m\u001b[0m\u001b[0;34m\u001b[0m\u001b[0m\n",
            "\u001b[0;32m/usr/local/lib/python3.10/dist-packages/google/api_core/retry/retry_unary.py\u001b[0m in \u001b[0;36mretry_wrapped_func\u001b[0;34m(*args, **kwargs)\u001b[0m\n\u001b[1;32m    292\u001b[0m             )\n\u001b[0;32m--> 293\u001b[0;31m             return retry_target(\n\u001b[0m\u001b[1;32m    294\u001b[0m                 \u001b[0mtarget\u001b[0m\u001b[0;34m,\u001b[0m\u001b[0;34m\u001b[0m\u001b[0;34m\u001b[0m\u001b[0m\n",
            "\u001b[0;32m/usr/local/lib/python3.10/dist-packages/google/api_core/retry/retry_unary.py\u001b[0m in \u001b[0;36mretry_target\u001b[0;34m(target, predicate, sleep_generator, timeout, on_error, exception_factory, **kwargs)\u001b[0m\n\u001b[1;32m    152\u001b[0m             \u001b[0;31m# defer to shared logic for handling errors\u001b[0m\u001b[0;34m\u001b[0m\u001b[0;34m\u001b[0m\u001b[0m\n\u001b[0;32m--> 153\u001b[0;31m             _retry_error_helper(\n\u001b[0m\u001b[1;32m    154\u001b[0m                 \u001b[0mexc\u001b[0m\u001b[0;34m,\u001b[0m\u001b[0;34m\u001b[0m\u001b[0;34m\u001b[0m\u001b[0m\n",
            "\u001b[0;32m/usr/local/lib/python3.10/dist-packages/google/api_core/retry/retry_base.py\u001b[0m in \u001b[0;36m_retry_error_helper\u001b[0;34m(exc, deadline, next_sleep, error_list, predicate_fn, on_error_fn, exc_factory_fn, original_timeout)\u001b[0m\n\u001b[1;32m    211\u001b[0m         )\n\u001b[0;32m--> 212\u001b[0;31m         \u001b[0;32mraise\u001b[0m \u001b[0mfinal_exc\u001b[0m \u001b[0;32mfrom\u001b[0m \u001b[0msource_exc\u001b[0m\u001b[0;34m\u001b[0m\u001b[0;34m\u001b[0m\u001b[0m\n\u001b[0m\u001b[1;32m    213\u001b[0m     \u001b[0;32mif\u001b[0m \u001b[0mon_error_fn\u001b[0m \u001b[0;32mis\u001b[0m \u001b[0;32mnot\u001b[0m \u001b[0;32mNone\u001b[0m\u001b[0;34m:\u001b[0m\u001b[0;34m\u001b[0m\u001b[0;34m\u001b[0m\u001b[0m\n",
            "\u001b[0;32m/usr/local/lib/python3.10/dist-packages/google/api_core/retry/retry_unary.py\u001b[0m in \u001b[0;36mretry_target\u001b[0;34m(target, predicate, sleep_generator, timeout, on_error, exception_factory, **kwargs)\u001b[0m\n\u001b[1;32m    143\u001b[0m         \u001b[0;32mtry\u001b[0m\u001b[0;34m:\u001b[0m\u001b[0;34m\u001b[0m\u001b[0;34m\u001b[0m\u001b[0m\n\u001b[0;32m--> 144\u001b[0;31m             \u001b[0mresult\u001b[0m \u001b[0;34m=\u001b[0m \u001b[0mtarget\u001b[0m\u001b[0;34m(\u001b[0m\u001b[0;34m)\u001b[0m\u001b[0;34m\u001b[0m\u001b[0;34m\u001b[0m\u001b[0m\n\u001b[0m\u001b[1;32m    145\u001b[0m             \u001b[0;32mif\u001b[0m \u001b[0minspect\u001b[0m\u001b[0;34m.\u001b[0m\u001b[0misawaitable\u001b[0m\u001b[0;34m(\u001b[0m\u001b[0mresult\u001b[0m\u001b[0;34m)\u001b[0m\u001b[0;34m:\u001b[0m\u001b[0;34m\u001b[0m\u001b[0;34m\u001b[0m\u001b[0m\n",
            "\u001b[0;32m/usr/local/lib/python3.10/dist-packages/google/cloud/bigquery/_job_helpers.py\u001b[0m in \u001b[0;36mdo_query\u001b[0;34m()\u001b[0m\n\u001b[1;32m    449\u001b[0m         \u001b[0;32mif\u001b[0m \u001b[0mretry\u001b[0m \u001b[0;32mis\u001b[0m \u001b[0;32mnot\u001b[0m \u001b[0;32mNone\u001b[0m\u001b[0;34m:\u001b[0m\u001b[0;34m\u001b[0m\u001b[0;34m\u001b[0m\u001b[0m\n\u001b[0;32m--> 450\u001b[0;31m             response = retry(client._call_api)(\n\u001b[0m\u001b[1;32m    451\u001b[0m                 \u001b[0mretry\u001b[0m\u001b[0;34m=\u001b[0m\u001b[0;32mNone\u001b[0m\u001b[0;34m,\u001b[0m  \u001b[0;31m# We're calling the retry decorator ourselves.\u001b[0m\u001b[0;34m\u001b[0m\u001b[0;34m\u001b[0m\u001b[0m\n",
            "\u001b[0;32m/usr/local/lib/python3.10/dist-packages/google/api_core/retry/retry_unary.py\u001b[0m in \u001b[0;36mretry_wrapped_func\u001b[0;34m(*args, **kwargs)\u001b[0m\n\u001b[1;32m    292\u001b[0m             )\n\u001b[0;32m--> 293\u001b[0;31m             return retry_target(\n\u001b[0m\u001b[1;32m    294\u001b[0m                 \u001b[0mtarget\u001b[0m\u001b[0;34m,\u001b[0m\u001b[0;34m\u001b[0m\u001b[0;34m\u001b[0m\u001b[0m\n",
            "\u001b[0;32m/usr/local/lib/python3.10/dist-packages/google/api_core/retry/retry_unary.py\u001b[0m in \u001b[0;36mretry_target\u001b[0;34m(target, predicate, sleep_generator, timeout, on_error, exception_factory, **kwargs)\u001b[0m\n\u001b[1;32m    152\u001b[0m             \u001b[0;31m# defer to shared logic for handling errors\u001b[0m\u001b[0;34m\u001b[0m\u001b[0;34m\u001b[0m\u001b[0m\n\u001b[0;32m--> 153\u001b[0;31m             _retry_error_helper(\n\u001b[0m\u001b[1;32m    154\u001b[0m                 \u001b[0mexc\u001b[0m\u001b[0;34m,\u001b[0m\u001b[0;34m\u001b[0m\u001b[0;34m\u001b[0m\u001b[0m\n",
            "\u001b[0;32m/usr/local/lib/python3.10/dist-packages/google/api_core/retry/retry_base.py\u001b[0m in \u001b[0;36m_retry_error_helper\u001b[0;34m(exc, deadline, next_sleep, error_list, predicate_fn, on_error_fn, exc_factory_fn, original_timeout)\u001b[0m\n\u001b[1;32m    211\u001b[0m         )\n\u001b[0;32m--> 212\u001b[0;31m         \u001b[0;32mraise\u001b[0m \u001b[0mfinal_exc\u001b[0m \u001b[0;32mfrom\u001b[0m \u001b[0msource_exc\u001b[0m\u001b[0;34m\u001b[0m\u001b[0;34m\u001b[0m\u001b[0m\n\u001b[0m\u001b[1;32m    213\u001b[0m     \u001b[0;32mif\u001b[0m \u001b[0mon_error_fn\u001b[0m \u001b[0;32mis\u001b[0m \u001b[0;32mnot\u001b[0m \u001b[0;32mNone\u001b[0m\u001b[0;34m:\u001b[0m\u001b[0;34m\u001b[0m\u001b[0;34m\u001b[0m\u001b[0m\n",
            "\u001b[0;32m/usr/local/lib/python3.10/dist-packages/google/api_core/retry/retry_unary.py\u001b[0m in \u001b[0;36mretry_target\u001b[0;34m(target, predicate, sleep_generator, timeout, on_error, exception_factory, **kwargs)\u001b[0m\n\u001b[1;32m    143\u001b[0m         \u001b[0;32mtry\u001b[0m\u001b[0;34m:\u001b[0m\u001b[0;34m\u001b[0m\u001b[0;34m\u001b[0m\u001b[0m\n\u001b[0;32m--> 144\u001b[0;31m             \u001b[0mresult\u001b[0m \u001b[0;34m=\u001b[0m \u001b[0mtarget\u001b[0m\u001b[0;34m(\u001b[0m\u001b[0;34m)\u001b[0m\u001b[0;34m\u001b[0m\u001b[0;34m\u001b[0m\u001b[0m\n\u001b[0m\u001b[1;32m    145\u001b[0m             \u001b[0;32mif\u001b[0m \u001b[0minspect\u001b[0m\u001b[0;34m.\u001b[0m\u001b[0misawaitable\u001b[0m\u001b[0;34m(\u001b[0m\u001b[0mresult\u001b[0m\u001b[0;34m)\u001b[0m\u001b[0;34m:\u001b[0m\u001b[0;34m\u001b[0m\u001b[0;34m\u001b[0m\u001b[0m\n",
            "\u001b[0;32m/usr/local/lib/python3.10/dist-packages/google/cloud/bigquery/client.py\u001b[0m in \u001b[0;36m_call_api\u001b[0;34m(self, retry, span_name, span_attributes, job_ref, headers, **kwargs)\u001b[0m\n\u001b[1;32m    832\u001b[0m             ):\n\u001b[0;32m--> 833\u001b[0;31m                 \u001b[0;32mreturn\u001b[0m \u001b[0mcall\u001b[0m\u001b[0;34m(\u001b[0m\u001b[0;34m)\u001b[0m\u001b[0;34m\u001b[0m\u001b[0;34m\u001b[0m\u001b[0m\n\u001b[0m\u001b[1;32m    834\u001b[0m \u001b[0;34m\u001b[0m\u001b[0m\n",
            "\u001b[0;32m/usr/local/lib/python3.10/dist-packages/google/cloud/_http/__init__.py\u001b[0m in \u001b[0;36mapi_request\u001b[0;34m(self, method, path, query_params, data, content_type, headers, api_base_url, api_version, expect_json, _target_object, timeout, extra_api_info)\u001b[0m\n\u001b[1;32m    493\u001b[0m         \u001b[0;32mif\u001b[0m \u001b[0;32mnot\u001b[0m \u001b[0;36m200\u001b[0m \u001b[0;34m<=\u001b[0m \u001b[0mresponse\u001b[0m\u001b[0;34m.\u001b[0m\u001b[0mstatus_code\u001b[0m \u001b[0;34m<\u001b[0m \u001b[0;36m300\u001b[0m\u001b[0;34m:\u001b[0m\u001b[0;34m\u001b[0m\u001b[0;34m\u001b[0m\u001b[0m\n\u001b[0;32m--> 494\u001b[0;31m             \u001b[0;32mraise\u001b[0m \u001b[0mexceptions\u001b[0m\u001b[0;34m.\u001b[0m\u001b[0mfrom_http_response\u001b[0m\u001b[0;34m(\u001b[0m\u001b[0mresponse\u001b[0m\u001b[0;34m)\u001b[0m\u001b[0;34m\u001b[0m\u001b[0;34m\u001b[0m\u001b[0m\n\u001b[0m\u001b[1;32m    495\u001b[0m \u001b[0;34m\u001b[0m\u001b[0m\n",
            "\u001b[0;31mConflict\u001b[0m: 409 POST https://bigquery.googleapis.com/bigquery/v2/projects/nexite-434614/queries?prettyPrint=false: Already Exists: Table nexite-434614:test2.slots",
            "\nDuring handling of the above exception, another exception occurred:\n",
            "\u001b[0;31mTableCreationError\u001b[0m                        Traceback (most recent call last)",
            "\u001b[0;32m<ipython-input-4-af6c7fe9b78b>\u001b[0m in \u001b[0;36m<cell line: 18>\u001b[0;34m()\u001b[0m\n\u001b[1;32m     16\u001b[0m \u001b[0;32mif\u001b[0m \u001b[0mverbose\u001b[0m\u001b[0;34m:\u001b[0m\u001b[0;34m\u001b[0m\u001b[0;34m\u001b[0m\u001b[0m\n\u001b[1;32m     17\u001b[0m   \u001b[0mprint\u001b[0m\u001b[0;34m(\u001b[0m\u001b[0mquery\u001b[0m\u001b[0;34m)\u001b[0m\u001b[0;34m\u001b[0m\u001b[0;34m\u001b[0m\u001b[0m\n\u001b[0;32m---> 18\u001b[0;31m \u001b[0mdf\u001b[0m \u001b[0;34m=\u001b[0m \u001b[0mpd\u001b[0m\u001b[0;34m.\u001b[0m\u001b[0mio\u001b[0m\u001b[0;34m.\u001b[0m\u001b[0mgbq\u001b[0m\u001b[0;34m.\u001b[0m\u001b[0mread_gbq\u001b[0m\u001b[0;34m(\u001b[0m\u001b[0mquery\u001b[0m\u001b[0;34m=\u001b[0m\u001b[0mquery\u001b[0m\u001b[0;34m,\u001b[0m \u001b[0mproject_id\u001b[0m\u001b[0;34m=\u001b[0m\u001b[0mproject_id\u001b[0m\u001b[0;34m,\u001b[0m \u001b[0mdialect\u001b[0m\u001b[0;34m=\u001b[0m\u001b[0;34m'standard'\u001b[0m\u001b[0;34m)\u001b[0m\u001b[0;34m\u001b[0m\u001b[0;34m\u001b[0m\u001b[0m\n\u001b[0m",
            "\u001b[0;32m/usr/local/lib/python3.10/dist-packages/pandas/io/gbq.py\u001b[0m in \u001b[0;36mread_gbq\u001b[0;34m(query, project_id, index_col, col_order, reauth, auth_local_webserver, dialect, location, configuration, credentials, use_bqstorage_api, max_results, progress_bar_type)\u001b[0m\n\u001b[1;32m    192\u001b[0m     \u001b[0;31m# END: new kwargs\u001b[0m\u001b[0;34m\u001b[0m\u001b[0;34m\u001b[0m\u001b[0m\n\u001b[1;32m    193\u001b[0m \u001b[0;34m\u001b[0m\u001b[0m\n\u001b[0;32m--> 194\u001b[0;31m     return pandas_gbq.read_gbq(\n\u001b[0m\u001b[1;32m    195\u001b[0m         \u001b[0mquery\u001b[0m\u001b[0;34m,\u001b[0m\u001b[0;34m\u001b[0m\u001b[0;34m\u001b[0m\u001b[0m\n\u001b[1;32m    196\u001b[0m         \u001b[0mproject_id\u001b[0m\u001b[0;34m=\u001b[0m\u001b[0mproject_id\u001b[0m\u001b[0;34m,\u001b[0m\u001b[0;34m\u001b[0m\u001b[0;34m\u001b[0m\u001b[0m\n",
            "\u001b[0;32m/usr/local/lib/python3.10/dist-packages/pandas_gbq/gbq.py\u001b[0m in \u001b[0;36mread_gbq\u001b[0;34m(query_or_table, project_id, index_col, columns, reauth, auth_local_webserver, dialect, location, configuration, credentials, use_bqstorage_api, max_results, verbose, private_key, progress_bar_type, dtypes, auth_redirect_uri, client_id, client_secret, col_order)\u001b[0m\n\u001b[1;32m    894\u001b[0m \u001b[0;34m\u001b[0m\u001b[0m\n\u001b[1;32m    895\u001b[0m     \u001b[0;32mif\u001b[0m \u001b[0m_is_query\u001b[0m\u001b[0;34m(\u001b[0m\u001b[0mquery_or_table\u001b[0m\u001b[0;34m)\u001b[0m\u001b[0;34m:\u001b[0m\u001b[0;34m\u001b[0m\u001b[0;34m\u001b[0m\u001b[0m\n\u001b[0;32m--> 896\u001b[0;31m         final_df = connector.run_query(\n\u001b[0m\u001b[1;32m    897\u001b[0m             \u001b[0mquery_or_table\u001b[0m\u001b[0;34m,\u001b[0m\u001b[0;34m\u001b[0m\u001b[0;34m\u001b[0m\u001b[0m\n\u001b[1;32m    898\u001b[0m             \u001b[0mconfiguration\u001b[0m\u001b[0;34m=\u001b[0m\u001b[0mconfiguration\u001b[0m\u001b[0;34m,\u001b[0m\u001b[0;34m\u001b[0m\u001b[0;34m\u001b[0m\u001b[0m\n",
            "\u001b[0;32m/usr/local/lib/python3.10/dist-packages/pandas_gbq/gbq.py\u001b[0m in \u001b[0;36mrun_query\u001b[0;34m(self, query, max_results, progress_bar_type, **kwargs)\u001b[0m\n\u001b[1;32m    433\u001b[0m \u001b[0;34m\u001b[0m\u001b[0m\n\u001b[1;32m    434\u001b[0m         \u001b[0;32mif\u001b[0m \u001b[0mFEATURES\u001b[0m\u001b[0;34m.\u001b[0m\u001b[0mbigquery_has_query_and_wait\u001b[0m\u001b[0;34m:\u001b[0m\u001b[0;34m\u001b[0m\u001b[0;34m\u001b[0m\u001b[0m\n\u001b[0;32m--> 435\u001b[0;31m             rows_iter = pandas_gbq.query.query_and_wait_via_client_library(\n\u001b[0m\u001b[1;32m    436\u001b[0m                 \u001b[0mself\u001b[0m\u001b[0;34m,\u001b[0m\u001b[0;34m\u001b[0m\u001b[0;34m\u001b[0m\u001b[0m\n\u001b[1;32m    437\u001b[0m                 \u001b[0mself\u001b[0m\u001b[0;34m.\u001b[0m\u001b[0mclient\u001b[0m\u001b[0;34m,\u001b[0m\u001b[0;34m\u001b[0m\u001b[0;34m\u001b[0m\u001b[0m\n",
            "\u001b[0;32m/usr/local/lib/python3.10/dist-packages/pandas_gbq/query.py\u001b[0m in \u001b[0;36mquery_and_wait_via_client_library\u001b[0;34m(connector, client, query, job_config, location, project_id, max_results, timeout_ms)\u001b[0m\n\u001b[1;32m    196\u001b[0m     \u001b[0mtimeout_ms\u001b[0m\u001b[0;34m:\u001b[0m \u001b[0mOptional\u001b[0m\u001b[0;34m[\u001b[0m\u001b[0mint\u001b[0m\u001b[0;34m]\u001b[0m\u001b[0;34m,\u001b[0m\u001b[0;34m\u001b[0m\u001b[0;34m\u001b[0m\u001b[0m\n\u001b[1;32m    197\u001b[0m ):\n\u001b[0;32m--> 198\u001b[0;31m     rows_iter = try_query(\n\u001b[0m\u001b[1;32m    199\u001b[0m         \u001b[0mconnector\u001b[0m\u001b[0;34m,\u001b[0m\u001b[0;34m\u001b[0m\u001b[0;34m\u001b[0m\u001b[0m\n\u001b[1;32m    200\u001b[0m         functools.partial(\n",
            "\u001b[0;32m/usr/local/lib/python3.10/dist-packages/pandas_gbq/query.py\u001b[0m in \u001b[0;36mtry_query\u001b[0;34m(connector, query_fn)\u001b[0m\n\u001b[1;32m     97\u001b[0m             )\n\u001b[1;32m     98\u001b[0m     \u001b[0;32mexcept\u001b[0m \u001b[0mconnector\u001b[0m\u001b[0;34m.\u001b[0m\u001b[0mhttp_error\u001b[0m \u001b[0;32mas\u001b[0m \u001b[0mex\u001b[0m\u001b[0;34m:\u001b[0m\u001b[0;34m\u001b[0m\u001b[0;34m\u001b[0m\u001b[0m\n\u001b[0;32m---> 99\u001b[0;31m         \u001b[0mconnector\u001b[0m\u001b[0;34m.\u001b[0m\u001b[0mprocess_http_error\u001b[0m\u001b[0;34m(\u001b[0m\u001b[0mex\u001b[0m\u001b[0;34m)\u001b[0m\u001b[0;34m\u001b[0m\u001b[0;34m\u001b[0m\u001b[0m\n\u001b[0m\u001b[1;32m    100\u001b[0m \u001b[0;34m\u001b[0m\u001b[0m\n\u001b[1;32m    101\u001b[0m \u001b[0;34m\u001b[0m\u001b[0m\n",
            "\u001b[0;32m/usr/local/lib/python3.10/dist-packages/pandas_gbq/gbq.py\u001b[0m in \u001b[0;36mprocess_http_error\u001b[0;34m(ex)\u001b[0m\n\u001b[1;32m    366\u001b[0m         \u001b[0;32melif\u001b[0m \u001b[0;34m\"already exists: table\"\u001b[0m \u001b[0;32min\u001b[0m \u001b[0mmessage\u001b[0m\u001b[0;34m:\u001b[0m\u001b[0;34m\u001b[0m\u001b[0;34m\u001b[0m\u001b[0m\n\u001b[1;32m    367\u001b[0m             \u001b[0merror_message\u001b[0m \u001b[0;34m=\u001b[0m \u001b[0mex\u001b[0m\u001b[0;34m.\u001b[0m\u001b[0merrors\u001b[0m\u001b[0;34m[\u001b[0m\u001b[0;36m0\u001b[0m\u001b[0;34m]\u001b[0m\u001b[0;34m[\u001b[0m\u001b[0;34m\"message\"\u001b[0m\u001b[0;34m]\u001b[0m\u001b[0;34m\u001b[0m\u001b[0;34m\u001b[0m\u001b[0m\n\u001b[0;32m--> 368\u001b[0;31m             \u001b[0;32mraise\u001b[0m \u001b[0mTableCreationError\u001b[0m\u001b[0;34m(\u001b[0m\u001b[0;34mf\"Reason: {error_message}\"\u001b[0m\u001b[0;34m)\u001b[0m\u001b[0;34m\u001b[0m\u001b[0;34m\u001b[0m\u001b[0m\n\u001b[0m\u001b[1;32m    369\u001b[0m         \u001b[0;32melse\u001b[0m\u001b[0;34m:\u001b[0m\u001b[0;34m\u001b[0m\u001b[0;34m\u001b[0m\u001b[0m\n\u001b[1;32m    370\u001b[0m             \u001b[0;32mraise\u001b[0m \u001b[0mGenericGBQException\u001b[0m\u001b[0;34m(\u001b[0m\u001b[0;34m\"Reason: {0}\"\u001b[0m\u001b[0;34m.\u001b[0m\u001b[0mformat\u001b[0m\u001b[0;34m(\u001b[0m\u001b[0mex\u001b[0m\u001b[0;34m)\u001b[0m\u001b[0;34m)\u001b[0m \u001b[0;32mfrom\u001b[0m \u001b[0mex\u001b[0m\u001b[0;34m\u001b[0m\u001b[0;34m\u001b[0m\u001b[0m\n",
            "\u001b[0;31mTableCreationError\u001b[0m: Reason: Already Exists: Table nexite-434614:test2.slots"
          ]
        }
      ],
      "source": [
        "query = \"create table \"+dataset+\".slots as \"+\"\"\"SELECT\n",
        "  period_start,\n",
        "  SUM(period_slot_ms/1000) AS total_slot_ms,\n",
        "FROM\n",
        "  \"\"\"+project_id+\".region-\"+region+\"\"\".INFORMATION_SCHEMA.JOBS_TIMELINE\n",
        "WHERE\n",
        "  period_start BETWEEN CAST(\\\"\"\"\"+start_timestamp+\"\"\"\\\" AS TIMESTAMP)\n",
        "  AND \"\"\"+\"CAST(\\\"\"+end_timestamp+\"\\\" AS TIMESTAMP)\"\"\"\n",
        "\n",
        "query = query + \"\"\"\n",
        "GROUP BY\n",
        "  period_start\n",
        "ORDER BY\n",
        "  period_start DESC\"\"\"\n",
        "\n",
        "if verbose:\n",
        "  print(query)\n",
        "df = pd.io.gbq.read_gbq(query=query, project_id=project_id, dialect='standard')"
      ]
    },
    {
      "cell_type": "markdown",
      "metadata": {
        "id": "uyK-sFMX5sPj"
      },
      "source": [
        "**Step 5**<br>\n",
        "We create a dynamic query that creates buckets incremented by 50 from 0 to the highest number of slots used during the selected time period.<br>\n",
        "The original time periods are seconds, so we aggregate the data in Minute granularity and for each minute we take the high<br> watermark of slot usage (since BigQuery autoscaler's minimum is 1 minute).<br><br>\n",
        "Then we assign each minute to a specific bucket according to the maximum slots that ut used.<br>\n",
        "We create a view called bucketed to hold the result and enable further calculations."
      ]
    },
    {
      "cell_type": "code",
      "execution_count": 32,
      "metadata": {
        "executionInfo": {
          "elapsed": 1189,
          "status": "ok",
          "timestamp": 1728996908547,
          "user": {
            "displayName": "",
            "userId": ""
          },
          "user_tz": -180
        },
        "id": "hR7o0v4Hd0f3",
        "colab": {
          "base_uri": "https://localhost:8080/"
        },
        "outputId": "0aeaba6d-7a07-4bd3-cabd-0086e7ec376a"
      },
      "outputs": [
        {
          "output_type": "stream",
          "name": "stdout",
          "text": [
            "create view test2.bucketed as SELECT\n",
            "  period_start,\n",
            "  (case\n",
            "when total_slot_ms = 0 then 0\n",
            "when total_slot_ms between 0 and 50 then 50\n",
            "when total_slot_ms between 50 and 100 then 100\n",
            "when total_slot_ms between 100 and 150 then 150\n",
            "when total_slot_ms between 150 and 200 then 200\n",
            "when total_slot_ms between 200 and 250 then 250\n",
            "when total_slot_ms between 250 and 300 then 300\n",
            "when total_slot_ms between 300 and 350 then 350\n",
            "when total_slot_ms between 350 and 400 then 400\n",
            "when total_slot_ms between 400 and 450 then 450\n",
            "when total_slot_ms between 450 and 500 then 500\n",
            "when total_slot_ms between 500 and 550 then 550\n",
            "when total_slot_ms between 550 and 600 then 600\n",
            "when total_slot_ms between 600 and 650 then 650\n",
            "when total_slot_ms between 650 and 700 then 700\n",
            "when total_slot_ms between 700 and 750 then 750\n",
            "when total_slot_ms between 750 and 800 then 800\n",
            "when total_slot_ms between 800 and 850 then 850\n",
            "when total_slot_ms between 850 and 900 then 900\n",
            "when total_slot_ms between 900 and 950 then 950\n",
            "when total_slot_ms between 950 and 1000 then 1000\n",
            "when total_slot_ms between 1000 and 1050 then 1050\n",
            "when total_slot_ms between 1050 and 1100 then 1100\n",
            "when total_slot_ms between 1100 and 1150 then 1150\n",
            "  end) as bucket\n",
            "FROM test2.slots\n"
          ]
        }
      ],
      "source": [
        "query1 = \"select max(total_slot_ms) as max_slots from \"+dataset+\".slots\"\n",
        "df = pd.io.gbq.read_gbq(query=query1, project_id=project_id, dialect='standard')\n",
        "max_slots = int(df._get_value(0, 'max_slots'))\n",
        "query2 = \"create view \"+dataset+\".bucketed\"+\"\"\" as SELECT\n",
        "  period_start,\n",
        "  (case\n",
        "when total_slot_ms = 0 then 0\\n\"\"\"\n",
        "for i in range(0, max_slots, 50):\n",
        "  line = \"when total_slot_ms between \"+str(i)+\" and \"+str(i+50)+\" then \"+str(i+50)+'\\n'\n",
        "  query2 = query2 + line\n",
        "query2 = query2 + \"\"\"  end) as bucket\n",
        "FROM \"\"\"+dataset+\".slots\"\n",
        "\n",
        "if verbose:\n",
        "  print(query2)\n",
        "\n",
        "df = pd.io.gbq.read_gbq(query=query2, project_id=project_id, dialect='standard')"
      ]
    },
    {
      "cell_type": "markdown",
      "metadata": {
        "id": "hB8ZVTWwAV7g"
      },
      "source": [
        "**Step 6**<br>\n",
        "Here we create a view called buckets_count that shows hoe many time periods (minutes) fall into each bucket.<br>\n",
        "Then we print the contents of the view."
      ]
    },
    {
      "cell_type": "code",
      "execution_count": 34,
      "metadata": {
        "colab": {
          "base_uri": "https://localhost:8080/"
        },
        "executionInfo": {
          "elapsed": 1708,
          "status": "ok",
          "timestamp": 1728996936307,
          "user": {
            "displayName": "",
            "userId": ""
          },
          "user_tz": -180
        },
        "id": "PvRkZok7eHMx",
        "outputId": "a5aedc31-7bfb-4bf0-f885-8c185898f2c0"
      },
      "outputs": [
        {
          "output_type": "stream",
          "name": "stdout",
          "text": [
            "create view test2.buckets_count as SELECT\n",
            "  bucket,\n",
            "  COUNT(*) as periods,\n",
            "FROM `nexite-434614.test2.bucketed`\n",
            "where bucket is not null\n",
            "GROUP BY\n",
            "  bucket\n",
            "select * from test2.buckets_count order by bucket\n",
            "    bucket  periods\n",
            "0        0       76\n",
            "1       50     1568\n",
            "2      100      427\n",
            "3      150      277\n",
            "4      200      127\n",
            "5      250       53\n",
            "6      300       42\n",
            "7      350       48\n",
            "8      400       84\n",
            "9      450       86\n",
            "10     500       76\n",
            "11     550      146\n",
            "12     600      140\n",
            "13     650      106\n",
            "14     700       76\n",
            "15     750       78\n",
            "16     800       49\n",
            "17     850       77\n",
            "18     900       92\n",
            "19     950      115\n",
            "20    1000      595\n",
            "21    1050      887\n",
            "22    1100       21\n",
            "23    1150        2\n"
          ]
        }
      ],
      "source": [
        "query = \"create view \"+dataset+\"\"\".buckets_count as SELECT\n",
        "  bucket,\n",
        "  COUNT(*) as periods,\n",
        "FROM `\"\"\"+project_id+\".\"+dataset+\"\"\".bucketed`\n",
        "where bucket is not null\n",
        "GROUP BY\n",
        "  bucket\"\"\"\n",
        "\n",
        "if verbose:\n",
        "  print(query)\n",
        "\n",
        "df = pd.io.gbq.read_gbq(query=query, project_id=project_id, dialect='standard')\n",
        "query = 'select * from '+dataset+\".buckets_count order by bucket\"\n",
        "\n",
        "if verbose:\n",
        "  print(query)\n",
        "df = pd.io.gbq.read_gbq(query=query, project_id=project_id, dialect='standard')\n",
        "print(df)"
      ]
    },
    {
      "cell_type": "markdown",
      "metadata": {
        "id": "PdAz0WMoChFM"
      },
      "source": [
        "For our next calculations we need to know Two numbers:\n",
        "\n",
        "\n",
        "1.   How many hours there are in our timeframe\n",
        "2.   How many time periods we have\n",
        "\n",
        "So steps 7 and 8 find those values.\n",
        "\n",
        "\n",
        "\n"
      ]
    },
    {
      "cell_type": "markdown",
      "metadata": {
        "id": "0uTDf2dtBhq0"
      },
      "source": [
        "**Step 7**<br>\n",
        "Calculate how many hours we have in the chosen time frame."
      ]
    },
    {
      "cell_type": "code",
      "execution_count": 35,
      "metadata": {
        "executionInfo": {
          "elapsed": 403,
          "status": "ok",
          "timestamp": 1728996939587,
          "user": {
            "displayName": "",
            "userId": ""
          },
          "user_tz": -180
        },
        "id": "znsJmnaRi_OS",
        "colab": {
          "base_uri": "https://localhost:8080/"
        },
        "outputId": "b12cd914-ab57-4cf6-f397-7a207c9414df"
      },
      "outputs": [
        {
          "output_type": "stream",
          "name": "stdout",
          "text": [
            "hours: 168.0\n"
          ]
        }
      ],
      "source": [
        "from datetime import datetime\n",
        "date_format = '%Y-%m-%d'\n",
        "diff = datetime.strptime(end_timestamp,date_format) - datetime.strptime(start_timestamp, date_format)\n",
        "hours = diff.days * 24 + diff.seconds / 3600\n",
        "if verbose:\n",
        "  print(\"hours: \"+str(hours))"
      ]
    },
    {
      "cell_type": "markdown",
      "metadata": {
        "id": "68WBq6DnDAGK"
      },
      "source": [
        "**Step 8**<br>\n",
        "Calculate how many time slots we have."
      ]
    },
    {
      "cell_type": "code",
      "execution_count": 36,
      "metadata": {
        "executionInfo": {
          "elapsed": 411,
          "status": "ok",
          "timestamp": 1728996941655,
          "user": {
            "displayName": "",
            "userId": ""
          },
          "user_tz": -180
        },
        "id": "n4UOfEKHC1Ha",
        "colab": {
          "base_uri": "https://localhost:8080/"
        },
        "outputId": "b49f8d1e-8326-4d2f-b7b4-44b09baba1c9"
      },
      "outputs": [
        {
          "output_type": "stream",
          "name": "stdout",
          "text": [
            "periods: 5248\n"
          ]
        }
      ],
      "source": [
        "query = \"select count(*) as periods from \"+dataset+\".bucketed\"\n",
        "df = pd.io.gbq.read_gbq(query=query, project_id=project_id, dialect='standard')\n",
        "periods = df._get_value(0, 'periods')\n",
        "if verbose:\n",
        "  print(\"periods: \"+str(periods))"
      ]
    },
    {
      "cell_type": "markdown",
      "metadata": {
        "id": "IerxqG84D_ji"
      },
      "source": [
        "**Step 9**<br>\n",
        "This is the heart of our calculation.<br><br>\n",
        "We know how many hours were in the selected timeframe and how many time periods we had during this timeframe.\n",
        "So we can calculate what is the percentage of all the time that we used each bucket.<br>\n",
        "If we know the percentage of time and we know how many wours we had in the timeframe then we can calculate how many hours each bucket was active.<br>\n",
        "And we know how much each slot/hour costs for each BigQuery edition so we can calculate the cost each bucket incured.\n",
        "\n",
        "So here we create a view called calculated that holds the bucket, the percentage of all time that this bucket was used, how many hours it was used, and how much we would be charged for it if we use the selected edition."
      ]
    },
    {
      "cell_type": "code",
      "execution_count": 38,
      "metadata": {
        "executionInfo": {
          "elapsed": 862,
          "status": "ok",
          "timestamp": 1728996959030,
          "user": {
            "displayName": "",
            "userId": ""
          },
          "user_tz": -180
        },
        "id": "lpMDkjb3bqIo",
        "colab": {
          "base_uri": "https://localhost:8080/"
        },
        "outputId": "0317026b-0873-4c38-cf15-33aaa32d2acc"
      },
      "outputs": [
        {
          "output_type": "stream",
          "name": "stdout",
          "text": [
            "create view test2.calculated as SELECT\n",
            "  bucket,\n",
            "  round(periods/5248*100, 3) as percentage,\n",
            "  round(periods/5248*100/100*168.0, 3) as hours,\n",
            "  round(periods/5248*100/100*168.0*bucket*0.04, 3) as cost_usd\n",
            "FROM\n",
            "  `nexite-434614.test2.buckets_count`\n",
            "  order by bucket\n"
          ]
        }
      ],
      "source": [
        "if edition == 'Enterprise':\n",
        "  price = 0.06\n",
        "elif edition == 'Enterprise plus':\n",
        "  price = 0.1\n",
        "else:\n",
        "  price = 0.04\n",
        "\n",
        "query = \"create view \"+dataset+\"\"\".calculated as SELECT\n",
        "  bucket,\n",
        "  round(periods/\"\"\"+str(periods)+\"\"\"*100, 3) as percentage,\n",
        "  round(periods/\"\"\"+str(periods)+\"*100/100*\"+str(hours)+\"\"\", 3) as hours,\n",
        "  round(periods/\"\"\"+str(periods)+\"*100/100*\"+str(hours)+\"*bucket*\"+str(price)+\"\"\", 3) as cost_usd\n",
        "FROM\n",
        "  `\"\"\"+project_id+\".\"+dataset+\"\"\".buckets_count`\n",
        "  order by bucket\"\"\"\n",
        "\n",
        "if verbose:\n",
        "  print(query)\n",
        "\n",
        "df = pd.io.gbq.read_gbq(query=query, project_id=project_id, dialect='standard')"
      ]
    },
    {
      "cell_type": "markdown",
      "metadata": {
        "id": "lptkZlWMFH1o"
      },
      "source": [
        "**Let's see how it looks like.**"
      ]
    },
    {
      "cell_type": "code",
      "execution_count": 39,
      "metadata": {
        "executionInfo": {
          "elapsed": 926,
          "status": "ok",
          "timestamp": 1728996964727,
          "user": {
            "displayName": "",
            "userId": ""
          },
          "user_tz": -180
        },
        "id": "fM6iGYiV6qdf"
      },
      "outputs": [],
      "source": [
        "query = \"select * from \"+dataset+\".calculated\"\n",
        "calculated = pd.io.gbq.read_gbq(query=query, project_id=project_id, dialect='standard')"
      ]
    },
    {
      "cell_type": "code",
      "execution_count": 40,
      "metadata": {
        "colab": {
          "base_uri": "https://localhost:8080/"
        },
        "executionInfo": {
          "elapsed": 424,
          "status": "ok",
          "timestamp": 1728996967040,
          "user": {
            "displayName": "",
            "userId": ""
          },
          "user_tz": -180
        },
        "id": "pX8mhC-riKaD",
        "outputId": "c1bc8729-ac59-4b4c-89d8-6f6531059cf6"
      },
      "outputs": [
        {
          "output_type": "stream",
          "name": "stdout",
          "text": [
            "    bucket  percentage   hours  cost_usd\n",
            "0        0       1.448   2.433     0.000\n",
            "1       50      29.878  50.195   100.390\n",
            "2      100       8.136  13.669    54.677\n",
            "3      150       5.278   8.867    53.204\n",
            "4      200       2.420   4.066    32.524\n",
            "5      250       1.010   1.697    16.966\n",
            "6      300       0.800   1.345    16.134\n",
            "7      350       0.915   1.537    21.512\n",
            "8      400       1.601   2.689    43.024\n",
            "9      450       1.639   2.753    49.555\n",
            "10     500       1.448   2.433    48.659\n",
            "11     550       2.782   4.674   102.823\n",
            "12     600       2.668   4.482   107.561\n",
            "13     650       2.020   3.393    88.226\n",
            "14     700       1.448   2.433    68.122\n",
            "15     750       1.486   2.497    74.909\n",
            "16     800       0.934   1.569    50.195\n",
            "17     850       1.467   2.465    83.808\n",
            "18     900       1.753   2.945   106.024\n",
            "19     950       2.191   3.681   139.893\n",
            "20    1000      11.338  19.047   761.890\n",
            "21    1050      16.902  28.395  1192.582\n",
            "22    1100       0.400   0.672    29.579\n",
            "23    1150       0.038   0.064     2.945\n"
          ]
        }
      ],
      "source": [
        "print(calculated)"
      ]
    },
    {
      "cell_type": "markdown",
      "metadata": {
        "id": "Zy8nUuJ9FOSq"
      },
      "source": [
        "**Stage 10**<br>\n",
        "Here is a visualization of the histogram that shows the distribution of the slot buckets and the time spent in each of them.<br>\n",
        "There should be a \"sweet spot\" where most of the buckets under it are heavily used and above it there is only slight usage.<br>\n",
        "This shhould give you the sense of where that sweet spot should be."
      ]
    },
    {
      "cell_type": "code",
      "execution_count": 41,
      "metadata": {
        "colab": {
          "base_uri": "https://localhost:8080/",
          "height": 790
        },
        "executionInfo": {
          "elapsed": 467,
          "status": "ok",
          "timestamp": 1728996971342,
          "user": {
            "displayName": "",
            "userId": ""
          },
          "user_tz": -180
        },
        "id": "wNn5E1mT0JWp",
        "outputId": "bb478d98-6590-4315-d4d9-82c0074da3d3"
      },
      "outputs": [
        {
          "output_type": "execute_result",
          "data": {
            "text/plain": [
              "<Axes: xlabel='bucket'>"
            ]
          },
          "metadata": {},
          "execution_count": 41
        },
        {
          "output_type": "display_data",
          "data": {
            "text/plain": [
              "<Figure size 1500x900 with 1 Axes>"
            ],
            "image/png": "[encoded data removed]"
          },
          "metadata": {}
        }
      ],
      "source": [
        "import pandas as pd\n",
        "import matplotlib.pyplot as plt\n",
        "\n",
        "calculated.plot(x=\"bucket\", y=\"percentage\", kind=\"line\",figsize=(15,9))"
      ]
    },
    {
      "cell_type": "code",
      "source": [
        "query = \"select period_start, total_queries from \"+dataset+\".slots order by period_start\"\n",
        "df = pd.io.gbq.read_gbq(query=query, project_id=project_id, dialect='standard')\n",
        "df.plot(x=\"period_start\", y=\"total_queries\", kind=\"line\",figsize=(15,9))\n",
        "#ts = pd.Series(df[total_queries], index=pd.period_start)\n",
        "\n",
        "#ts = ts.cumsum()\n",
        "#ts.plot()"
      ],
      "metadata": {
        "colab": {
          "base_uri": "https://localhost:8080/",
          "height": 747
        },
        "id": "ph39S02LQQlO",
        "executionInfo": {
          "status": "ok",
          "timestamp": 1728997697232,
          "user_tz": -180,
          "elapsed": 1563,
          "user": {
            "displayName": "",
            "userId": ""
          }
        },
        "outputId": "34d4b3f9-8b32-4240-fa3a-798e53d9b79e"
      },
      "execution_count": 50,
      "outputs": [
        {
          "output_type": "execute_result",
          "data": {
            "text/plain": [
              "<Axes: xlabel='period_start'>"
            ]
          },
          "metadata": {},
          "execution_count": 50
        },
        {
          "output_type": "display_data",
          "data": {
            "text/plain": [
              "<Figure size 1500x900 with 1 Axes>"
            ],
            "image/png": "[encoded data removed]"
          },
          "metadata": {}
        }
      ]
    },
    {
      "cell_type": "markdown",
      "metadata": {
        "id": "LJgFM9h75vZw"
      },
      "source": [
        "**Step 11**<br>\n",
        "Use the following query to identify where slot usage drops below 1% of the time."
      ]
    },
    {
      "cell_type": "code",
      "execution_count": 42,
      "metadata": {
        "colab": {
          "base_uri": "https://localhost:8080/"
        },
        "executionInfo": {
          "elapsed": 832,
          "status": "ok",
          "timestamp": 1728996981205,
          "user": {
            "displayName": "",
            "userId": ""
          },
          "user_tz": -180
        },
        "id": "3RCxMi4tZyfF",
        "outputId": "53677023-c695-43f7-d678-cfb52e621ef9"
      },
      "outputs": [
        {
          "output_type": "stream",
          "name": "stdout",
          "text": [
            "select max(bucket) as recommended from test2.calculated where percentage > 1\n",
            "   recommended\n",
            "0         1050\n"
          ]
        }
      ],
      "source": [
        "query = \"select max(bucket) as recommended from \"+dataset+\".calculated where percentage > 1\"\n",
        "\n",
        "if verbose:\n",
        "  print(query)\n",
        "\n",
        "df = pd.io.gbq.read_gbq(query=query, project_id=project_id, dialect='standard')\n",
        "print(df)"
      ]
    },
    {
      "cell_type": "markdown",
      "metadata": {
        "id": "aBwS6v6YG2AJ"
      },
      "source": [
        "**Step 12**<br>\n",
        "The following steps try to find the optimal max_slots that best balances cost and performance.<br>\n",
        "As a first step choose the max_slots value you want to check."
      ]
    },
    {
      "cell_type": "code",
      "execution_count": null,
      "metadata": {
        "id": "h-ZFZDCoZhEV"
      },
      "outputs": [],
      "source": [
        "max_slots = 750 # @param {\"type\":\"number\"}"
      ]
    },
    {
      "cell_type": "markdown",
      "metadata": {
        "id": "l-fmTKGtghxe"
      },
      "source": [
        "**Explanation**<br>\n",
        "The trade off is cost vs. performance. If we choose the right max_slots than we can reduce the cost while only a small number of queries will decrease in performance. If these are not time critical queries (such as ETLs, background jobs etc.) than we may want to \"sacrifice\" them in return for  lower cost."
      ]
    },
    {
      "cell_type": "markdown",
      "metadata": {
        "id": "Ht67chWWgYJU"
      },
      "source": [
        "**Step 13**<br>\n",
        "We try to calculate how much will we pay if we choose the above max_slots.<br>\n",
        "This is a naive approach as it does not take into consideration all the buckers above the max_slots, as they all had 0 percent."
      ]
    },
    {
      "cell_type": "code",
      "execution_count": null,
      "metadata": {
        "colab": {
          "base_uri": "https://localhost:8080/"
        },
        "executionInfo": {
          "elapsed": 420,
          "status": "ok",
          "timestamp": 1728206091705,
          "user": {
            "displayName": "",
            "userId": ""
          },
          "user_tz": -180
        },
        "id": "cd9arA-rYYfL",
        "outputId": "fe23d657-9a61-4d93-a2a3-cbd233f7f03b"
      },
      "outputs": [
        {
          "name": "stdout",
          "output_type": "stream",
          "text": [
            "Total cost estimation for the time frame using maximum slots 750 is 8320.493999999999 USD.\n"
          ]
        }
      ],
      "source": [
        "answer = calculated[calculated['bucket'] <= max_slots]\n",
        "summed = answer['cost_usd'].sum()\n",
        "print('Total cost estimation for the time frame using maximum slots '+str(max_slots)+' is '+str(summed)+' USD.' )"
      ]
    },
    {
      "cell_type": "markdown",
      "metadata": {
        "id": "_VlJVjPdiKLO"
      },
      "source": [
        "**Step 14**<br>\n",
        "Finally, we want to see which queries will be the most affected by the slot decrease (the ones that has slot consumption above max_slots).\n",
        "Many times you find out that those queries are not time sensitive (such as background processes) and you can sacrifice their performance to lower cost."
      ]
    },
    {
      "cell_type": "code",
      "execution_count": null,
      "metadata": {
        "colab": {
          "base_uri": "https://localhost:8080/"
        },
        "executionInfo": {
          "elapsed": 2919,
          "status": "ok",
          "timestamp": 1728206115450,
          "user": {
            "displayName": "",
            "userId": ""
          },
          "user_tz": -180
        },
        "id": "lqDLbWQ4x_dV",
        "outputId": "ba891815-b2a7-44ee-b812-695fa89424c6"
      },
      "outputs": [
        {
          "name": "stdout",
          "output_type": "stream",
          "text": [
            "SELECT\n",
            "  *\n",
            "FROM (\n",
            "  SELECT\n",
            "    timeline.job_id AS job_id,\n",
            "    jobs.query AS query,\n",
            "    jobs.job_type AS job_type,\n",
            "    ROUND(MAX(timeline.period_slot_ms/1000)) AS total_slot_ms,\n",
            "    COUNT(timeline.job_id) AS slices\n",
            "  FROM\n",
            "    `superplay-437309`.`region-US`.INFORMATION_SCHEMA.JOBS_TIMELINE AS timeline\n",
            "  JOIN\n",
            "    `superplay-437309`.`region-US`.INFORMATION_SCHEMA.JOBS AS jobs\n",
            "  ON\n",
            "    timeline.job_id = jobs.job_id\n",
            "  WHERE\n",
            "    period_start BETWEEN CAST(\"2024-09-23\" AS TIMESTAMP)\n",
            "  AND CAST(\"2024-09-30\" AS TIMESTAMP)\n",
            "  GROUP BY\n",
            "    job_id,\n",
            "    query,\n",
            "    job_type\n",
            "  ORDER BY\n",
            "    slices DESC)\n",
            "WHERE\n",
            "  total_slot_ms>750\n",
            "Empty DataFrame\n",
            "Columns: [job_id, query, job_type, total_slot_ms, slices]\n",
            "Index: []\n"
          ]
        }
      ],
      "source": [
        "query = \"\"\"SELECT\n",
        "  *\n",
        "FROM (\n",
        "  SELECT\n",
        "    timeline.job_id AS job_id,\n",
        "    jobs.query AS query,\n",
        "    jobs.job_type AS job_type,\n",
        "    ROUND(MAX(timeline.period_slot_ms/1000)) AS total_slot_ms,\n",
        "    COUNT(timeline.job_id) AS slices\n",
        "  FROM\n",
        "    `\"\"\"+project_id+\"`.`region-\"+region+\"\"\"`.INFORMATION_SCHEMA.JOBS_TIMELINE AS timeline\n",
        "  JOIN\n",
        "    `\"\"\"+project_id+\"`.`region-\"+region+\"\"\"`.INFORMATION_SCHEMA.JOBS AS jobs\n",
        "  ON\n",
        "    timeline.job_id = jobs.job_id\n",
        "  WHERE\n",
        "    period_start BETWEEN CAST(\\\"\"\"\"+start_timestamp+\"\"\"\\\" AS TIMESTAMP)\n",
        "  AND \"\"\"+\"CAST(\\\"\"+end_timestamp+\"\\\" AS TIMESTAMP)\"\"\"+\"\"\"\n",
        "  GROUP BY\n",
        "    job_id,\n",
        "    query,\n",
        "    job_type\n",
        "  ORDER BY\n",
        "    slices DESC)\n",
        "WHERE\n",
        "  total_slot_ms>\"\"\"+str(max_slots)\n",
        "\n",
        "if verbose:\n",
        "  print(query)\n",
        "\n",
        "df = pd.io.gbq.read_gbq(query=query, project_id=project_id, dialect='standard')\n",
        "print(df)\n"
      ]
    },
    {
      "cell_type": "markdown",
      "source": [
        "**Step 15**\n",
        "\n",
        "Here we calculate what is the optimal baseline slots value, if any."
      ],
      "metadata": {
        "id": "xDL0sCpBdg7H"
      }
    },
    {
      "cell_type": "code",
      "source": [
        "query = \"\"\"SELECT\n",
        "  bucket,\n",
        "  cost_usd,\n",
        "  MAX(percentage) AS percentage\n",
        "FROM\n",
        "  \"\"\"+dataset+\"\"\".calculated\n",
        "WHERE\n",
        "  percentage>60\n",
        "GROUP BY\n",
        "  bucket, cost_usd\"\"\"\n",
        "\n",
        "if verbose:\n",
        "  print(query)\n",
        "\n",
        "df = pd.io.gbq.read_gbq(query=query, project_id=project_id, dialect='standard')\n",
        "if df.empty:\n",
        "  print('It is recommended not to set a baseline.')\n",
        "else:\n",
        "  bucket = df['bucket'][0]\n",
        "  cost = df['cost_usd'][0]\n",
        "  percentage = df['percentage'][0]\n",
        "  if percentage>60 :\n",
        "    print(\"Setting a baseline of \"+str(bucket)+\" with 3 Year commitment will save you \"+str(cost*0.4)+\" dollars for the tested period.\")\n",
        "  if percentage>80 :\n",
        "    print(\"Setting a baseline of \"+str(bucket)+\" with 1 Year commitment will save you \"+str(cost*0.2)+\" dollars for the tested period.\")"
      ],
      "metadata": {
        "id": "jbgVvPKFdlf4"
      },
      "execution_count": null,
      "outputs": []
    },
    {
      "cell_type": "markdown",
      "metadata": {
        "id": "jVeUQWLFi9oh"
      },
      "source": [
        "**Step 16**<br>\n",
        "Cleanup"
      ]
    },
    {
      "cell_type": "code",
      "execution_count": null,
      "metadata": {
        "colab": {
          "base_uri": "https://localhost:8080/"
        },
        "executionInfo": {
          "elapsed": 2268,
          "status": "ok",
          "timestamp": 1728206130915,
          "user": {
            "displayName": "",
            "userId": ""
          },
          "user_tz": -180
        },
        "id": "C83CPECgi8QH",
        "outputId": "866ede95-dfb8-4add-9d72-7582d85983f4"
      },
      "outputs": [
        {
          "name": "stdout",
          "output_type": "stream",
          "text": [
            "Delete complete.\n"
          ]
        }
      ],
      "source": [
        "queries = []\n",
        "queries.append(\"drop view \"+dataset+\".calculated\")\n",
        "queries.append(\"drop view \"+dataset+\".buckets_count\")\n",
        "queries.append(\"drop view \"+dataset+\".bucketed\")\n",
        "queries.append(\"drop table \"+dataset+\".bytes\")\n",
        "queries.append(\"drop table \"+dataset+\".slots\")\n",
        "\n",
        "for query in queries:\n",
        "  df = pd.io.gbq.read_gbq(query=query, project_id=project_id, dialect='standard')\n",
        "\n",
        "print (\"Delete complete.\")"
      ]
    }
  ],
  "metadata": {
    "colab": {
      "cell_execution_strategy": "setup",
      "name": "Slot_machine",
      "provenance": []
    },
    "kernelspec": {
      "display_name": "Python 3",
      "name": "python3"
    },
    "language_info": {
      "name": "python"
    }
  },
  "nbformat": 4,
  "nbformat_minor": 0
}